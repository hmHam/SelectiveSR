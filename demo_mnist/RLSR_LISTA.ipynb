{
 "cells": [
  {
   "cell_type": "markdown",
   "metadata": {},
   "source": [
    "### MNISTの画像を準備"
   ]
  },
  {
   "cell_type": "markdown",
   "metadata": {},
   "source": [
    "超解像復元の問題は、(連続状態集合S, 可算有限行動集合A, 報酬関数R, 不明な遷移関数T, 初期状態の生起確立P)からなるマルコフ決定過程で表され、高解像の復元画像を表す各状態を表す$s \\in \\mathbb{R}^{h \\times w}$に顕微鏡でのぼやけ具合を表すフィルタを畳み込んだ値と、目標値である低解像度画像$ b \\in \\mathbb{R}^{(h - p + 1) \\times (w - q + 1)}$との差を用いた報酬\n",
    "$$ R = - \\| s - b \\|^2 $$\n",
    "の総和を最大化するような、適切な行動(フィルタ)を決定的方策を学習する課題であると見なす事ができる。 "
   ]
  },
  {
   "cell_type": "markdown",
   "metadata": {},
   "source": [
    "ここで、問題になるのは、状態集合が連続値で、一回の決定でたどり着ける状態とたどり着けない状態が存在も存在するし、さらには初期状態によって永遠にたどり着けない状態も存在する事である。この問題を解消しないと詰むのでは？  \n",
    "-> 周期性のないマルコフ決定過程が強化学習問題において、問題なく最適な決定的方策を学習する事ができうるのかを調べる。"
   ]
  },
  {
   "cell_type": "code",
   "execution_count": 2,
   "metadata": {},
   "outputs": [
    {
     "data": {
      "text/plain": [
       "<torch._C.Generator at 0x7f329d7185d0>"
      ]
     },
     "execution_count": 2,
     "metadata": {},
     "output_type": "execute_result"
    }
   ],
   "source": [
    "import random\n",
    "from collections import deque, namedtuple\n",
    "\n",
    "import torch as tc\n",
    "from torch import nn\n",
    "from torch import optim\n",
    "from torch.nn import functional as F\n",
    "import torchvision as tv\n",
    "from torchvision import transforms\n",
    "from torchvision import datasets as d\n",
    "from torch.utils.data import DataLoader\n",
    "from torch.utils.data.dataset import Subset\n",
    "\n",
    "import numpy as np\n",
    "from matplotlib import pyplot as plt\n",
    "from scipy.signal import fftconvolve\n",
    "from tqdm.notebook import tqdm\n",
    "\n",
    "device = tc.device('cuda:0')\n",
    "random.seed(0)\n",
    "tc.random.manual_seed(0)"
   ]
  },
  {
   "cell_type": "code",
   "execution_count": 3,
   "metadata": {},
   "outputs": [
    {
     "name": "stdout",
     "output_type": "stream",
     "text": [
      "torch.Size([36017, 1, 28, 28])\n",
      "torch.Size([10000, 1, 28, 28])\n"
     ]
    }
   ],
   "source": [
    "# データは num = 0の画像のみ\n",
    "transform = transforms.Compose([transforms.ToTensor()])\n",
    "trainset = d.MNIST(root='./data', train=True, download=True, transform=transform)\n",
    "trainset = trainset.data[trainset.targets <= 5]\n",
    "trainset = trainset.reshape(trainset.shape[0], 1, 28, 28)\n",
    "\n",
    "testset = d.MNIST(root='./data', train=False, download=True, transform=transform)\n",
    "testset = testset.data\n",
    "testset = testset.reshape(testset.shape[0], 1, 28, 28)\n",
    "\n",
    "print(trainset.shape)\n",
    "print(testset.shape)"
   ]
  },
  {
   "cell_type": "code",
   "execution_count": 15,
   "metadata": {},
   "outputs": [
    {
     "data": {
      "text/plain": [
       "tensor([[0.0352, 0.0387, 0.0399, 0.0387, 0.0352],\n",
       "        [0.0387, 0.0425, 0.0438, 0.0425, 0.0387],\n",
       "        [0.0399, 0.0438, 0.0452, 0.0438, 0.0399],\n",
       "        [0.0387, 0.0425, 0.0438, 0.0425, 0.0387],\n",
       "        [0.0352, 0.0387, 0.0399, 0.0387, 0.0352]], dtype=torch.float64)"
      ]
     },
     "execution_count": 15,
     "metadata": {},
     "output_type": "execute_result"
    }
   ],
   "source": [
    "with open('kernel.npy', 'rb') as f:\n",
    "    kernel = np.load(f)\n",
    "kernel = tc.tensor(kernel)\n",
    "kernel"
   ]
  },
  {
   "cell_type": "code",
   "execution_count": 5,
   "metadata": {},
   "outputs": [],
   "source": [
    "class Lista(nn.Module):\n",
    "    def __init__(self):\n",
    "        # params: Q, P, theta\n",
    "        super(Lista, self).__init__()\n",
    "        \n",
    "        # 層数\n",
    "        self.T = 5\n",
    "        \n",
    "        # 1層目\n",
    "        self.conv_Q1 = nn.Conv2d(1, 1, 5, padding=2)\n",
    "        self.theta1 = nn.Parameter(tc.tensor(0.0))\n",
    "        \n",
    "        # 2層目\n",
    "        self.conv_P2 = nn.Conv2d(1, 1, 5, padding=2)\n",
    "        self.conv_Q2 = nn.Conv2d(1, 1, 5, padding=2)\n",
    "        self.theta2 = nn.Parameter(tc.tensor(0.0))\n",
    "        \n",
    "        # 3層目\n",
    "        self.conv_P3 = nn.Conv2d(1, 1, 5, padding=2)\n",
    "        self.conv_Q3 = nn.Conv2d(1, 1, 5, padding=2)\n",
    "        self.theta3 = nn.Parameter(tc.tensor(0.0))\n",
    "        \n",
    "        # 4層目\n",
    "        self.conv_P4 = nn.Conv2d(1, 1, 5, padding=2)\n",
    "        self.conv_Q4 = nn.Conv2d(1, 1, 5, padding=2)\n",
    "        self.theta4 = nn.Parameter(tc.tensor(0.0))\n",
    "        \n",
    "        # 5層目\n",
    "        self.conv_P5 = nn.Conv2d(1, 1, 5, padding=2)\n",
    "        self.conv_Q5 = nn.Conv2d(1, 1, 5, padding=2)\n",
    "        self.theta5 = nn.Parameter(tc.tensor(0.0))\n",
    "        \n",
    "        self.pre_activation_params = None # 最終層の活性化関数の入力\n",
    "        \n",
    "    def forward(self, b):\n",
    "        # 1層目\n",
    "        v = self.first_layer(b=b)\n",
    "        # 2層目\n",
    "        v = self.second_layer(v=v, b=b)\n",
    "        # 3層目\n",
    "        v = self.third_layer(v=v, b=b)\n",
    "        # 4\n",
    "        v = self.fourth_layer(v=v, b=b)\n",
    "        # 5\n",
    "        v = self.fifth_layer(v=v, b=b)\n",
    "        return v\n",
    "    \n",
    "    def first_layer(self, b, v=None):\n",
    "        v = self.conv_Q1(b)\n",
    "        return tc.sign(v) * F.relu(v - self.theta1)\n",
    "    \n",
    "    def second_layer(self, b, v):\n",
    "        v = self.conv_P2(v) + self.conv_Q2(b)\n",
    "        return tc.sign(v) * F.relu(v - self.theta2)\n",
    "    \n",
    "    def third_layer(self, b, v):\n",
    "        v = self.conv_P3(v) + self.conv_Q3(b)\n",
    "        return tc.sign(v) * F.relu(v - self.theta3)\n",
    "    \n",
    "    def fourth_layer(self, b, v):\n",
    "        v = self.conv_P4(v) + self.conv_Q4(b)\n",
    "        return tc.sign(v) * F.relu(v - self.theta4)\n",
    "    \n",
    "    def fifth_layer(self, b, v):\n",
    "        v = self.conv_P5(v) + self.conv_Q5(b)\n",
    "        self.pre_activation_params = v\n",
    "        return tc.sign(v) * F.relu(v - self.theta5)"
   ]
  },
  {
   "cell_type": "code",
   "execution_count": 6,
   "metadata": {},
   "outputs": [],
   "source": [
    "lista = Lista()\n",
    "lista.load_state_dict(tc.load('lista.pth'))\n",
    "lista.to(device, dtype=tc.double)\n",
    "mse_loss = nn.MSELoss()"
   ]
  },
  {
   "cell_type": "code",
   "execution_count": 57,
   "metadata": {},
   "outputs": [
    {
     "name": "stdout",
     "output_type": "stream",
     "text": [
      "torch.Size([28, 28])\n"
     ]
    },
    {
     "data": {
      "text/plain": [
       "1297.185205490709"
      ]
     },
     "execution_count": 57,
     "metadata": {},
     "output_type": "execute_result"
    }
   ],
   "source": [
    "image = trainset[0][0]\n",
    "image = image.to(device)\n",
    "print(image.shape)\n",
    "im = tc.tensor(fftconvolve(image.cpu(), kernel, mode='same')).to(device)\n",
    "out = lista(im.unsqueeze(0).unsqueeze(0)).squeeze(0).squeeze(0)\n",
    "mse_loss(out, image).item()"
   ]
  },
  {
   "cell_type": "code",
   "execution_count": 17,
   "metadata": {},
   "outputs": [
    {
     "data": {
      "text/plain": [
       "AutoEncoder(\n",
       "  (conv1): Conv2d(1, 8, kernel_size=(5, 5), stride=(1, 1))\n",
       "  (conv2): Conv2d(8, 6, kernel_size=(5, 5), stride=(1, 1))\n",
       "  (conv3): Conv2d(6, 4, kernel_size=(5, 5), stride=(1, 1))\n",
       "  (conv_transpose1): ConvTranspose2d(4, 6, kernel_size=(5, 5), stride=(1, 1))\n",
       "  (conv_transpose2): ConvTranspose2d(6, 8, kernel_size=(5, 5), stride=(1, 1))\n",
       "  (conv_transpose3): ConvTranspose2d(8, 1, kernel_size=(5, 5), stride=(1, 1))\n",
       ")"
      ]
     },
     "execution_count": 17,
     "metadata": {},
     "output_type": "execute_result"
    }
   ],
   "source": [
    "class AutoEncoder(nn.Module):\n",
    "    def __init__(self):\n",
    "        super(AutoEncoder, self).__init__()\n",
    "        self.conv1 = nn.Conv2d(1, 8, 5)\n",
    "        self.conv2 = nn.Conv2d(8, 6, 5)\n",
    "        self.conv3 = nn.Conv2d(6, 4, 5)\n",
    "        self.conv_transpose1 = nn.ConvTranspose2d(4, 6, 5)        \n",
    "        self.conv_transpose2 = nn.ConvTranspose2d(6, 8, 5)\n",
    "        self.conv_transpose3 = nn.ConvTranspose2d(8, 1, 5)\n",
    "    \n",
    "    def forward(self, x):\n",
    "        x = self.encode(x)\n",
    "        return self.decode(x)\n",
    "        \n",
    "    \n",
    "    def encode(self, x):\n",
    "        x = F.relu(self.conv1(x))\n",
    "        x = F.relu(self.conv2(x))\n",
    "        x = F.relu(self.conv3(x))\n",
    "        return x\n",
    "    \n",
    "    def decode(self, x):\n",
    "        x = F.relu(self.conv_transpose1(x))\n",
    "        x = F.relu(self.conv_transpose2(x))\n",
    "        x = F.relu(self.conv_transpose3(x))\n",
    "        return x\n",
    "    \n",
    "AE_MNIST = AutoEncoder()\n",
    "AE_MNIST.load_state_dict(tc.load('AE_mnist16x16.pth'))\n",
    "AE_MNIST.to(device, dtype=tc.double)"
   ]
  },
  {
   "cell_type": "markdown",
   "metadata": {},
   "source": [
    "### 環境を用意する\n",
    "ガウシアンフィルタで３回ぼかした画像を初期state、元の画像を目標画像とする。  \n",
    "本来の超解像復元では、目標画像が顕微鏡のぼやけフィルタとノイズを経た低解像度画像が目標画像。"
   ]
  },
  {
   "cell_type": "code",
   "execution_count": 45,
   "metadata": {},
   "outputs": [],
   "source": [
    "# Actions: [1層目の処理, 2層目の処理, 3層目の処理, 4層目の処理, 5層目の処理, 終了]\n",
    "actions = [lista.first_layer, lista.second_layer, lista.third_layer, lista.fourth_layer, lista.fifth_layer]\n",
    "\n",
    "class InnerState(object):\n",
    "    def __init__(self, now_img, init_img):\n",
    "        # init_stateはスカラにしたほうがいい？\n",
    "        if not tc.is_tensor(now_img):\n",
    "            now_img = tc.tensor(now_img).to(device)\n",
    "        if not tc.is_tensor(init_img):\n",
    "            init_img = tc.tensor(init_img).to(device)\n",
    "        self.x = tc.stack([now_img, init_img])\n",
    "    \n",
    "    @property\n",
    "    def now(self):\n",
    "        return self.x[0]\n",
    "    \n",
    "    @property\n",
    "    def init(self):\n",
    "        return self.x[1]\n",
    "        \n",
    "class OuterState(object):\n",
    "    def __init__(self, inner_state):\n",
    "        # Add chunnel\n",
    "        with tc.no_grad():\n",
    "            now = inner_state.now.unsqueeze(0).unsqueeze(0)\n",
    "            now = AE_MNIST.encode(now).squeeze(0)\n",
    "            init = inner_state.init.unsqueeze(0).unsqueeze(0)\n",
    "            init = AE_MNIST.encode(init).squeeze(0)\n",
    "        self.v = tc.cat([now, init])\n",
    "# 最終的には、これがオートエンコーダーで特徴量抽出したものになる。\n",
    "# class OuterState(object):\n",
    "#     def __init__(self, inner_state):\n",
    "#         # とりあえずそのまま使う\n",
    "#         self.v = inner_state.x\n",
    "        \n",
    "\n",
    "END = lista.T\n",
    "class ReconstructionEnv(object):\n",
    "    def __init__(self, train=True):\n",
    "        self._state = None\n",
    "        self.train = train\n",
    "        self._step_count = 0\n",
    "    \n",
    "    def reset(self):\n",
    "        '''\n",
    "        数字が0のデータからサンプルを選んでくる。\n",
    "        1)targetとなる画像を、self._bに\n",
    "        2)targetをぼかした画像を、self._stateにセット\n",
    "        '''\n",
    "        self._step_count = 0\n",
    "        \n",
    "        #1) 目標画像の準備\n",
    "        if self.train:\n",
    "            self._b = trainset[tc.randint(0, trainset.shape[0], ())][0] # (28, 28)\n",
    "        else:\n",
    "            self._b = testset[tc.randint(0, testset.shape[0], ())][0] # (28, 28)\n",
    "        #2) kernelsの順番でぼかす。するとactionsを前から順番に採用するのが最高のはず\n",
    "        self.init_state = fftconvolve(self._b.numpy(), kernel, mode='same')\n",
    "        self._b = self._b.to(device)\n",
    "        self.init_state = tc.tensor(self.init_state).to(device)\n",
    "        \n",
    "        with tc.no_grad():\n",
    "            net_out = lista(self.init_state.unsqueeze(0).unsqueeze(0)).squeeze(0).squeeze(0)\n",
    "            self.lista_score = mse_loss(net_out, self._b)\n",
    "            print(self.lista_score)\n",
    "        \n",
    "        self._state = InnerState(self.init_state, self.init_state)\n",
    "        \n",
    "    @property\n",
    "    def state(self):\n",
    "        return OuterState(self._state)\n",
    "    \n",
    "    def next_state(self, action):\n",
    "        if action == END:\n",
    "            return self._state\n",
    "        action_layer = actions[action]\n",
    "        now_state = self._state.now.unsqueeze(0).unsqueeze(0)\n",
    "        init_state = self._state.init.unsqueeze(0).unsqueeze(0)\n",
    "        with tc.no_grad():\n",
    "            out = action_layer(v=now_state, b=init_state).squeeze(0).squeeze(0)\n",
    "        return InnerState(out, self.init_state)\n",
    "    \n",
    "    def reward_func(self, state, action, next_state, penalty=-100.0):\n",
    "        current_loss = mse_loss(next_state.now, self._b)\n",
    "        \n",
    "        if action == END:\n",
    "            # 終了を選んだ際にListaの結果より誤差が大きかったらpenalty\n",
    "            if current_loss > self.lista_score:\n",
    "                return penalty\n",
    "            return (-1) * penalty\n",
    "\n",
    "        r = -1.0\n",
    "        diff = mse_loss(state.now, self._b) - current_loss\n",
    "        if diff > 0:\n",
    "            r = r + penalty\n",
    "        # 層の数より多い回数のフィルタを選んだら大幅にペナルティ\n",
    "        if self._step_count >= lista.T:\n",
    "            r = r + penalty\n",
    "        return -1.0\n",
    "    \n",
    "    def step(self, action):\n",
    "        self._step_count += 1  # インクリメント\n",
    "        next_state = self.next_state(action)\n",
    "        reward = self.reward_func(self._state, action, next_state)\n",
    "        done = (action == END)  # 5回フィルタをかけたら終わり\n",
    "        self._state = next_state  # そのまま代入して大丈夫。今回の環境では次の状態が常に存在するので。\n",
    "        return OuterState(next_state), reward, done"
   ]
  },
  {
   "cell_type": "markdown",
   "metadata": {},
   "source": [
    "### AgentにValueベースの方策を学習させて行動評価させる"
   ]
  },
  {
   "cell_type": "code",
   "execution_count": 21,
   "metadata": {},
   "outputs": [],
   "source": [
    "LAST_FILTER_WIDTH = 1\n",
    "class ConvQualityFunction(nn.Module):\n",
    "    def __init__(self, action_dim):\n",
    "        super(ConvQualityFunction, self).__init__()\n",
    "        self.conv1 = nn.Conv2d(8, 6, 5)\n",
    "        self.pool = nn.MaxPool2d(2, 2)\n",
    "        self.conv2 = nn.Conv2d(6, 16, 5)\n",
    "        self.fc1 = nn.Linear(16*LAST_FILTER_WIDTH*LAST_FILTER_WIDTH, 120)\n",
    "        self.dropout1 = nn.Dropout(0.5)\n",
    "        self.fc2 = nn.Linear(120, 84)\n",
    "        self.dropout2 = nn.Dropout(0.2)\n",
    "        self.fc3 = nn.Linear(84, action_dim)\n",
    "    \n",
    "    def forward(self, x):\n",
    "        x = self.pool(F.relu(self.conv1(x)))\n",
    "        x = self.pool(F.relu(self.conv2(x)))\n",
    "        x = x.view(-1, 16*LAST_FILTER_WIDTH*LAST_FILTER_WIDTH)\n",
    "        x = F.relu(\n",
    "            self.dropout1(self.fc1(x))\n",
    "        )\n",
    "        x = F.relu(\n",
    "            self.dropout2(self.fc2(x))\n",
    "        )\n",
    "        return self.fc3(x)\n",
    "\n",
    "\n",
    "class DQNAgent(object):\n",
    "    def __init__(self, action_dim=lista.T + 1, eps=0.1, lr=0.1, gamma=0.9):\n",
    "        self.action_dim = action_dim\n",
    "        self.eps = eps\n",
    "        self.gamma = gamma\n",
    "        self.Q_function = ConvQualityFunction(action_dim)\n",
    "        self.Q_function.to(device)\n",
    "        self.teacher_model = ConvQualityFunction(action_dim)\n",
    "        self.teacher_model.to(device)\n",
    "#         self.criterion = nn.MSELoss()\n",
    "        self.criterion = F.smooth_l1_loss\n",
    "        self.optimizer = optim.RMSprop(self.Q_function.parameters(), lr=lr)\n",
    "    \n",
    "    def policy(self, state, train=False):\n",
    "        if train and tc.rand(()) < self.eps:\n",
    "            return tc.randint(self.action_dim, ())\n",
    "        with tc.no_grad():\n",
    "            action_qualities = self.Q_function(state.v.unsqueeze(0))\n",
    "        # Valueベースでactionを決定する\n",
    "        return tc.argmax(action_qualities)\n",
    "    \n",
    "    def update(self, batch):\n",
    "        # Experience Replayに基づいて行動評価関数のパラメーターを更新する。\n",
    "        estimation_qualities = []\n",
    "        true_qualities = []\n",
    "        for i, e in enumerate(batch):\n",
    "            est = self.Q_function(e.s.v)\n",
    "            v = e.r\n",
    "            if not e.d:\n",
    "                with tc.no_grad():\n",
    "                    v += self.gamma * tc.max(self.teacher_model(e.ns.v))\n",
    "            estimation_qualities.append(est[e.a])\n",
    "            true_qualities.append(v)\n",
    "        estimation_qualities = tc.stack(estimation_qualities)\n",
    "        true_qualities = tc.tensor(true_qualities).to(device)\n",
    "        self.optimizer.zero_grad()\n",
    "        loss = self.criterion(estimation_qualities, true_qualities)\n",
    "        loss.backward()\n",
    "        self.optimizer.step()\n",
    "    \n",
    "    def update_teacher(self):\n",
    "        self.teacher_model.load_state_dict(self.Q_function.state_dict())"
   ]
  },
  {
   "cell_type": "code",
   "execution_count": 10,
   "metadata": {},
   "outputs": [],
   "source": [
    "Experience = namedtuple('Experience', ('s', 'a', 'ns', 'r', 'd'))\n",
    "\n",
    "\n",
    "def train(agent, seed=0, train_episode_num=10000, teacher_update_freq=3):\n",
    "    experiences = deque(maxlen=1024)\n",
    "    train_count = 0\n",
    "    reward_records = []\n",
    "    \n",
    "    for _ in tqdm(range(train_episode_num)):\n",
    "        Ri = 0\n",
    "        env = ReconstructionEnv()\n",
    "        env.reset()\n",
    "        for i in range(10):\n",
    "            action = agent.policy(env.state, train=True)\n",
    "            next_state, reward, done = env.step(action)\n",
    "            e = Experience(env.state, action, next_state, reward, done)\n",
    "            Ri += reward\n",
    "            if done:\n",
    "                break\n",
    "            \n",
    "        if len(experiences) == 1024:\n",
    "            batch = random.sample(experiences, 32)\n",
    "            agent.update(batch)\n",
    "            train_count += 1\n",
    "        \n",
    "        if train_count % teacher_update_freq == 0:\n",
    "            agent.update_teacher()\n",
    "        \n",
    "        reward_records.append(Ri)\n",
    "    return reward_records"
   ]
  },
  {
   "cell_type": "code",
   "execution_count": 20,
   "metadata": {},
   "outputs": [
    {
     "data": {
      "application/vnd.jupyter.widget-view+json": {
       "model_id": "6de6ebc726f242cf94e82f5189ddd67c",
       "version_major": 2,
       "version_minor": 0
      },
      "text/plain": [
       "HBox(children=(HTML(value=''), FloatProgress(value=0.0, max=10000.0), HTML(value='')))"
      ]
     },
     "metadata": {},
     "output_type": "display_data"
    },
    {
     "name": "stdout",
     "output_type": "stream",
     "text": [
      "\n"
     ]
    }
   ],
   "source": [
    "seed = 0\n",
    "agent = DQNAgent(eps=0.3, lr=0.1)\n",
    "agent.Q_function.to(device, dtype=tc.double)\n",
    "agent.teacher_model.to(device)\n",
    "rewards = train(agent, train_episode_num=10000)"
   ]
  },
  {
   "cell_type": "code",
   "execution_count": 22,
   "metadata": {},
   "outputs": [],
   "source": [
    "def moving_average(r, n=100):\n",
    "    ret = tc.cumsum(r, dim=0, dtype=tc.float)\n",
    "    ret[n:] = ret[n:] - ret[:-n]\n",
    "    return ret[n - 1:] / n"
   ]
  },
  {
   "cell_type": "code",
   "execution_count": 23,
   "metadata": {},
   "outputs": [
    {
     "data": {
      "text/plain": [
       "<matplotlib.legend.Legend at 0x7f3228865ef0>"
      ]
     },
     "execution_count": 23,
     "metadata": {},
     "output_type": "execute_result"
    },
    {
     "data": {
      "image/png": "[encoded data removed]",
      "text/plain": [
       "<Figure size 432x288 with 1 Axes>"
      ]
     },
     "metadata": {
      "needs_background": "light"
     },
     "output_type": "display_data"
    }
   ],
   "source": [
    "plt.plot(moving_average(tc.tensor(rewards), n=100), label='got reward while training')\n",
    "plt.legend(loc='best')"
   ]
  },
  {
   "cell_type": "code",
   "execution_count": 34,
   "metadata": {},
   "outputs": [],
   "source": [
    "action_labels = ['first_layer', 'second_layer', 'third_layer', 'fourth_layer', 'fifth_layer', 'END']\n",
    "def test_policy(agent, fixed_action=None, max_iter=10):\n",
    "    env = ReconstructionEnv()\n",
    "    env.reset()\n",
    "    done = False\n",
    "    fig = plt.figure(figsize=(2, 2))\n",
    "    plt.title('target')\n",
    "    plt.imshow(env._b.cpu())\n",
    "    plt.axis('off')\n",
    "    plt.show()\n",
    "    \n",
    "    images = [env._state.x[0].cpu()]\n",
    "    fig = plt.figure(figsize=(30, 6))\n",
    "    print('回数 = ', lista.T)\n",
    "    took_actions = []\n",
    "    for _ in range(max_iter):\n",
    "        if fixed_action is None:\n",
    "            a = agent.policy(env.state)\n",
    "        else:\n",
    "            a = fixed_action\n",
    "        took_actions.append(action_labels[a])\n",
    "        next_state, reward, done = env.step(a)\n",
    "        if done:\n",
    "            break\n",
    "        images.append(env._state.now.cpu())\n",
    "    print('step_count', env._step_count)\n",
    "    for i, image in enumerate(images, start=1):\n",
    "        plt.subplot(1, len(images), i)\n",
    "        plt.imshow(image)\n",
    "        plt.axis('off')\n",
    "    print('lista score:', env.lista_score.item())\n",
    "    print('now score', mse_loss(env._b, env._state.now).item())\n",
    "    plt.show()\n",
    "    print(took_actions)"
   ]
  },
  {
   "cell_type": "code",
   "execution_count": 46,
   "metadata": {},
   "outputs": [
    {
     "name": "stdout",
     "output_type": "stream",
     "text": [
      "tensor(1028.5232, device='cuda:0', dtype=torch.float64)\n"
     ]
    },
    {
     "data": {
      "image/png": "[encoded data removed]",
      "text/plain": [
       "<Figure size 144x144 with 1 Axes>"
      ]
     },
     "metadata": {
      "needs_background": "light"
     },
     "output_type": "display_data"
    },
    {
     "name": "stdout",
     "output_type": "stream",
     "text": [
      "回数 =  5\n",
      "step_count 3\n",
      "lista score: 1028.523197033609\n",
      "now score 6640.963046486816\n"
     ]
    },
    {
     "data": {
      "image/png": "[encoded data removed]",
      "text/plain": [
       "<Figure size 2160x432 with 3 Axes>"
      ]
     },
     "metadata": {
      "needs_background": "light"
     },
     "output_type": "display_data"
    },
    {
     "name": "stdout",
     "output_type": "stream",
     "text": [
      "['first_layer', 'first_layer', 'END']\n"
     ]
    }
   ],
   "source": [
    "test_policy(agent=agent)"
   ]
  },
  {
   "cell_type": "code",
   "execution_count": 43,
   "metadata": {},
   "outputs": [],
   "source": [
    "env = ReconstructionEnv()\n",
    "loss_fn = nn.MSELoss()\n",
    "env.reset()\n",
    "losses = []\n",
    "for i in range(5):\n",
    "    for i in range(i):\n",
    "        next_state, reward, done = env.step(i)\n",
    "    loss = loss_fn(env._state.now, env._b)\n",
    "    losses.append(loss)"
   ]
  },
  {
   "cell_type": "code",
   "execution_count": 44,
   "metadata": {},
   "outputs": [
    {
     "data": {
      "text/plain": [
       "[<matplotlib.lines.Line2D at 0x7f3210093320>]"
      ]
     },
     "execution_count": 44,
     "metadata": {},
     "output_type": "execute_result"
    },
    {
     "data": {
      "image/png": "[encoded data removed]",
      "text/plain": [
       "<Figure size 432x288 with 1 Axes>"
      ]
     },
     "metadata": {
      "needs_background": "light"
     },
     "output_type": "display_data"
    }
   ],
   "source": [
    "plt.plot(range(1, 6), losses)"
   ]
  },
  {
   "cell_type": "code",
   "execution_count": 67,
   "metadata": {},
   "outputs": [
    {
     "data": {
      "application/vnd.jupyter.widget-view+json": {
       "model_id": "b5ad7d792fec41f2b395970ddf5deccb",
       "version_major": 2,
       "version_minor": 0
      },
      "text/plain": [
       "HBox(children=(HTML(value=''), FloatProgress(value=0.0, max=60000.0), HTML(value='')))"
      ]
     },
     "metadata": {},
     "output_type": "display_data"
    },
    {
     "name": "stdout",
     "output_type": "stream",
     "text": [
      "\n"
     ]
    },
    {
     "data": {
      "text/plain": [
       "840"
      ]
     },
     "execution_count": 67,
     "metadata": {},
     "output_type": "execute_result"
    }
   ],
   "source": [
    "count = 0\n",
    "for _ in tqdm(range(60000)):\n",
    "    env = ReconstructionEnv(train)\n",
    "    loss_fn = nn.MSELoss()\n",
    "    losses = []\n",
    "    for i in range(1, 6):\n",
    "        env.reset()\n",
    "        for i in range(i):\n",
    "            next_state, reward, done = env.step(i)\n",
    "        loss = loss_fn(env._state.now, env._b)\n",
    "        losses.append(loss)\n",
    "    if np.argmin(losses) < 4:\n",
    "        count += 1\n",
    "count"
   ]
  },
  {
   "cell_type": "code",
   "execution_count": null,
   "metadata": {},
   "outputs": [],
   "source": []
  }
 ],
 "metadata": {
  "kernelspec": {
   "display_name": "Python 3",
   "language": "python",
   "name": "python3"
  },
  "language_info": {
   "codemirror_mode": {
    "name": "ipython",
    "version": 3
   },
   "file_extension": ".py",
   "mimetype": "text/x-python",
   "name": "python",
   "nbconvert_exporter": "python",
   "pygments_lexer": "ipython3",
   "version": "3.6.12"
  }
 },
 "nbformat": 4,
 "nbformat_minor": 4
}
