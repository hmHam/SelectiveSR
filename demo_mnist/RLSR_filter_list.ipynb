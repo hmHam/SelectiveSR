{
 "cells": [
  {
   "cell_type": "markdown",
   "metadata": {},
   "source": [
    "### MNISTの画像を準備"
   ]
  },
  {
   "cell_type": "markdown",
   "metadata": {},
   "source": [
    "超解像復元の問題は、(連続状態集合S, 可算有限行動集合A, 報酬関数R, 不明な遷移関数T, 初期状態の生起確立P)からなるマルコフ決定過程で表され、高解像の復元画像を表す各状態を表す$s \\in \\mathbb{R}^{h \\times w}$に顕微鏡でのぼやけ具合を表すフィルタを畳み込んだ値と、目標値である低解像度画像$ b \\in \\mathbb{R}^{(h - p + 1) \\times (w - q + 1)}$との差を用いた報酬\n",
    "$$ R = - \\| s - b \\|^2 $$\n",
    "の総和を最大化するような、適切な行動(フィルタ)を決定的方策を学習する課題であると見なす事ができる。 "
   ]
  },
  {
   "cell_type": "markdown",
   "metadata": {},
   "source": [
    "ここで、問題になるのは、状態集合が連続値で、一回の決定でたどり着ける状態とたどり着けない状態が存在も存在するし、さらには初期状態によって永遠にたどり着けない状態も存在する事である。この問題を解消しないと詰むのでは？  \n",
    "-> 周期性のないマルコフ決定過程が強化学習問題において、問題なく最適な決定的方策を学習する事ができうるのかを調べる。"
   ]
  },
  {
   "cell_type": "code",
   "execution_count": 17,
   "metadata": {},
   "outputs": [],
   "source": [
    "from matplotlib import pyplot as plt\n",
    "import torch as tc\n",
    "from torch import nn\n",
    "from torch import optim\n",
    "from torch.nn import functional as F\n",
    "import torchvision as tv\n",
    "from torchvision import transforms\n",
    "from torchvision import datasets as d\n",
    "from torch.utils.data import DataLoader\n",
    "from torch.utils.data.dataset import Subset\n",
    "from scipy.signal import fftconvolve\n",
    "\n",
    "\n",
    "device = tc.device('cuda:0')"
   ]
  },
  {
   "cell_type": "code",
   "execution_count": 18,
   "metadata": {},
   "outputs": [],
   "source": [
    "# データは num = 0の画像のみ\n",
    "transform = transforms.Compose([transforms.ToTensor()])\n",
    "whole_trainset = d.MNIST(root='./data', train=True, download=True, transform=transform)\n",
    "# train_mask = (whole_trainset.targets == 0).nonzero()[:, 0]\n",
    "# trainset = Subset(whole_trainset, train_mask)\n",
    "\n",
    "whole_testset = d.MNIST(root='./data', train=False, download=True, transform=transform)\n",
    "# test_mask  = (whole_testset.targets == 0).nonzero()[:, 0]\n",
    "# testset = Subset(whole_testset, test_mask)\n",
    "trainloader = DataLoader(whole_trainset, shuffle=True)\n",
    "testloader = DataLoader(whole_testset, shuffle=False)"
   ]
  },
  {
   "cell_type": "code",
   "execution_count": 19,
   "metadata": {},
   "outputs": [
    {
     "data": {
      "text/plain": [
       "60000"
      ]
     },
     "execution_count": 19,
     "metadata": {},
     "output_type": "execute_result"
    }
   ],
   "source": [
    "len(trainloader)"
   ]
  },
  {
   "cell_type": "code",
   "execution_count": 20,
   "metadata": {},
   "outputs": [],
   "source": [
    "import numpy as np\n",
    "from scipy.stats import multivariate_normal\n",
    "from skimage.restoration import wiener\n",
    "\n",
    "# 準備するフィルタのサイズを5x5に固定\n",
    "X, Y = np.meshgrid(np.arange(-2, 3, 1, dtype=np.float32), np.arange(-2, 3, 1, dtype=np.float32))\n",
    "gauss_filters = []\n",
    "std = 0.8\n",
    "f = np.vectorize(\n",
    "    lambda x, y: multivariate_normal([0.0, 0.0], np.diag([std]*2)).pdf([x, y])\n",
    ")\n",
    "kernel = f(X, Y)\n",
    "kernel = kernel / kernel.sum()\n",
    "kernel = kernel.astype(np.float32)\n",
    "gauss1 = kernel"
   ]
  },
  {
   "cell_type": "code",
   "execution_count": 21,
   "metadata": {},
   "outputs": [],
   "source": [
    "tc.random.manual_seed(0)\n",
    "kernel = tc.rand((5, 5))\n",
    "kernel = kernel / kernel.sum()\n",
    "random1 = kernel"
   ]
  },
  {
   "cell_type": "code",
   "execution_count": 22,
   "metadata": {},
   "outputs": [
    {
     "data": {
      "image/png": "[encoded data removed]",
      "text/plain": [
       "<Figure size 1080x360 with 5 Axes>"
      ]
     },
     "metadata": {
      "needs_background": "light"
     },
     "output_type": "display_data"
    },
    {
     "data": {
      "image/png": "[encoded data removed]",
      "text/plain": [
       "<Figure size 1080x360 with 5 Axes>"
      ]
     },
     "metadata": {
      "needs_background": "light"
     },
     "output_type": "display_data"
    }
   ],
   "source": [
    "from matplotlib import pyplot as plt\n",
    "import numpy as np\n",
    "data = iter(trainloader)\n",
    "plt.figure(figsize=(15, 5))\n",
    "ims = []\n",
    "for i in range(5):\n",
    "    images, label = next(data)\n",
    "    plt.subplot(1, 5, i+1)\n",
    "    ims.append(images[0][0])\n",
    "    plt.imshow(ims[-1])\n",
    "    plt.axis('off')\n",
    "plt.show()\n",
    "\n",
    "plt.figure(figsize=(15, 5))\n",
    "for i in range(5):\n",
    "    images, label = next(data)\n",
    "    plt.subplot(1, 5, i+1)\n",
    "    plt.imshow(fftconvolve(ims[i], kernel, mode='same'))\n",
    "    plt.axis('off')\n",
    "plt.show()"
   ]
  },
  {
   "cell_type": "code",
   "execution_count": 23,
   "metadata": {},
   "outputs": [
    {
     "data": {
      "image/png": "[encoded data removed]",
      "text/plain": [
       "<Figure size 432x288 with 1 Axes>"
      ]
     },
     "metadata": {
      "needs_background": "light"
     },
     "output_type": "display_data"
    },
    {
     "data": {
      "image/png": "[encoded data removed]",
      "text/plain": [
       "<Figure size 432x288 with 1 Axes>"
      ]
     },
     "metadata": {
      "needs_background": "light"
     },
     "output_type": "display_data"
    }
   ],
   "source": [
    "plt.imshow(gauss1)\n",
    "plt.axis('off')\n",
    "plt.show()\n",
    "\n",
    "plt.imshow(random1)\n",
    "plt.axis('off')\n",
    "plt.show()"
   ]
  },
  {
   "cell_type": "code",
   "execution_count": 24,
   "metadata": {},
   "outputs": [],
   "source": [
    "actions = [\n",
    "    lambda x: fftconvolve(x, gauss1, mode='same'),\n",
    "    lambda x: fftconvolve(x, random1, mode='same'),\n",
    "    lambda x: wiener(x, gauss1, 0.25),\n",
    "    lambda x: wiener(x, random1, 0.016),\n",
    "]\n",
    "action_labels = ['gauss1', 'gauss2', 'wiener_of_gauss1', 'wiener_of_gauss2']\n",
    "blur_filters = [gauss1, random1]"
   ]
  },
  {
   "cell_type": "code",
   "execution_count": 41,
   "metadata": {},
   "outputs": [
    {
     "data": {
      "application/vnd.jupyter.widget-view+json": {
       "model_id": "ba5d73264af34c29ad384c4fcc6948a9",
       "version_major": 2,
       "version_minor": 0
      },
      "text/plain": [
       "HBox(children=(HTML(value=''), FloatProgress(value=0.0, max=10000.0), HTML(value='')))"
      ]
     },
     "metadata": {},
     "output_type": "display_data"
    },
    {
     "name": "stdout",
     "output_type": "stream",
     "text": [
      "\n",
      "dict_keys([(0.001, 'dec1'), (0.001, 'dec2'), (0.001584893192461114, 'dec1'), (0.001584893192461114, 'dec2'), (0.0025118864315095794, 'dec1'), (0.0025118864315095794, 'dec2'), (0.003981071705534973, 'dec1'), (0.003981071705534973, 'dec2'), (0.00630957344480193, 'dec1'), (0.00630957344480193, 'dec2'), (0.01, 'dec1'), (0.01, 'dec2'), (0.01584893192461114, 'dec1'), (0.01584893192461114, 'dec2'), (0.025118864315095808, 'dec1'), (0.025118864315095808, 'dec2'), (0.039810717055349734, 'dec1'), (0.039810717055349734, 'dec2'), (0.06309573444801933, 'dec1'), (0.06309573444801933, 'dec2'), (0.1, 'dec1'), (0.1, 'dec2'), (0.15848931924611143, 'dec1'), (0.15848931924611143, 'dec2'), (0.25118864315095824, 'dec1'), (0.25118864315095824, 'dec2'), (0.3981071705534973, 'dec1'), (0.3981071705534973, 'dec2'), (0.6309573444801936, 'dec1'), (0.6309573444801936, 'dec2'), (1.0, 'dec1'), (1.0, 'dec2'), (1.584893192461114, 'dec1'), (1.584893192461114, 'dec2'), (2.5118864315095824, 'dec1'), (2.5118864315095824, 'dec2'), (3.981071705534973, 'dec1'), (3.981071705534973, 'dec2'), (6.309573444801936, 'dec1'), (6.309573444801936, 'dec2'), (10.0, 'dec1'), (10.0, 'dec2')])\n",
      "((0.01584893192461114, 'dec1'), 163636.58621985617)\n"
     ]
    }
   ],
   "source": [
    "from collections import defaultdict\n",
    "res = defaultdict(int)\n",
    "\n",
    "def loss(x):\n",
    "    return np.sum((dec1 - origin.numpy())**2)\n",
    "\n",
    "for _ in tqdm(range(10000)):\n",
    "    image, _ = next(iter(trainloader))\n",
    "    origin = image[0][0]\n",
    "    im = origin\n",
    "\n",
    "    for _ in range(3):\n",
    "        im = fftconvolve(im, random1, mode='same')\n",
    "\n",
    "    for param in np.logspace(-3, 1, 21):\n",
    "        dec1 = im.copy()\n",
    "        dec2 = im.copy()\n",
    "        for _ in range(3):\n",
    "            dec1 = np.maximum(0.0, wiener(dec1, random1, param))\n",
    "            dec2 = np.maximum(0.0, wiener(dec2, gauss1, param))\n",
    "        loss1 = loss(dec1)\n",
    "        loss2 = loss(dec2)\n",
    "        res[(param, 'dec1')] += loss1\n",
    "        res[(param, 'dec2')] += loss2\n",
    "\n",
    "print(res.keys())\n",
    "print(min(res.items(), key=lambda x: x[1]))"
   ]
  },
  {
   "cell_type": "markdown",
   "metadata": {},
   "source": [
    "### 以下環境"
   ]
  },
  {
   "cell_type": "code",
   "execution_count": 33,
   "metadata": {},
   "outputs": [
    {
     "data": {
      "text/plain": [
       "AutoEncoder(\n",
       "  (conv1): Conv2d(1, 8, kernel_size=(5, 5), stride=(1, 1))\n",
       "  (conv2): Conv2d(8, 4, kernel_size=(5, 5), stride=(1, 1))\n",
       "  (conv_transpose1): ConvTranspose2d(4, 8, kernel_size=(5, 5), stride=(1, 1))\n",
       "  (conv_transpose2): ConvTranspose2d(8, 1, kernel_size=(5, 5), stride=(1, 1))\n",
       ")"
      ]
     },
     "execution_count": 33,
     "metadata": {},
     "output_type": "execute_result"
    }
   ],
   "source": [
    "class AutoEncoder(nn.Module):\n",
    "    def __init__(self):\n",
    "        super(AutoEncoder, self).__init__()\n",
    "        self.conv1 = nn.Conv2d(1, 8, 5)\n",
    "        self.conv2 = nn.Conv2d(8, 4, 5)\n",
    "        self.conv_transpose1 = nn.ConvTranspose2d(4, 8, 5)\n",
    "        self.conv_transpose2 = nn.ConvTranspose2d(8, 1, 5)\n",
    "    \n",
    "    def forward(self, x):\n",
    "        x = self.encode(x)\n",
    "        return self.decode(x)\n",
    "        \n",
    "    \n",
    "    def encode(self, x):\n",
    "        x = F.relu(self.conv1(x))\n",
    "        x = F.relu(self.conv2(x))\n",
    "        return x\n",
    "    \n",
    "    def decode(self, x):\n",
    "        x = F.relu(self.conv_transpose1(x))\n",
    "        x = F.relu(self.conv_transpose2(x))\n",
    "        return x\n",
    "    \n",
    "AE_MNIST = AutoEncoder()\n",
    "AE_MNIST.load_state_dict(tc.load('AE_mnist20x20.pth'))\n",
    "AE_MNIST.to(device)"
   ]
  },
  {
   "cell_type": "code",
   "execution_count": 34,
   "metadata": {},
   "outputs": [
    {
     "data": {
      "text/plain": [
       "torch.Size([2, 4, 20, 20])"
      ]
     },
     "execution_count": 34,
     "metadata": {},
     "output_type": "execute_result"
    }
   ],
   "source": [
    "image, _ = next(iter(trainloader))\n",
    "image = image.to(device)\n",
    "image = tc.stack([image[0], image[0]])\n",
    "AE_MNIST.encode(image).shape"
   ]
  },
  {
   "cell_type": "code",
   "execution_count": 35,
   "metadata": {},
   "outputs": [],
   "source": [
    "T = 3\n",
    "class InnerState(object):\n",
    "    def __init__(self, now_img, init_img):\n",
    "        # init_stateはスカラにしたほうがいい？\n",
    "        if not tc.is_tensor(now_img):\n",
    "            now_img = tc.tensor(now_img).to(device)\n",
    "        if not tc.is_tensor(init_img):\n",
    "            init_img = tc.tensor(init_img).to(device)\n",
    "        self.x = tc.stack([now_img, init_img])\n",
    "    \n",
    "    @property\n",
    "    def now(self):\n",
    "        return self.x[0]\n",
    "    \n",
    "    @property\n",
    "    def init(self):\n",
    "        return self.x[1]     \n",
    "\n",
    "# 最終的には、これがオートエンコーダーで特徴量抽出したものになる。\n",
    "class OuterState(object):\n",
    "    def __init__(self, inner_state):\n",
    "        # Add chunnel\n",
    "        with tc.no_grad():\n",
    "            now = inner_state.now.unsqueeze(0).unsqueeze(0)\n",
    "            now = AE_MNIST.encode(now).squeeze(0)\n",
    "            init = inner_state.init.unsqueeze(0).unsqueeze(0)\n",
    "            init = AE_MNIST.encode(init).squeeze(0)\n",
    "        self.v = tc.cat([now, init])\n",
    "        \n",
    "\n",
    "class ReconstructionEnv(object):\n",
    "    def __init__(self, train=True):\n",
    "        self._state = None\n",
    "        self.train = train\n",
    "        self._step_count = 0\n",
    "    \n",
    "    def reset(self):\n",
    "        '''\n",
    "        数字が0のデータからサンプルを選んでくる。\n",
    "        1)targetとなる画像を、self._bに\n",
    "        2)targetをぼかした画像を、self._stateにセット\n",
    "        '''\n",
    "        self._step_count = 0\n",
    "        \n",
    "        #1) 目標画像の準備\n",
    "        if self.train:\n",
    "            self._b = next(iter(trainloader))[0]\n",
    "        else:\n",
    "            self._b = next(iter(testloader))[0]\n",
    "        self._b = self._b.squeeze(0).squeeze(0).to(device)\n",
    "        #2) ぼかした画像と初期の画像を2チャンネルで持った画像にしてみる\n",
    "        self.init_state = self._b.cpu().numpy()\n",
    "        self.decay_kernel_index = tc.randint(0, len(blur_filters), ())\n",
    "        decay_kernel = blur_filters[self.decay_kernel_index]\n",
    "        for _ in range(3):\n",
    "            self.init_state = fftconvolve(self.init_state, decay_kernel, mode='same')\n",
    "        self.init_state = tc.tensor(self.init_state).to(device)\n",
    "        self._state = InnerState(self.init_state, self.init_state)\n",
    "        \n",
    "    @property\n",
    "    def state(self):\n",
    "        return OuterState(self._state)\n",
    "    \n",
    "    def next_state(self, action):\n",
    "        linear_restore = tc.tensor(action(self._state.now.cpu().numpy())).to(device, dtype=tc.float)\n",
    "        non_linear_restore = F.relu(linear_restore)\n",
    "        return InnerState(non_linear_restore, self.init_state)\n",
    "    \n",
    "    def reward_func(self, state, next_state):\n",
    "        # TODO: 報酬関数を以下のように設計\n",
    "        # * 元々指定した再構成誤差よりも小さくなったら正の報酬\n",
    "        # * 元の復元回数Tを超えたらペナルティ\n",
    "        return -tc.sum((self._b - next_state.now)**2)\n",
    "    \n",
    "    def step(self, a):\n",
    "        self._step_count += 1  # インクリメント\n",
    "        action = actions[a]\n",
    "        next_state = self.next_state(action)\n",
    "        reward = self.reward_func(self._state, next_state)\n",
    "        done = (self._step_count == T)  # 5回フィルタをかけたら終わり\n",
    "        self._state = next_state  # そのまま代入して大丈夫。今回の環境では次の状態が常に存在するので。\n",
    "        return OuterState(next_state), reward, done"
   ]
  },
  {
   "cell_type": "code",
   "execution_count": 36,
   "metadata": {},
   "outputs": [
    {
     "name": "stdout",
     "output_type": "stream",
     "text": [
      "torch.Size([8, 20, 20])\n"
     ]
    },
    {
     "data": {
      "text/plain": [
       "torch.Size([1, 3])"
      ]
     },
     "execution_count": 36,
     "metadata": {},
     "output_type": "execute_result"
    }
   ],
   "source": [
    "env = ReconstructionEnv()\n",
    "env.reset()\n",
    "\n",
    "ns, _, _ = env.step(1)\n",
    "print(ns.v.shape)\n",
    "agent.Q_function(ns.v.unsqueeze(0)).shape"
   ]
  },
  {
   "cell_type": "markdown",
   "metadata": {},
   "source": [
    "### AgentにValueベースの方策を学習させて行動評価させる"
   ]
  },
  {
   "cell_type": "code",
   "execution_count": 37,
   "metadata": {},
   "outputs": [],
   "source": [
    "LAST_FILTER_WIDTH = 2\n",
    "class ConvQualityFunction(nn.Module):\n",
    "    def __init__(self, action_dim):\n",
    "        super(ConvQualityFunction, self).__init__()\n",
    "        self.conv1 = nn.Conv2d(8, 10, 5)\n",
    "        self.pool = nn.MaxPool2d(2, 2)\n",
    "        self.conv2 = nn.Conv2d(10, 16, 5)\n",
    "        self.fc1 = nn.Linear(16*LAST_FILTER_WIDTH*LAST_FILTER_WIDTH, 120)\n",
    "        self.dropout1 = nn.Dropout(0.5)\n",
    "        self.fc2 = nn.Linear(120, 84)\n",
    "        self.dropout2 = nn.Dropout(0.2)\n",
    "        self.fc3 = nn.Linear(84, action_dim)\n",
    "    \n",
    "    def forward(self, x):\n",
    "        x = self.pool(F.relu(self.conv1(x)))\n",
    "        x = self.pool(F.relu(self.conv2(x)))\n",
    "        x = x.view(-1, 16*LAST_FILTER_WIDTH*LAST_FILTER_WIDTH)\n",
    "        x = F.relu(\n",
    "            self.dropout1(self.fc1(x))\n",
    "        )\n",
    "        x = F.relu(\n",
    "            self.dropout2(self.fc2(x))\n",
    "        )\n",
    "        return self.fc3(x)\n",
    "\n",
    "\n",
    "class DQNAgent(object):\n",
    "    def __init__(self, action_dim=3, eps=0.1, lr=0.1, gamma=0.9):\n",
    "        self.action_dim = action_dim\n",
    "        self.eps = eps\n",
    "        self.gamma = gamma\n",
    "        self.Q_function = ConvQualityFunction(action_dim)\n",
    "        self.Q_function.to(device)\n",
    "        self.teacher_model = ConvQualityFunction(action_dim)\n",
    "        self.teacher_model.to(device)\n",
    "#         self.criterion = nn.MSELoss()\n",
    "        self.criterion = F.smooth_l1_loss\n",
    "        self.optimizer = optim.RMSprop(self.Q_function.parameters(), lr=lr)\n",
    "    \n",
    "    def policy(self, state, train=False):\n",
    "        if train and tc.rand(()) < self.eps:\n",
    "            return tc.randint(self.action_dim, ())\n",
    "        with tc.no_grad():\n",
    "            action_qualities = self.Q_function(state.v.unsqueeze(0))\n",
    "        return tc.argmax(action_qualities)\n",
    "    \n",
    "    def update(self, batch):\n",
    "        # Experience Replayに基づいて行動評価関数のパラメーターを更新する。\n",
    "        estimation_qualities = []\n",
    "        true_qualities = []\n",
    "        for i, e in enumerate(batch):\n",
    "            est = self.Q_function(e.s.v.unsqueeze(0)).squeeze(0)\n",
    "            v = e.r\n",
    "            if not e.d:\n",
    "                with tc.no_grad():\n",
    "                    v += self.gamma * tc.max(self.teacher_model(e.ns.v.unsqueeze(0)).squeeze(0))\n",
    "            estimation_qualities.append(est[e.a])\n",
    "            true_qualities.append(v)\n",
    "        estimation_qualities = tc.stack(estimation_qualities)\n",
    "        true_qualities = tc.tensor(true_qualities).to(device)\n",
    "        self.optimizer.zero_grad()\n",
    "        loss = self.criterion(estimation_qualities, true_qualities)\n",
    "        loss.backward()\n",
    "        self.optimizer.step()\n",
    "    \n",
    "    def update_teacher(self):\n",
    "        self.teacher_model.load_state_dict(self.Q_function.state_dict())"
   ]
  },
  {
   "cell_type": "code",
   "execution_count": 38,
   "metadata": {},
   "outputs": [],
   "source": [
    "# LAST_FILTER_WIDTH = 2\n",
    "# class ConvQualityFunction(nn.Module):\n",
    "#     def __init__(self, action_dim):\n",
    "#         super(ConvQualityFunction, self).__init__()\n",
    "#         self.conv1 = nn.Conv2d(8, 10, 5)\n",
    "#         self.pool = nn.MaxPool2d(2, 2)\n",
    "#         self.conv2 = nn.Conv2d(10, 16, 5)\n",
    "#         self.fc1 = nn.Linear(16*LAST_FILTER_WIDTH*LAST_FILTER_WIDTH, action_dim)\n",
    "#         self.dropout1 = nn.Dropout(0.5)\n",
    "    \n",
    "#     def forward(self, x):\n",
    "#         x = self.pool(F.relu(self.conv1(x)))\n",
    "#         x = self.pool(F.relu(self.conv2(x)))\n",
    "#         x = x.view(-1, 16*LAST_FILTER_WIDTH*LAST_FILTER_WIDTH)\n",
    "#         x = self.dropout1(x)\n",
    "#         return self.fc1(x)\n",
    "\n",
    "\n",
    "# class DQNAgent(object):\n",
    "#     def __init__(self, action_dim=3, eps=0.1, lr=0.1, gamma=0.9):\n",
    "#         self.action_dim = action_dim\n",
    "#         self.eps = eps\n",
    "#         self.gamma = gamma\n",
    "#         self.Q_function = ConvQualityFunction(action_dim)\n",
    "#         self.Q_function.to(device)\n",
    "#         self.teacher_model = ConvQualityFunction(action_dim)\n",
    "#         self.teacher_model.to(device)\n",
    "#         self.criterion = nn.MSELoss()\n",
    "# #         self.criterion = F.smooth_l1_loss\n",
    "#         self.optimizer = optim.RMSprop(self.Q_function.parameters(), lr=lr)\n",
    "    \n",
    "#     def policy(self, state, train=False):\n",
    "#         if train and tc.rand(()) < self.eps:\n",
    "#             return tc.randint(self.action_dim, ())\n",
    "#         with tc.no_grad():\n",
    "#             action_qualities = self.Q_function(state.v.unsqueeze(0))\n",
    "#         return tc.argmax(action_qualities)\n",
    "    \n",
    "#     def update(self, batch):\n",
    "#         # Experience Replayに基づいて行動評価関数のパラメーターを更新する。\n",
    "#         estimation_qualities = []\n",
    "#         true_qualities = []\n",
    "#         for i, e in enumerate(batch):\n",
    "#             est = self.Q_function(e.s.v.unsqueeze(0)).squeeze(0)\n",
    "#             v = e.r\n",
    "#             if not e.d:\n",
    "#                 with tc.no_grad():\n",
    "#                     v += self.gamma * tc.max(self.teacher_model(e.ns.v.unsqueeze(0)).squeeze(0))\n",
    "#             estimation_qualities.append(est[e.a])\n",
    "#             true_qualities.append(v)\n",
    "#         estimation_qualities = tc.stack(estimation_qualities)\n",
    "#         true_qualities = tc.tensor(true_qualities).to(device)\n",
    "#         self.optimizer.zero_grad()\n",
    "#         loss = self.criterion(estimation_qualities, true_qualities)\n",
    "#         loss.backward()\n",
    "#         self.optimizer.step()\n",
    "    \n",
    "#     def update_teacher(self):\n",
    "#         self.teacher_model.load_state_dict(self.Q_function.state_dict())"
   ]
  },
  {
   "cell_type": "code",
   "execution_count": 39,
   "metadata": {},
   "outputs": [],
   "source": [
    "import random\n",
    "from tqdm.notebook import tqdm\n",
    "from collections import deque, namedtuple\n",
    "Experience = namedtuple('Experience', ('s', 'a', 'ns', 'r', 'd'))\n",
    "\n",
    "def moving_average(r, n=100):\n",
    "    ret = tc.cumsum(r, dim=0, dtype=tc.float)\n",
    "    ret[n:] = ret[n:] - ret[:-n]\n",
    "    return ret[n - 1:] / n\n",
    "\n",
    "def train(agent, seed=0, train_episode_num=10000, teacher_freq=3, n=100):\n",
    "    experiences = deque(maxlen=1024)\n",
    "    train_count = 0\n",
    "    reward_records = []\n",
    "    \n",
    "    for _ in tqdm(range(train_episode_num)):\n",
    "        Ri = 0\n",
    "        env = ReconstructionEnv()\n",
    "        env.reset()\n",
    "        done = False\n",
    "        while not done:\n",
    "            action = agent.policy(env.state, train=True)\n",
    "            next_state, reward, done = env.step(action)\n",
    "            e = Experience(env.state, action, next_state, reward, done)\n",
    "            experiences.append(e)\n",
    "            Ri += reward\n",
    "            \n",
    "        if len(experiences) == 1024:\n",
    "            batch = random.sample(experiences, 32)\n",
    "            agent.update(batch)\n",
    "            train_count += 1\n",
    "        \n",
    "        if train_count % teacher_freq == 0:\n",
    "            agent.update_teacher()\n",
    "        \n",
    "        reward_records.append(Ri)\n",
    "    \n",
    "    plt.plot(moving_average(tc.tensor(reward_records), n=n), label='got reward while training')\n",
    "    plt.legend(loc='best')\n",
    "    return reward_records"
   ]
  },
  {
   "cell_type": "code",
   "execution_count": 40,
   "metadata": {},
   "outputs": [
    {
     "data": {
      "application/vnd.jupyter.widget-view+json": {
       "model_id": "2d65090956424126a129f4c18831f514",
       "version_major": 2,
       "version_minor": 0
      },
      "text/plain": [
       "HBox(children=(HTML(value=''), FloatProgress(value=0.0, max=10000.0), HTML(value='')))"
      ]
     },
     "metadata": {},
     "output_type": "display_data"
    },
    {
     "name": "stdout",
     "output_type": "stream",
     "text": [
      "\n"
     ]
    },
    {
     "ename": "KeyboardInterrupt",
     "evalue": "",
     "output_type": "error",
     "traceback": [
      "\u001b[0;31m---------------------------------------------------------------------------\u001b[0m",
      "\u001b[0;31mKeyboardInterrupt\u001b[0m                         Traceback (most recent call last)",
      "\u001b[0;32m<ipython-input-40-59886d4eee8b>\u001b[0m in \u001b[0;36m<module>\u001b[0;34m\u001b[0m\n\u001b[1;32m      3\u001b[0m \u001b[0mtc\u001b[0m\u001b[0;34m.\u001b[0m\u001b[0mrandom\u001b[0m\u001b[0;34m.\u001b[0m\u001b[0mmanual_seed\u001b[0m\u001b[0;34m(\u001b[0m\u001b[0mseed\u001b[0m\u001b[0;34m)\u001b[0m\u001b[0;34m\u001b[0m\u001b[0;34m\u001b[0m\u001b[0m\n\u001b[1;32m      4\u001b[0m \u001b[0magent\u001b[0m \u001b[0;34m=\u001b[0m \u001b[0mDQNAgent\u001b[0m\u001b[0;34m(\u001b[0m\u001b[0meps\u001b[0m\u001b[0;34m=\u001b[0m\u001b[0;36m0.3\u001b[0m\u001b[0;34m,\u001b[0m \u001b[0mlr\u001b[0m\u001b[0;34m=\u001b[0m\u001b[0;36m0.01\u001b[0m\u001b[0;34m)\u001b[0m\u001b[0;34m\u001b[0m\u001b[0;34m\u001b[0m\u001b[0m\n\u001b[0;32m----> 5\u001b[0;31m \u001b[0mrewards\u001b[0m \u001b[0;34m=\u001b[0m \u001b[0mtrain\u001b[0m\u001b[0;34m(\u001b[0m\u001b[0magent\u001b[0m\u001b[0;34m,\u001b[0m \u001b[0mtrain_episode_num\u001b[0m\u001b[0;34m=\u001b[0m\u001b[0;36m10000\u001b[0m\u001b[0;34m,\u001b[0m \u001b[0mn\u001b[0m\u001b[0;34m=\u001b[0m\u001b[0;36m1000\u001b[0m\u001b[0;34m)\u001b[0m\u001b[0;34m\u001b[0m\u001b[0;34m\u001b[0m\u001b[0m\n\u001b[0m",
      "\u001b[0;32m<ipython-input-39-1d0fac0f4151>\u001b[0m in \u001b[0;36mtrain\u001b[0;34m(agent, seed, train_episode_num, teacher_freq, n)\u001b[0m\n\u001b[1;32m     28\u001b[0m         \u001b[0;32mif\u001b[0m \u001b[0mlen\u001b[0m\u001b[0;34m(\u001b[0m\u001b[0mexperiences\u001b[0m\u001b[0;34m)\u001b[0m \u001b[0;34m==\u001b[0m \u001b[0;36m1024\u001b[0m\u001b[0;34m:\u001b[0m\u001b[0;34m\u001b[0m\u001b[0;34m\u001b[0m\u001b[0m\n\u001b[1;32m     29\u001b[0m             \u001b[0mbatch\u001b[0m \u001b[0;34m=\u001b[0m \u001b[0mrandom\u001b[0m\u001b[0;34m.\u001b[0m\u001b[0msample\u001b[0m\u001b[0;34m(\u001b[0m\u001b[0mexperiences\u001b[0m\u001b[0;34m,\u001b[0m \u001b[0;36m32\u001b[0m\u001b[0;34m)\u001b[0m\u001b[0;34m\u001b[0m\u001b[0;34m\u001b[0m\u001b[0m\n\u001b[0;32m---> 30\u001b[0;31m             \u001b[0magent\u001b[0m\u001b[0;34m.\u001b[0m\u001b[0mupdate\u001b[0m\u001b[0;34m(\u001b[0m\u001b[0mbatch\u001b[0m\u001b[0;34m)\u001b[0m\u001b[0;34m\u001b[0m\u001b[0;34m\u001b[0m\u001b[0m\n\u001b[0m\u001b[1;32m     31\u001b[0m             \u001b[0mtrain_count\u001b[0m \u001b[0;34m+=\u001b[0m \u001b[0;36m1\u001b[0m\u001b[0;34m\u001b[0m\u001b[0;34m\u001b[0m\u001b[0m\n\u001b[1;32m     32\u001b[0m \u001b[0;34m\u001b[0m\u001b[0m\n",
      "\u001b[0;32m<ipython-input-37-4bf2cef2bc52>\u001b[0m in \u001b[0;36mupdate\u001b[0;34m(self, batch)\u001b[0m\n\u001b[1;32m     61\u001b[0m         \u001b[0mself\u001b[0m\u001b[0;34m.\u001b[0m\u001b[0moptimizer\u001b[0m\u001b[0;34m.\u001b[0m\u001b[0mzero_grad\u001b[0m\u001b[0;34m(\u001b[0m\u001b[0;34m)\u001b[0m\u001b[0;34m\u001b[0m\u001b[0;34m\u001b[0m\u001b[0m\n\u001b[1;32m     62\u001b[0m         \u001b[0mloss\u001b[0m \u001b[0;34m=\u001b[0m \u001b[0mself\u001b[0m\u001b[0;34m.\u001b[0m\u001b[0mcriterion\u001b[0m\u001b[0;34m(\u001b[0m\u001b[0mestimation_qualities\u001b[0m\u001b[0;34m,\u001b[0m \u001b[0mtrue_qualities\u001b[0m\u001b[0;34m)\u001b[0m\u001b[0;34m\u001b[0m\u001b[0;34m\u001b[0m\u001b[0m\n\u001b[0;32m---> 63\u001b[0;31m         \u001b[0mloss\u001b[0m\u001b[0;34m.\u001b[0m\u001b[0mbackward\u001b[0m\u001b[0;34m(\u001b[0m\u001b[0;34m)\u001b[0m\u001b[0;34m\u001b[0m\u001b[0;34m\u001b[0m\u001b[0m\n\u001b[0m\u001b[1;32m     64\u001b[0m         \u001b[0mself\u001b[0m\u001b[0;34m.\u001b[0m\u001b[0moptimizer\u001b[0m\u001b[0;34m.\u001b[0m\u001b[0mstep\u001b[0m\u001b[0;34m(\u001b[0m\u001b[0;34m)\u001b[0m\u001b[0;34m\u001b[0m\u001b[0;34m\u001b[0m\u001b[0m\n\u001b[1;32m     65\u001b[0m \u001b[0;34m\u001b[0m\u001b[0m\n",
      "\u001b[0;32m~/anaconda3/envs/work/lib/python3.6/site-packages/torch/tensor.py\u001b[0m in \u001b[0;36mbackward\u001b[0;34m(self, gradient, retain_graph, create_graph)\u001b[0m\n\u001b[1;32m    196\u001b[0m                 \u001b[0mproducts\u001b[0m\u001b[0;34m.\u001b[0m \u001b[0mDefaults\u001b[0m \u001b[0mto\u001b[0m\u001b[0;31m \u001b[0m\u001b[0;31m`\u001b[0m\u001b[0;31m`\u001b[0m\u001b[0;32mFalse\u001b[0m\u001b[0;31m`\u001b[0m\u001b[0;31m`\u001b[0m\u001b[0;34m.\u001b[0m\u001b[0;34m\u001b[0m\u001b[0;34m\u001b[0m\u001b[0m\n\u001b[1;32m    197\u001b[0m         \"\"\"\n\u001b[0;32m--> 198\u001b[0;31m         \u001b[0mtorch\u001b[0m\u001b[0;34m.\u001b[0m\u001b[0mautograd\u001b[0m\u001b[0;34m.\u001b[0m\u001b[0mbackward\u001b[0m\u001b[0;34m(\u001b[0m\u001b[0mself\u001b[0m\u001b[0;34m,\u001b[0m \u001b[0mgradient\u001b[0m\u001b[0;34m,\u001b[0m \u001b[0mretain_graph\u001b[0m\u001b[0;34m,\u001b[0m \u001b[0mcreate_graph\u001b[0m\u001b[0;34m)\u001b[0m\u001b[0;34m\u001b[0m\u001b[0;34m\u001b[0m\u001b[0m\n\u001b[0m\u001b[1;32m    199\u001b[0m \u001b[0;34m\u001b[0m\u001b[0m\n\u001b[1;32m    200\u001b[0m     \u001b[0;32mdef\u001b[0m \u001b[0mregister_hook\u001b[0m\u001b[0;34m(\u001b[0m\u001b[0mself\u001b[0m\u001b[0;34m,\u001b[0m \u001b[0mhook\u001b[0m\u001b[0;34m)\u001b[0m\u001b[0;34m:\u001b[0m\u001b[0;34m\u001b[0m\u001b[0;34m\u001b[0m\u001b[0m\n",
      "\u001b[0;32m~/anaconda3/envs/work/lib/python3.6/site-packages/torch/autograd/__init__.py\u001b[0m in \u001b[0;36mbackward\u001b[0;34m(tensors, grad_tensors, retain_graph, create_graph, grad_variables)\u001b[0m\n\u001b[1;32m     98\u001b[0m     Variable._execution_engine.run_backward(\n\u001b[1;32m     99\u001b[0m         \u001b[0mtensors\u001b[0m\u001b[0;34m,\u001b[0m \u001b[0mgrad_tensors\u001b[0m\u001b[0;34m,\u001b[0m \u001b[0mretain_graph\u001b[0m\u001b[0;34m,\u001b[0m \u001b[0mcreate_graph\u001b[0m\u001b[0;34m,\u001b[0m\u001b[0;34m\u001b[0m\u001b[0;34m\u001b[0m\u001b[0m\n\u001b[0;32m--> 100\u001b[0;31m         allow_unreachable=True)  # allow_unreachable flag\n\u001b[0m\u001b[1;32m    101\u001b[0m \u001b[0;34m\u001b[0m\u001b[0m\n\u001b[1;32m    102\u001b[0m \u001b[0;34m\u001b[0m\u001b[0m\n",
      "\u001b[0;31mKeyboardInterrupt\u001b[0m: "
     ]
    }
   ],
   "source": [
    "seed = 100\n",
    "random.seed(seed)\n",
    "tc.random.manual_seed(seed)\n",
    "agent = DQNAgent(eps=0.3, lr=0.01)\n",
    "rewards = train(agent, train_episode_num=10000, n=1000)"
   ]
  },
  {
   "cell_type": "code",
   "execution_count": 15,
   "metadata": {},
   "outputs": [],
   "source": [
    "def test_policy(env, agent=None, fixed_action=None, randomize=False):\n",
    "    done = False\n",
    "    fig = plt.figure(figsize=(2, 2))\n",
    "    plt.title('original')\n",
    "    plt.imshow(env._b.cpu())\n",
    "    plt.axis('off')\n",
    "    plt.show()\n",
    "    \n",
    "    fig = plt.figure(figsize=(20, 2))\n",
    "    plt.subplot(1, T + 1, 1)\n",
    "    plt.axis('off')\n",
    "    plt.imshow(env._state.now.cpu())\n",
    "    print('回数 = ', T)\n",
    "    took_actions = []\n",
    "    reward_sum = 0\n",
    "    while not done:\n",
    "        if fixed_action is not None:\n",
    "            a = fixed_action\n",
    "        elif randomize:\n",
    "            a = tc.randint(4, ()).to(device)\n",
    "        else:\n",
    "            a = agent.policy(env.state)\n",
    "        took_actions.append(action_labels[a])\n",
    "        next_state, reward, done = env.step(a)\n",
    "        plt.subplot(1, T + 1, env._step_count + 1)\n",
    "        plt.axis('off')\n",
    "        plt.imshow(env._state.now.cpu())\n",
    "        reward_sum += reward\n",
    "        print(f'loss of step({env._step_count})', tc.sum((env._b - env._state.now)**2).item(), end='//')\n",
    "    print()\n",
    "    print('reward_sum: ', reward_sum.item())\n",
    "    plt.show()\n",
    "    print(took_actions)"
   ]
  },
  {
   "cell_type": "code",
   "execution_count": 119,
   "metadata": {},
   "outputs": [
    {
     "data": {
      "image/png": "[encoded data removed]",
      "text/plain": [
       "<Figure size 144x144 with 1 Axes>"
      ]
     },
     "metadata": {
      "needs_background": "light"
     },
     "output_type": "display_data"
    },
    {
     "name": "stdout",
     "output_type": "stream",
     "text": [
      "回数 =  3\n",
      "loss of step(1) 25.871341705322266//loss of step(2) 25.09066390991211//loss of step(3) 24.212574005126953//\n",
      "reward_sum:  -75.17457580566406\n"
     ]
    },
    {
     "data": {
      "image/png": "[encoded data removed]",
      "text/plain": [
       "<Figure size 1440x144 with 4 Axes>"
      ]
     },
     "metadata": {
      "needs_background": "light"
     },
     "output_type": "display_data"
    },
    {
     "name": "stdout",
     "output_type": "stream",
     "text": [
      "['wiener_of_gauss1', 'wiener_of_gauss1', 'wiener_of_gauss1']\n"
     ]
    },
    {
     "data": {
      "image/png": "[encoded data removed]",
      "text/plain": [
       "<Figure size 144x144 with 1 Axes>"
      ]
     },
     "metadata": {
      "needs_background": "light"
     },
     "output_type": "display_data"
    },
    {
     "name": "stdout",
     "output_type": "stream",
     "text": [
      "回数 =  3\n",
      "loss of step(1) 49.16468048095703//loss of step(2) 48.047088623046875//loss of step(3) 46.88591384887695//\n",
      "reward_sum:  -144.09768676757812\n"
     ]
    },
    {
     "data": {
      "image/png": "[encoded data removed]",
      "text/plain": [
       "<Figure size 1440x144 with 4 Axes>"
      ]
     },
     "metadata": {
      "needs_background": "light"
     },
     "output_type": "display_data"
    },
    {
     "name": "stdout",
     "output_type": "stream",
     "text": [
      "['wiener_of_gauss1', 'wiener_of_gauss1', 'wiener_of_gauss1']\n"
     ]
    },
    {
     "data": {
      "image/png": "[encoded data removed]",
      "text/plain": [
       "<Figure size 144x144 with 1 Axes>"
      ]
     },
     "metadata": {
      "needs_background": "light"
     },
     "output_type": "display_data"
    },
    {
     "name": "stdout",
     "output_type": "stream",
     "text": [
      "回数 =  3\n",
      "loss of step(1) 32.343849182128906//loss of step(2) 31.64207649230957//loss of step(3) 30.945507049560547//\n",
      "reward_sum:  -94.93142700195312\n"
     ]
    },
    {
     "data": {
      "image/png": "[encoded data removed]",
      "text/plain": [
       "<Figure size 1440x144 with 4 Axes>"
      ]
     },
     "metadata": {
      "needs_background": "light"
     },
     "output_type": "display_data"
    },
    {
     "name": "stdout",
     "output_type": "stream",
     "text": [
      "['wiener_of_gauss1', 'wiener_of_gauss1', 'wiener_of_gauss1']\n"
     ]
    },
    {
     "data": {
      "image/png": "[encoded data removed]",
      "text/plain": [
       "<Figure size 144x144 with 1 Axes>"
      ]
     },
     "metadata": {
      "needs_background": "light"
     },
     "output_type": "display_data"
    },
    {
     "name": "stdout",
     "output_type": "stream",
     "text": [
      "回数 =  3\n",
      "loss of step(1) 45.41508865356445//loss of step(2) 43.664756774902344//loss of step(3) 41.91769790649414//\n",
      "reward_sum:  -130.99754333496094\n"
     ]
    },
    {
     "data": {
      "image/png": "[encoded data removed]",
      "text/plain": [
       "<Figure size 1440x144 with 4 Axes>"
      ]
     },
     "metadata": {
      "needs_background": "light"
     },
     "output_type": "display_data"
    },
    {
     "name": "stdout",
     "output_type": "stream",
     "text": [
      "['wiener_of_gauss1', 'wiener_of_gauss1', 'wiener_of_gauss1']\n"
     ]
    },
    {
     "data": {
      "image/png": "[encoded data removed]",
      "text/plain": [
       "<Figure size 144x144 with 1 Axes>"
      ]
     },
     "metadata": {
      "needs_background": "light"
     },
     "output_type": "display_data"
    },
    {
     "name": "stdout",
     "output_type": "stream",
     "text": [
      "回数 =  3\n",
      "loss of step(1) 26.313560485839844//loss of step(2) 25.702119827270508//loss of step(3) 25.088577270507812//\n",
      "reward_sum:  -77.10425567626953\n"
     ]
    },
    {
     "data": {
      "image/png": "[encoded data removed]",
      "text/plain": [
       "<Figure size 1440x144 with 4 Axes>"
      ]
     },
     "metadata": {
      "needs_background": "light"
     },
     "output_type": "display_data"
    },
    {
     "name": "stdout",
     "output_type": "stream",
     "text": [
      "['wiener_of_gauss1', 'wiener_of_gauss1', 'wiener_of_gauss1']\n"
     ]
    },
    {
     "data": {
      "image/png": "[encoded data removed]",
      "text/plain": [
       "<Figure size 144x144 with 1 Axes>"
      ]
     },
     "metadata": {
      "needs_background": "light"
     },
     "output_type": "display_data"
    },
    {
     "name": "stdout",
     "output_type": "stream",
     "text": [
      "回数 =  3\n",
      "loss of step(1) 49.791629791259766//loss of step(2) 48.015174865722656//loss of step(3) 46.21295928955078//\n",
      "reward_sum:  -144.019775390625\n"
     ]
    },
    {
     "data": {
      "image/png": "[encoded data removed]",
      "text/plain": [
       "<Figure size 1440x144 with 4 Axes>"
      ]
     },
     "metadata": {
      "needs_background": "light"
     },
     "output_type": "display_data"
    },
    {
     "name": "stdout",
     "output_type": "stream",
     "text": [
      "['wiener_of_gauss1', 'wiener_of_gauss1', 'wiener_of_gauss1']\n"
     ]
    },
    {
     "data": {
      "image/png": "[encoded data removed]",
      "text/plain": [
       "<Figure size 144x144 with 1 Axes>"
      ]
     },
     "metadata": {
      "needs_background": "light"
     },
     "output_type": "display_data"
    },
    {
     "name": "stdout",
     "output_type": "stream",
     "text": [
      "回数 =  3\n",
      "loss of step(1) 43.93936538696289//loss of step(2) 42.51128387451172//loss of step(3) 41.08564376831055//\n",
      "reward_sum:  -127.53630065917969\n"
     ]
    },
    {
     "data": {
      "image/png": "[encoded data removed]",
      "text/plain": [
       "<Figure size 1440x144 with 4 Axes>"
      ]
     },
     "metadata": {
      "needs_background": "light"
     },
     "output_type": "display_data"
    },
    {
     "name": "stdout",
     "output_type": "stream",
     "text": [
      "['wiener_of_gauss1', 'wiener_of_gauss1', 'wiener_of_gauss1']\n"
     ]
    },
    {
     "data": {
      "image/png": "[encoded data removed]",
      "text/plain": [
       "<Figure size 144x144 with 1 Axes>"
      ]
     },
     "metadata": {
      "needs_background": "light"
     },
     "output_type": "display_data"
    },
    {
     "name": "stdout",
     "output_type": "stream",
     "text": [
      "回数 =  3\n",
      "loss of step(1) 23.229219436645508//loss of step(2) 21.990760803222656//loss of step(3) 20.7418212890625//\n",
      "reward_sum:  -65.96179962158203\n"
     ]
    },
    {
     "data": {
      "image/png": "[encoded data removed]",
      "text/plain": [
       "<Figure size 1440x144 with 4 Axes>"
      ]
     },
     "metadata": {
      "needs_background": "light"
     },
     "output_type": "display_data"
    },
    {
     "name": "stdout",
     "output_type": "stream",
     "text": [
      "['wiener_of_gauss1', 'wiener_of_gauss1', 'wiener_of_gauss1']\n"
     ]
    },
    {
     "data": {
      "image/png": "[encoded data removed]",
      "text/plain": [
       "<Figure size 144x144 with 1 Axes>"
      ]
     },
     "metadata": {
      "needs_background": "light"
     },
     "output_type": "display_data"
    },
    {
     "name": "stdout",
     "output_type": "stream",
     "text": [
      "回数 =  3\n",
      "loss of step(1) 38.54766082763672//loss of step(2) 37.075653076171875//loss of step(3) 35.58566665649414//\n",
      "reward_sum:  -111.208984375\n"
     ]
    },
    {
     "data": {
      "image/png": "[encoded data removed]",
      "text/plain": [
       "<Figure size 1440x144 with 4 Axes>"
      ]
     },
     "metadata": {
      "needs_background": "light"
     },
     "output_type": "display_data"
    },
    {
     "name": "stdout",
     "output_type": "stream",
     "text": [
      "['wiener_of_gauss1', 'wiener_of_gauss1', 'wiener_of_gauss1']\n"
     ]
    },
    {
     "data": {
      "image/png": "[encoded data removed]",
      "text/plain": [
       "<Figure size 144x144 with 1 Axes>"
      ]
     },
     "metadata": {
      "needs_background": "light"
     },
     "output_type": "display_data"
    },
    {
     "name": "stdout",
     "output_type": "stream",
     "text": [
      "回数 =  3\n",
      "loss of step(1) 42.79335021972656//loss of step(2) 42.180152893066406//loss of step(3) 41.5478515625//\n",
      "reward_sum:  -126.52135467529297\n"
     ]
    },
    {
     "data": {
      "image/png": "[encoded data removed]",
      "text/plain": [
       "<Figure size 1440x144 with 4 Axes>"
      ]
     },
     "metadata": {
      "needs_background": "light"
     },
     "output_type": "display_data"
    },
    {
     "name": "stdout",
     "output_type": "stream",
     "text": [
      "['wiener_of_gauss1', 'wiener_of_gauss1', 'wiener_of_gauss1']\n"
     ]
    }
   ],
   "source": [
    "for i in range(10):\n",
    "    env = ReconstructionEnv()\n",
    "    env.reset()\n",
    "    test_policy(env, agent)"
   ]
  },
  {
   "cell_type": "code",
   "execution_count": 114,
   "metadata": {},
   "outputs": [
    {
     "data": {
      "application/vnd.jupyter.widget-view+json": {
       "model_id": "192b65907215406eb231b1918ca3dfd0",
       "version_major": 2,
       "version_minor": 0
      },
      "text/plain": [
       "HBox(children=(HTML(value=''), FloatProgress(value=0.0, max=1000.0), HTML(value='')))"
      ]
     },
     "metadata": {},
     "output_type": "display_data"
    },
    {
     "name": "stdout",
     "output_type": "stream",
     "text": [
      "\n",
      "random -82.39\n",
      "proper -60.29\n",
      "upside_down -94.93\n",
      "agent -74.91\n"
     ]
    }
   ],
   "source": [
    "# スコアの平均値を比較しておく\n",
    "tc.random.manual_seed(0)\n",
    "\n",
    "def random_one_try(action_dim):\n",
    "    env = ReconstructionEnv(train=False)\n",
    "    env.reset()\n",
    "    done = False\n",
    "    reward_sum = 0\n",
    "    while not done:\n",
    "        a = tc.randint(0, action_dim + 1, ())\n",
    "        _, reward, done = env.step(a)\n",
    "        reward_sum += reward\n",
    "    return reward_sum\n",
    "\n",
    "def proper_inverse_filter_one_try():\n",
    "    env = ReconstructionEnv(train=False)\n",
    "    env.reset()\n",
    "    done = False\n",
    "    reward_sum = 0\n",
    "    while not done:\n",
    "        a = 2 if env.decay_kernel_index == 0 else 3\n",
    "        _, reward, done = env.step(a)\n",
    "        reward_sum += reward\n",
    "    return reward_sum\n",
    "\n",
    "def upside_down():\n",
    "    env = ReconstructionEnv(train=False)\n",
    "    env.reset()\n",
    "    done = False\n",
    "    reward_sum = 0\n",
    "    while not done:\n",
    "        a = 3 if env.decay_kernel_index == 0 else 2\n",
    "        _, reward, done = env.step(a)\n",
    "        reward_sum += reward\n",
    "    return reward_sum\n",
    "\n",
    "def agent_one_try(agent):\n",
    "    env = ReconstructionEnv(train=False)\n",
    "    env.reset()\n",
    "    done = False\n",
    "    reward_sum = 0\n",
    "    while not done:\n",
    "        a = agent.policy(env.state)\n",
    "        _, reward, done = env.step(a)\n",
    "        reward_sum += reward\n",
    "    return reward_sum\n",
    "\n",
    "sum_info = {'random': 0, 'proper': 0, 'upside_down': 0, 'agent': 0}\n",
    "n = 1000\n",
    "for _ in tqdm(range(n)):\n",
    "    sum_info['random'] += random_one_try(agent.action_dim)\n",
    "    sum_info['proper'] += proper_inverse_filter_one_try()\n",
    "    sum_info['upside_down'] += upside_down()\n",
    "    sum_info['agent'] += agent_one_try(agent)\n",
    "\n",
    "for key, val in sum_info.items():\n",
    "    print(key, f'{val / n:.2f}')"
   ]
  },
  {
   "cell_type": "markdown",
   "metadata": {},
   "source": [
    "### それぞれのフィルタの報酬の総和をみておく"
   ]
  },
  {
   "cell_type": "code",
   "execution_count": 17,
   "metadata": {},
   "outputs": [
    {
     "name": "stdout",
     "output_type": "stream",
     "text": [
      "proper\n"
     ]
    },
    {
     "data": {
      "image/png": "[encoded data removed]",
      "text/plain": [
       "<Figure size 144x144 with 1 Axes>"
      ]
     },
     "metadata": {
      "needs_background": "light"
     },
     "output_type": "display_data"
    },
    {
     "name": "stdout",
     "output_type": "stream",
     "text": [
      "回数 =  3\n",
      "loss of step(1) 22.191499710083008//loss of step(2) 12.97329330444336//loss of step(3) 3.898219108581543//\n",
      "reward_sum:  -39.06301498413086\n"
     ]
    },
    {
     "data": {
      "image/png": "[encoded data removed]",
      "text/plain": [
       "<Figure size 1440x144 with 4 Axes>"
      ]
     },
     "metadata": {
      "needs_background": "light"
     },
     "output_type": "display_data"
    },
    {
     "name": "stdout",
     "output_type": "stream",
     "text": [
      "['wiener_of_gauss2', 'wiener_of_gauss2', 'wiener_of_gauss2']\n",
      "\n",
      "gauss1\n"
     ]
    },
    {
     "data": {
      "image/png": "[encoded data removed]",
      "text/plain": [
       "<Figure size 144x144 with 1 Axes>"
      ]
     },
     "metadata": {
      "needs_background": "light"
     },
     "output_type": "display_data"
    },
    {
     "name": "stdout",
     "output_type": "stream",
     "text": [
      "回数 =  3\n",
      "loss of step(1) 33.88609313964844//loss of step(2) 39.282562255859375//loss of step(3) 44.06714630126953//\n",
      "reward_sum:  -117.23580169677734\n"
     ]
    },
    {
     "data": {
      "image/png": "[encoded data removed]",
      "text/plain": [
       "<Figure size 1440x144 with 4 Axes>"
      ]
     },
     "metadata": {
      "needs_background": "light"
     },
     "output_type": "display_data"
    },
    {
     "name": "stdout",
     "output_type": "stream",
     "text": [
      "['gauss1', 'gauss1', 'gauss1']\n",
      "\n",
      "gauss2\n"
     ]
    },
    {
     "data": {
      "image/png": "[encoded data removed]",
      "text/plain": [
       "<Figure size 144x144 with 1 Axes>"
      ]
     },
     "metadata": {
      "needs_background": "light"
     },
     "output_type": "display_data"
    },
    {
     "name": "stdout",
     "output_type": "stream",
     "text": [
      "回数 =  3\n",
      "loss of step(1) 33.40314865112305//loss of step(2) 39.016944885253906//loss of step(3) 43.52800750732422//\n",
      "reward_sum:  -115.9480972290039\n"
     ]
    },
    {
     "data": {
      "image/png": "[encoded data removed]",
      "text/plain": [
       "<Figure size 1440x144 with 4 Axes>"
      ]
     },
     "metadata": {
      "needs_background": "light"
     },
     "output_type": "display_data"
    },
    {
     "name": "stdout",
     "output_type": "stream",
     "text": [
      "['gauss2', 'gauss2', 'gauss2']\n",
      "\n"
     ]
    }
   ],
   "source": [
    "# proper\n",
    "print('proper')\n",
    "env = ReconstructionEnv()\n",
    "env.reset()\n",
    "a = 2 if env.decay_kernel_index == 0 else 3\n",
    "test_policy(env, fixed_action=a)\n",
    "print()\n",
    "\n",
    "# gauss1, gauss2\n",
    "for i in range(2):\n",
    "    print(action_labels[i])\n",
    "    env = ReconstructionEnv()\n",
    "    env.reset()\n",
    "    test_policy(env, fixed_action=i)\n",
    "    print()"
   ]
  },
  {
   "cell_type": "code",
   "execution_count": null,
   "metadata": {},
   "outputs": [],
   "source": []
  }
 ],
 "metadata": {
  "kernelspec": {
   "display_name": "Python 3",
   "language": "python",
   "name": "python3"
  },
  "language_info": {
   "codemirror_mode": {
    "name": "ipython",
    "version": 3
   },
   "file_extension": ".py",
   "mimetype": "text/x-python",
   "name": "python",
   "nbconvert_exporter": "python",
   "pygments_lexer": "ipython3",
   "version": "3.6.12"
  }
 },
 "nbformat": 4,
 "nbformat_minor": 4
}
