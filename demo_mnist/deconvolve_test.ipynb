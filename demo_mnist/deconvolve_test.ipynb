{
 "cells": [
  {
   "cell_type": "code",
   "execution_count": 1,
   "metadata": {},
   "outputs": [],
   "source": [
    "from matplotlib import pyplot as plt\n",
    "import torch as tc\n",
    "from torch import nn\n",
    "from torch import optim\n",
    "from torch.nn import functional as F\n",
    "import torchvision as tv\n",
    "from torchvision import transforms\n",
    "from torchvision import datasets as d\n",
    "from torch.utils.data import DataLoader\n",
    "from torch.utils.data.dataset import Subset\n",
    "from scipy.signal import fftconvolve\n",
    "\n",
    "import random\n",
    "from tqdm.notebook import tqdm\n",
    "from collections import deque, namedtuple\n",
    "\n",
    "device = tc.device('cuda:0')"
   ]
  },
  {
   "cell_type": "code",
   "execution_count": 2,
   "metadata": {},
   "outputs": [],
   "source": [
    "# データは num = 0の画像のみ\n",
    "transform = transforms.Compose([transforms.ToTensor()])\n",
    "whole_trainset = d.MNIST(root='./data', train=True, download=True, transform=transform)\n",
    "# train_mask = (whole_trainset.targets == 0).nonzero()[:, 0]\n",
    "# trainset = Subset(whole_trainset, train_mask)\n",
    "\n",
    "whole_testset = d.MNIST(root='./data', train=False, download=True, transform=transform)\n",
    "# test_mask  = (whole_testset.targets == 0).nonzero()[:, 0]\n",
    "# testset = Subset(whole_testset, test_mask)\n",
    "trainloader = DataLoader(whole_trainset, shuffle=True)\n",
    "testloader = DataLoader(whole_testset, shuffle=False)"
   ]
  },
  {
   "cell_type": "code",
   "execution_count": 3,
   "metadata": {},
   "outputs": [],
   "source": [
    "import numpy as np\n",
    "from scipy.stats import multivariate_normal\n",
    "from skimage.restoration import wiener\n",
    "\n",
    "# 準備するフィルタのサイズを5x5に固定\n",
    "X, Y = np.meshgrid(np.arange(-2, 3, 1, dtype=np.float32), np.arange(-2, 3, 1, dtype=np.float32))\n",
    "gauss_filters = []\n",
    "std = 0.8\n",
    "f = np.vectorize(\n",
    "    lambda x, y: multivariate_normal([0.0, 0.0], np.diag([std]*2)).pdf([x, y])\n",
    ")\n",
    "kernel = f(X, Y)\n",
    "kernel = kernel / kernel.sum()\n",
    "kernel = kernel.astype(np.float32)\n",
    "gauss1 = kernel\n",
    "\n",
    "tc.random.manual_seed(0)\n",
    "kernel = tc.rand((5, 5))\n",
    "kernel = kernel / kernel.sum()\n",
    "random1 = kernel"
   ]
  },
  {
   "cell_type": "code",
   "execution_count": 12,
   "metadata": {},
   "outputs": [
    {
     "data": {
      "image/png": "[encoded data removed]",
      "text/plain": [
       "<Figure size 432x288 with 1 Axes>"
      ]
     },
     "metadata": {
      "needs_background": "light"
     },
     "output_type": "display_data"
    },
    {
     "data": {
      "image/png": "[encoded data removed]",
      "text/plain": [
       "<Figure size 432x288 with 1 Axes>"
      ]
     },
     "metadata": {
      "needs_background": "light"
     },
     "output_type": "display_data"
    },
    {
     "data": {
      "image/png": "[encoded data removed]",
      "text/plain": [
       "<Figure size 432x288 with 1 Axes>"
      ]
     },
     "metadata": {
      "needs_background": "light"
     },
     "output_type": "display_data"
    }
   ],
   "source": [
    "# gauss, random, gaussを復元できるか\n",
    "img, _ = next(iter(trainloader))\n",
    "img = img[0][0]\n",
    "plt.imshow(img)\n",
    "plt.axis('off')\n",
    "plt.show()\n",
    "\n",
    "dec = img\n",
    "filters = [gauss1, random1, gauss1, random1, gauss1]\n",
    "for kernel in filters:\n",
    "    dec = fftconvolve(dec, kernel, mode='same')\n",
    "\n",
    "plt.imshow(dec)\n",
    "plt.axis('off')\n",
    "plt.show()\n",
    "\n",
    "res = dec\n",
    "for kernel in filters:\n",
    "    res = np.maximum(0.0, wiener(res, kernel, 1e-2))\n",
    "    \n",
    "plt.imshow(res)\n",
    "plt.axis('off')\n",
    "plt.show()"
   ]
  },
  {
   "cell_type": "code",
   "execution_count": null,
   "metadata": {},
   "outputs": [],
   "source": []
  }
 ],
 "metadata": {
  "kernelspec": {
   "display_name": "Python 3",
   "language": "python",
   "name": "python3"
  },
  "language_info": {
   "codemirror_mode": {
    "name": "ipython",
    "version": 3
   },
   "file_extension": ".py",
   "mimetype": "text/x-python",
   "name": "python",
   "nbconvert_exporter": "python",
   "pygments_lexer": "ipython3",
   "version": "3.6.12"
  }
 },
 "nbformat": 4,
 "nbformat_minor": 4
}
