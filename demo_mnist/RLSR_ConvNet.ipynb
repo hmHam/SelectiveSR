{
 "cells": [
  {
   "cell_type": "markdown",
   "metadata": {},
   "source": [
    "### MNISTの画像を準備"
   ]
  },
  {
   "cell_type": "markdown",
   "metadata": {},
   "source": [
    "* 特徴量をConvNetにする。randomでぼかした画像とgaussianでぼかした画像"
   ]
  },
  {
   "cell_type": "code",
   "execution_count": 1,
   "metadata": {},
   "outputs": [],
   "source": [
    "from matplotlib import pyplot as plt\n",
    "import torch as tc\n",
    "from torch import nn\n",
    "from torch import optim\n",
    "from torch.nn import functional as F\n",
    "import torchvision as tv\n",
    "from torchvision import transforms\n",
    "from torchvision import datasets as d\n",
    "from torch.utils.data import DataLoader\n",
    "from torch.utils.data.dataset import Subset\n",
    "from scipy.signal import fftconvolve\n",
    "\n",
    "import random\n",
    "from tqdm.notebook import tqdm\n",
    "from collections import deque, namedtuple\n",
    "\n",
    "from env import ReconstructionEnv\n",
    "from view import view_moving_average\n",
    "from test_result import test_policy\n",
    "\n",
    "device = tc.device('cuda:0')\n",
    "\n",
    "# pytorchからMNISTのデータをロード\n",
    "transform = transforms.Compose([transforms.ToTensor(), transforms.Normalize((0,), (1,))])\n",
    "trainset = d.MNIST(root='./data', train=True, download=True, transform=transform)\n",
    "\n",
    "testset = d.MNIST(root='./data', train=False, download=True, transform=transform)\n",
    "trainloader = DataLoader(trainset, shuffle=True)\n",
    "testloader = DataLoader(testset, shuffle=False)\n",
    "\n",
    "# ぼやけフィルタを用意\n",
    "import numpy as np\n",
    "from scipy.stats import multivariate_normal\n",
    "from skimage.restoration import wiener\n",
    "\n",
    "X, Y = np.meshgrid(np.arange(-2, 3, 1, dtype=np.float32), np.arange(-2, 3, 1, dtype=np.float32))\n",
    "gauss_filters = []\n",
    "std = 0.8\n",
    "f = np.vectorize(\n",
    "    lambda x, y: multivariate_normal([0.0, 0.0], np.diag([std]*2)).pdf([x, y])\n",
    ")\n",
    "gauss1 = f(X, Y)\n",
    "gauss1 = gauss1 / gauss1.sum()\n",
    "gauss1 = gauss1.astype(np.float32)\n",
    "\n",
    "tc.random.manual_seed(0)\n",
    "random1 = tc.rand((5, 5))\n",
    "random1 = random1 / random1.sum()\n",
    "\n",
    "# 復元フィルタを用意\n",
    "ACTION_DIM = 4\n",
    "actions = [\n",
    "    lambda x: fftconvolve(x, gauss1, mode='same'),\n",
    "    lambda x: fftconvolve(x, random1, mode='same'),\n",
    "    lambda x: wiener(x, gauss1, 0.25),\n",
    "    lambda x: wiener(x, random1, 0.016),\n",
    "]\n",
    "action_labels = ['gauss1', 'random1', 'wiener_of_gauss1', 'wiener_of_random1']\n",
    "blur_filters = [gauss1, random1]"
   ]
  },
  {
   "cell_type": "markdown",
   "metadata": {},
   "source": [
    "### 特徴量抽出器"
   ]
  },
  {
   "cell_type": "code",
   "execution_count": 2,
   "metadata": {},
   "outputs": [
    {
     "name": "stdout",
     "output_type": "stream",
     "text": [
      "outer_state_shape torch.Size([1, 10, 8, 8])\n"
     ]
    }
   ],
   "source": [
    "import torch\n",
    "class MnistNet(torch.nn.Module):\n",
    "    def __init__(self, m=[20, 20]):\n",
    "        super(MnistNet, self).__init__()\n",
    "        self.m = m\n",
    "        self.conv1 = torch.nn.Conv2d(1, self.m[0], 5, stride=1, padding=0)\n",
    "        self.conv2 = torch.nn.Conv2d(self.m[0], self.m[1], 5, stride=1, padding=0)\n",
    "        self.fc = torch.nn.Linear(4*4*self.m[1], 1)\n",
    "\n",
    "    def forward(self, x):\n",
    "        x = torch.nn.functional.relu(self.conv1(x))\n",
    "        x = torch.nn.functional.max_pool2d(x, 2, 2)\n",
    "        x = torch.nn.functional.relu(self.conv2(x))\n",
    "        x = torch.nn.functional.max_pool2d(x, 2, 2)\n",
    "        x = x.view(-1, 4*4*self.m[1])\n",
    "        x = self.fc(x)\n",
    "        return x\n",
    "    \n",
    "    def encode(self, x):\n",
    "        x = torch.nn.functional.relu(self.conv1(x))\n",
    "        x = torch.nn.functional.max_pool2d(x, 2, 2)\n",
    "        x = torch.nn.functional.relu(self.conv2(x))\n",
    "        return x\n",
    "\n",
    "conv_net = MnistNet(m=[5, 5])\n",
    "conv_net.load_state_dict(tc.load('models/conv.pth'))\n",
    "conv_net.to(device)\n",
    "\n",
    "# test observe state\n",
    "image, _ = next(iter(trainloader))\n",
    "image = image.to(device)\n",
    "with tc.no_grad():\n",
    "    feature1 = conv_net.encode(image).squeeze(0)\n",
    "    feature2 = conv_net.encode(image).squeeze(0)\n",
    "    feature = tc.cat([feature1, feature2])\n",
    "print('outer_state_shape', feature.unsqueeze(0).shape)"
   ]
  },
  {
   "cell_type": "code",
   "execution_count": 3,
   "metadata": {},
   "outputs": [],
   "source": [
    "# 環境の追加変更部分\n",
    "T = 3\n",
    "\n",
    "def blur_image(base, T):\n",
    "    init_state = base.cpu().numpy()\n",
    "    i = tc.randint(0, len(blur_filters), ())\n",
    "    decay_kernel = blur_filters[i]\n",
    "    for _ in range(T):\n",
    "        init_state = fftconvolve(init_state, decay_kernel, mode='same')\n",
    "    return init_state, i\n",
    "\n",
    "# 最終的には、これがオートエンコーダーで特徴量抽出したものになる。\n",
    "class OuterState(object):\n",
    "    def __init__(self, inner_state):\n",
    "        # Add chunnel\n",
    "        with tc.no_grad():\n",
    "            now = inner_state.now.unsqueeze(0).unsqueeze(0)\n",
    "            now = conv_net.encode(now).squeeze(0)\n",
    "            init = inner_state.init.unsqueeze(0).unsqueeze(0)\n",
    "            init = conv_net.encode(init).squeeze(0)\n",
    "        self.v = tc.cat([now, init])"
   ]
  },
  {
   "cell_type": "code",
   "execution_count": 4,
   "metadata": {},
   "outputs": [],
   "source": [
    "# Agent\n",
    "LAST_FILTER_WIDTH = 1\n",
    "class ConvQualityFunction(nn.Module):\n",
    "    def __init__(self, action_dim):\n",
    "        super(ConvQualityFunction, self).__init__()\n",
    "        self.conv1 = nn.Conv2d(10, 15, 3)\n",
    "        self.pool = nn.MaxPool2d(2, 2)\n",
    "        self.conv2 = nn.Conv2d(15, 20, 2)\n",
    "        self.fc1 = nn.Linear(20*LAST_FILTER_WIDTH*LAST_FILTER_WIDTH, action_dim)\n",
    "        self.dropout1 = nn.Dropout(0.5)\n",
    "    \n",
    "    def forward(self, x):\n",
    "        x = self.pool(F.relu(self.conv1(x)))\n",
    "        x = self.pool(F.relu(self.conv2(x)))\n",
    "        x = x.view(-1, 20*LAST_FILTER_WIDTH*LAST_FILTER_WIDTH)\n",
    "        x = self.dropout1(x)\n",
    "        return self.fc1(x)\n",
    "    \n",
    "\n",
    "class DQNAgent(object):\n",
    "    def __init__(self, action_dim=ACTION_DIM, eps=0.1, lr=0.1, gamma=0.9):\n",
    "        self.action_dim = action_dim\n",
    "        self.eps = eps\n",
    "        self.gamma = gamma\n",
    "        self.Q_function = ConvQualityFunction(action_dim)\n",
    "        self.Q_function.to(device)\n",
    "        self.teacher_model = ConvQualityFunction(action_dim)\n",
    "        self.teacher_model.to(device)\n",
    "        self.criterion = nn.MSELoss()\n",
    "        self.optimizer = optim.RMSprop(self.Q_function.parameters(), lr=lr)\n",
    "    \n",
    "    def policy(self, state, train=False):\n",
    "        if train and tc.rand(()) < self.eps:\n",
    "            return tc.randint(self.action_dim, ())\n",
    "        with tc.no_grad():\n",
    "            action_qualities = self.Q_function(state.v.unsqueeze(0))\n",
    "        return tc.argmax(action_qualities)"
   ]
  },
  {
   "cell_type": "code",
   "execution_count": 5,
   "metadata": {},
   "outputs": [],
   "source": [
    "# Train TD法\n",
    "Experience = namedtuple('Experience', ('s', 'a', 'ns', 'r', 'd'))\n",
    "\n",
    "def update(agent, batch):\n",
    "    # Experience Replayに基づいて行動評価関数のパラメーターを更新する。\n",
    "    estimation_qualities = []\n",
    "    true_qualities = []\n",
    "    for i, e in enumerate(batch):\n",
    "        est = agent.Q_function(e.s.v.unsqueeze(0)).squeeze(0)\n",
    "        v = e.r\n",
    "        if not e.d:\n",
    "            with tc.no_grad():\n",
    "                v += agent.gamma * tc.max(agent.teacher_model(e.ns.v.unsqueeze(0)).squeeze(0))\n",
    "        estimation_qualities.append(est[e.a])\n",
    "        true_qualities.append(v)\n",
    "    estimation_qualities = tc.stack(estimation_qualities)\n",
    "    true_qualities = tc.tensor(true_qualities).to(device)\n",
    "    agent.optimizer.zero_grad()\n",
    "    loss = agent.criterion(estimation_qualities, true_qualities)\n",
    "    loss.backward()\n",
    "    agent.optimizer.step()\n",
    "    \n",
    "\n",
    "def update_teacher(agent):\n",
    "    agent.teacher_model.load_state_dict(agent.Q_function.state_dict())\n",
    "\n",
    "    \n",
    "def train(agent, seed=0, train_episode_num=10000, teacher_freq=3, n=100):\n",
    "    experiences = deque(maxlen=1024)\n",
    "    train_count = 0\n",
    "    reward_records = []\n",
    "    \n",
    "    for _ in tqdm(range(train_episode_num)):\n",
    "        Ri = 0\n",
    "        env = ReconstructionEnv(\n",
    "            trainloader=trainloader,\n",
    "            testloader=testloader,\n",
    "            OuterStateClass=OuterState,\n",
    "            actions=actions,\n",
    "            T=T,\n",
    "            blur_func=blur_image\n",
    "        )\n",
    "        env.reset()\n",
    "        done = False\n",
    "        while not done:\n",
    "            action = agent.policy(env.state, train=True)\n",
    "            next_state, reward, done = env.step(action)\n",
    "            e = Experience(env.state, action, next_state, reward, done)\n",
    "            experiences.append(e)\n",
    "            Ri += reward\n",
    "            \n",
    "        if len(experiences) == 1024:\n",
    "            batch = random.sample(experiences, 32)\n",
    "            # update by 勾配TD学習\n",
    "            update(agent, batch)\n",
    "            train_count += 1\n",
    "        \n",
    "        if train_count % teacher_freq == 0:\n",
    "            # Target Networkを今の行動価値関数で更新\n",
    "            update_teacher(agent)\n",
    "        \n",
    "        reward_records.append(Ri)\n",
    "    \n",
    "    return reward_records"
   ]
  },
  {
   "cell_type": "code",
   "execution_count": null,
   "metadata": {},
   "outputs": [
    {
     "data": {
      "application/vnd.jupyter.widget-view+json": {
       "model_id": "63218027a8f64a389a0f6a89e8b75fb3",
       "version_major": 2,
       "version_minor": 0
      },
      "text/plain": [
       "HBox(children=(HTML(value=''), FloatProgress(value=0.0, max=40000.0), HTML(value='')))"
      ]
     },
     "metadata": {},
     "output_type": "display_data"
    }
   ],
   "source": [
    "train_conds = {\n",
    "    'seed': 100,\n",
    "    'trep': 40000,\n",
    "    'n': 1000,\n",
    "    'eps': 0.3,\n",
    "    'lr': 0.01\n",
    "}\n",
    "random.seed(train_conds['seed'])\n",
    "tc.random.manual_seed(train_conds['seed'])\n",
    "agent = DQNAgent(eps=train_conds['eps'], lr=train_conds['lr'])\n",
    "rewards = train(agent, train_episode_num=train_conds['trep'], n=train_conds['n'])\n",
    "view_moving_average(tc.tensor(rewards), n=train_conds['n'])"
   ]
  },
  {
   "cell_type": "code",
   "execution_count": 8,
   "metadata": {},
   "outputs": [
    {
     "data": {
      "image/png": "[encoded data removed]",
      "text/plain": [
       "<Figure size 144x144 with 1 Axes>"
      ]
     },
     "metadata": {
      "needs_background": "light"
     },
     "output_type": "display_data"
    },
    {
     "name": "stdout",
     "output_type": "stream",
     "text": [
      "1 回での random1 での復元\n",
      "loss of step(1) 7.71467399597168//\n",
      "reward_sum:  -7.71467399597168\n"
     ]
    },
    {
     "data": {
      "image/png": "[encoded data removed]",
      "text/plain": [
       "<Figure size 1440x144 with 2 Axes>"
      ]
     },
     "metadata": {
      "needs_background": "light"
     },
     "output_type": "display_data"
    },
    {
     "name": "stdout",
     "output_type": "stream",
     "text": [
      "['wiener_of_random1']\n"
     ]
    },
    {
     "data": {
      "image/png": "[encoded data removed]",
      "text/plain": [
       "<Figure size 144x144 with 1 Axes>"
      ]
     },
     "metadata": {
      "needs_background": "light"
     },
     "output_type": "display_data"
    },
    {
     "name": "stdout",
     "output_type": "stream",
     "text": [
      "1 回での gauss1 での復元\n",
      "loss of step(1) 15.24785041809082//\n",
      "reward_sum:  -15.24785041809082\n"
     ]
    },
    {
     "data": {
      "image/png": "[encoded data removed]",
      "text/plain": [
       "<Figure size 1440x144 with 2 Axes>"
      ]
     },
     "metadata": {
      "needs_background": "light"
     },
     "output_type": "display_data"
    },
    {
     "name": "stdout",
     "output_type": "stream",
     "text": [
      "['random1']\n"
     ]
    },
    {
     "data": {
      "image/png": "[encoded data removed]",
      "text/plain": [
       "<Figure size 144x144 with 1 Axes>"
      ]
     },
     "metadata": {
      "needs_background": "light"
     },
     "output_type": "display_data"
    },
    {
     "name": "stdout",
     "output_type": "stream",
     "text": [
      "1 回での random1 での復元\n",
      "loss of step(1) 5.821706295013428//\n",
      "reward_sum:  -5.821706295013428\n"
     ]
    },
    {
     "data": {
      "image/png": "[encoded data removed]",
      "text/plain": [
       "<Figure size 1440x144 with 2 Axes>"
      ]
     },
     "metadata": {
      "needs_background": "light"
     },
     "output_type": "display_data"
    },
    {
     "name": "stdout",
     "output_type": "stream",
     "text": [
      "['wiener_of_random1']\n"
     ]
    },
    {
     "data": {
      "image/png": "[encoded data removed]",
      "text/plain": [
       "<Figure size 144x144 with 1 Axes>"
      ]
     },
     "metadata": {
      "needs_background": "light"
     },
     "output_type": "display_data"
    },
    {
     "name": "stdout",
     "output_type": "stream",
     "text": [
      "1 回での gauss1 での復元\n",
      "loss of step(1) 23.030895233154297//\n",
      "reward_sum:  -23.030895233154297\n"
     ]
    },
    {
     "data": {
      "image/png": "[encoded data removed]",
      "text/plain": [
       "<Figure size 1440x144 with 2 Axes>"
      ]
     },
     "metadata": {
      "needs_background": "light"
     },
     "output_type": "display_data"
    },
    {
     "name": "stdout",
     "output_type": "stream",
     "text": [
      "['wiener_of_random1']\n"
     ]
    },
    {
     "data": {
      "image/png": "[encoded data removed]",
      "text/plain": [
       "<Figure size 144x144 with 1 Axes>"
      ]
     },
     "metadata": {
      "needs_background": "light"
     },
     "output_type": "display_data"
    },
    {
     "name": "stdout",
     "output_type": "stream",
     "text": [
      "1 回での random1 での復元\n",
      "loss of step(1) 40.08551025390625//\n",
      "reward_sum:  -40.08551025390625\n"
     ]
    },
    {
     "data": {
      "image/png": "[encoded data removed]",
      "text/plain": [
       "<Figure size 1440x144 with 2 Axes>"
      ]
     },
     "metadata": {
      "needs_background": "light"
     },
     "output_type": "display_data"
    },
    {
     "name": "stdout",
     "output_type": "stream",
     "text": [
      "['random1']\n"
     ]
    },
    {
     "data": {
      "image/png": "[encoded data removed]",
      "text/plain": [
       "<Figure size 144x144 with 1 Axes>"
      ]
     },
     "metadata": {
      "needs_background": "light"
     },
     "output_type": "display_data"
    },
    {
     "name": "stdout",
     "output_type": "stream",
     "text": [
      "1 回での random1 での復元\n",
      "loss of step(1) 9.801774978637695//\n",
      "reward_sum:  -9.801774978637695\n"
     ]
    },
    {
     "data": {
      "image/png": "[encoded data removed]",
      "text/plain": [
       "<Figure size 1440x144 with 2 Axes>"
      ]
     },
     "metadata": {
      "needs_background": "light"
     },
     "output_type": "display_data"
    },
    {
     "name": "stdout",
     "output_type": "stream",
     "text": [
      "['wiener_of_random1']\n"
     ]
    },
    {
     "data": {
      "image/png": "[encoded data removed]",
      "text/plain": [
       "<Figure size 144x144 with 1 Axes>"
      ]
     },
     "metadata": {
      "needs_background": "light"
     },
     "output_type": "display_data"
    },
    {
     "name": "stdout",
     "output_type": "stream",
     "text": [
      "1 回での random1 での復元\n",
      "loss of step(1) 34.11964416503906//\n",
      "reward_sum:  -34.11964416503906\n"
     ]
    },
    {
     "data": {
      "image/png": "[encoded data removed]",
      "text/plain": [
       "<Figure size 1440x144 with 2 Axes>"
      ]
     },
     "metadata": {
      "needs_background": "light"
     },
     "output_type": "display_data"
    },
    {
     "name": "stdout",
     "output_type": "stream",
     "text": [
      "['random1']\n"
     ]
    },
    {
     "data": {
      "image/png": "[encoded data removed]",
      "text/plain": [
       "<Figure size 144x144 with 1 Axes>"
      ]
     },
     "metadata": {
      "needs_background": "light"
     },
     "output_type": "display_data"
    },
    {
     "name": "stdout",
     "output_type": "stream",
     "text": [
      "1 回での gauss1 での復元\n",
      "loss of step(1) 14.65289306640625//\n",
      "reward_sum:  -14.65289306640625\n"
     ]
    },
    {
     "data": {
      "image/png": "[encoded data removed]",
      "text/plain": [
       "<Figure size 1440x144 with 2 Axes>"
      ]
     },
     "metadata": {
      "needs_background": "light"
     },
     "output_type": "display_data"
    },
    {
     "name": "stdout",
     "output_type": "stream",
     "text": [
      "['wiener_of_random1']\n"
     ]
    },
    {
     "data": {
      "image/png": "[encoded data removed]",
      "text/plain": [
       "<Figure size 144x144 with 1 Axes>"
      ]
     },
     "metadata": {
      "needs_background": "light"
     },
     "output_type": "display_data"
    },
    {
     "name": "stdout",
     "output_type": "stream",
     "text": [
      "1 回での random1 での復元\n",
      "loss of step(1) 13.076946258544922//\n",
      "reward_sum:  -13.076946258544922\n"
     ]
    },
    {
     "data": {
      "image/png": "[encoded data removed]",
      "text/plain": [
       "<Figure size 1440x144 with 2 Axes>"
      ]
     },
     "metadata": {
      "needs_background": "light"
     },
     "output_type": "display_data"
    },
    {
     "name": "stdout",
     "output_type": "stream",
     "text": [
      "['wiener_of_random1']\n"
     ]
    },
    {
     "data": {
      "image/png": "[encoded data removed]",
      "text/plain": [
       "<Figure size 144x144 with 1 Axes>"
      ]
     },
     "metadata": {
      "needs_background": "light"
     },
     "output_type": "display_data"
    },
    {
     "name": "stdout",
     "output_type": "stream",
     "text": [
      "1 回での gauss1 での復元\n",
      "loss of step(1) 35.05941390991211//\n",
      "reward_sum:  -35.05941390991211\n"
     ]
    },
    {
     "data": {
      "image/png": "[encoded data removed]",
      "text/plain": [
       "<Figure size 1440x144 with 2 Axes>"
      ]
     },
     "metadata": {
      "needs_background": "light"
     },
     "output_type": "display_data"
    },
    {
     "name": "stdout",
     "output_type": "stream",
     "text": [
      "['random1']\n"
     ]
    }
   ],
   "source": [
    "for i in range(10):\n",
    "    env = ReconstructionEnv(\n",
    "        trainloader=trainloader,\n",
    "        testloader=testloader,\n",
    "        OuterStateClass=OuterState,\n",
    "        actions=actions,\n",
    "        T=T,\n",
    "        blur_func=blur_image\n",
    "    )\n",
    "    env.reset()\n",
    "    test_policy(env, action_labels, T, agent)"
   ]
  },
  {
   "cell_type": "code",
   "execution_count": null,
   "metadata": {},
   "outputs": [],
   "source": [
    "# スコアの平均値を比較しておく\n",
    "tc.random.manual_seed(0)\n",
    "\n",
    "def random_one_try(action_dim):\n",
    "    env = ReconstructionEnv(OuterState, train=False)\n",
    "    env.reset()\n",
    "    done = False\n",
    "    reward_sum = 0\n",
    "    while not done:\n",
    "        a = tc.randint(0, action_dim + 1, ())\n",
    "        _, reward, done = env.step(a)\n",
    "        reward_sum += reward\n",
    "    return reward_sum\n",
    "\n",
    "def proper_inverse_filter_one_try():\n",
    "    env = ReconstructionEnv(OuterState, train=False)\n",
    "    env.reset()\n",
    "    done = False\n",
    "    reward_sum = 0\n",
    "    while not done:\n",
    "        a = 2 if env.decay_kernel_index == 0 else 3\n",
    "        _, reward, done = env.step(a)\n",
    "        reward_sum += reward\n",
    "    return reward_sum\n",
    "\n",
    "def upside_down():\n",
    "    env = ReconstructionEnv(OuterState, train=False)\n",
    "    env.reset()\n",
    "    done = False\n",
    "    reward_sum = 0\n",
    "    while not done:\n",
    "        a = 3 if env.decay_kernel_index == 0 else 2\n",
    "        _, reward, done = env.step(a)\n",
    "        reward_sum += reward\n",
    "    return reward_sum\n",
    "\n",
    "def agent_one_try(agent):\n",
    "    env = ReconstructionEnv(OuterState, train=False)\n",
    "    env.reset()\n",
    "    done = False\n",
    "    reward_sum = 0\n",
    "    while not done:\n",
    "        a = agent.policy(env.state)\n",
    "        _, reward, done = env.step(a)\n",
    "        reward_sum += reward\n",
    "    return reward_sum\n",
    "\n",
    "sum_info = {'random': 0, 'proper': 0, 'upside_down': 0, 'agent': 0}\n",
    "n = 1000\n",
    "for _ in tqdm(range(n)):\n",
    "    sum_info['random'] += random_one_try(agent.action_dim)\n",
    "    sum_info['proper'] += proper_inverse_filter_one_try()\n",
    "    sum_info['upside_down'] += upside_down()\n",
    "    sum_info['agent'] += agent_one_try(agent)\n",
    "\n",
    "for key, val in sum_info.items():\n",
    "    print(key, f'{val / n:.2f}')"
   ]
  },
  {
   "cell_type": "markdown",
   "metadata": {},
   "source": [
    "### それぞれのフィルタの報酬の総和をみておく"
   ]
  },
  {
   "cell_type": "code",
   "execution_count": 8,
   "metadata": {},
   "outputs": [
    {
     "name": "stdout",
     "output_type": "stream",
     "text": [
      "proper\n"
     ]
    },
    {
     "ename": "TypeError",
     "evalue": "__init__() missing 4 required positional arguments: 'testloader', 'OuterStateClass', 'T', and 'blur_filters'",
     "output_type": "error",
     "traceback": [
      "\u001b[0;31m---------------------------------------------------------------------------\u001b[0m",
      "\u001b[0;31mTypeError\u001b[0m                                 Traceback (most recent call last)",
      "\u001b[0;32m<ipython-input-8-a78a35bd81f5>\u001b[0m in \u001b[0;36m<module>\u001b[0;34m\u001b[0m\n\u001b[1;32m      1\u001b[0m \u001b[0;31m# proper\u001b[0m\u001b[0;34m\u001b[0m\u001b[0;34m\u001b[0m\u001b[0;34m\u001b[0m\u001b[0m\n\u001b[1;32m      2\u001b[0m \u001b[0mprint\u001b[0m\u001b[0;34m(\u001b[0m\u001b[0;34m'proper'\u001b[0m\u001b[0;34m)\u001b[0m\u001b[0;34m\u001b[0m\u001b[0;34m\u001b[0m\u001b[0m\n\u001b[0;32m----> 3\u001b[0;31m \u001b[0menv\u001b[0m \u001b[0;34m=\u001b[0m \u001b[0mReconstructionEnv\u001b[0m\u001b[0;34m(\u001b[0m\u001b[0mOuterState\u001b[0m\u001b[0;34m)\u001b[0m\u001b[0;34m\u001b[0m\u001b[0;34m\u001b[0m\u001b[0m\n\u001b[0m\u001b[1;32m      4\u001b[0m \u001b[0menv\u001b[0m\u001b[0;34m.\u001b[0m\u001b[0mreset\u001b[0m\u001b[0;34m(\u001b[0m\u001b[0;34m)\u001b[0m\u001b[0;34m\u001b[0m\u001b[0;34m\u001b[0m\u001b[0m\n\u001b[1;32m      5\u001b[0m \u001b[0ma\u001b[0m \u001b[0;34m=\u001b[0m \u001b[0;36m2\u001b[0m \u001b[0;32mif\u001b[0m \u001b[0menv\u001b[0m\u001b[0;34m.\u001b[0m\u001b[0mdecay_kernel_index\u001b[0m \u001b[0;34m==\u001b[0m \u001b[0;36m0\u001b[0m \u001b[0;32melse\u001b[0m \u001b[0;36m3\u001b[0m\u001b[0;34m\u001b[0m\u001b[0;34m\u001b[0m\u001b[0m\n",
      "\u001b[0;31mTypeError\u001b[0m: __init__() missing 4 required positional arguments: 'testloader', 'OuterStateClass', 'T', and 'blur_filters'"
     ]
    }
   ],
   "source": [
    "# proper\n",
    "print('proper')\n",
    "env = ReconstructionEnv(OuterState)\n",
    "env.reset()\n",
    "a = 2 if env.decay_kernel_index == 0 else 3\n",
    "test_policy(env, action_labels, fixed_action=a)\n",
    "print()\n",
    "\n",
    "# gauss1, gauss2\n",
    "for i in range(2):\n",
    "    print(action_labels[i])\n",
    "    env = ReconstructionEnv(OuterState)\n",
    "    env.reset()\n",
    "    test_policy(env, fixed_action=i)\n",
    "    print()"
   ]
  },
  {
   "cell_type": "code",
   "execution_count": null,
   "metadata": {},
   "outputs": [],
   "source": []
  },
  {
   "cell_type": "code",
   "execution_count": null,
   "metadata": {},
   "outputs": [],
   "source": []
  }
 ],
 "metadata": {
  "kernelspec": {
   "display_name": "Python 3",
   "language": "python",
   "name": "python3"
  },
  "language_info": {
   "codemirror_mode": {
    "name": "ipython",
    "version": 3
   },
   "file_extension": ".py",
   "mimetype": "text/x-python",
   "name": "python",
   "nbconvert_exporter": "python",
   "pygments_lexer": "ipython3",
   "version": "3.6.12"
  }
 },
 "nbformat": 4,
 "nbformat_minor": 4
}
