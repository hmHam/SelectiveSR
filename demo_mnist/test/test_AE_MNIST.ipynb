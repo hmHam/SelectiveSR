{
 "cells": [
  {
   "cell_type": "code",
   "execution_count": 66,
   "metadata": {},
   "outputs": [],
   "source": [
    "from torchvision import transforms\n",
    "import torchvision as tv\n",
    "from torch.utils.data import DataLoader\n",
    "\n",
    "transform = transforms.Compose([transforms.ToTensor()])\n",
    "trainset = tv.datasets.MNIST(root='data/', train=True, download=True, transform=transform)\n",
    "testset = tv.datasets.MNIST(root='data/', train=False, download=True, transform=transform)\n",
    "\n",
    "trainloader = DataLoader(trainset, shuffle=True, batch_size=32)\n",
    "testloader = DataLoader(testset, shuffle=False)"
   ]
  },
  {
   "cell_type": "code",
   "execution_count": 28,
   "metadata": {},
   "outputs": [
    {
     "data": {
      "image/png": "[encoded data removed]",
      "text/plain": [
       "<Figure size 1080x360 with 5 Axes>"
      ]
     },
     "metadata": {
      "needs_background": "light"
     },
     "output_type": "display_data"
    }
   ],
   "source": [
    "from matplotlib import pyplot as plt\n",
    "import numpy as np\n",
    "data = iter(trainloader)\n",
    "plt.figure(figsize=(15, 5))\n",
    "for i in range(5):\n",
    "    images, label = next(data)\n",
    "    plt.subplot(1, 5, i+1)\n",
    "    plt.imshow(images[0][0])\n",
    "    plt.axis('off')\n",
    "plt.show()"
   ]
  },
  {
   "cell_type": "code",
   "execution_count": 49,
   "metadata": {},
   "outputs": [],
   "source": [
    "# 20x20"
   ]
  },
  {
   "cell_type": "code",
   "execution_count": 52,
   "metadata": {},
   "outputs": [],
   "source": [
    "import torch as tc\n",
    "from torch import nn\n",
    "from torch.nn import functional as F\n",
    "\n",
    "\n",
    "class AutoEncoder1(nn.Module):\n",
    "    def __init__(self):\n",
    "        super(AutoEncoder1, self).__init__()\n",
    "        self.conv1 = nn.Conv2d(1, 8, 5)\n",
    "        self.conv2 = nn.Conv2d(8, 4, 5)\n",
    "        self.conv_transpose1 = nn.ConvTranspose2d(4, 8, 5)\n",
    "        self.conv_transpose2 = nn.ConvTranspose2d(8, 1, 5)\n",
    "    \n",
    "    def forward(self, x):\n",
    "        x = self.encode(x)\n",
    "        return self.decode(x)\n",
    "        \n",
    "    \n",
    "    def encode(self, x):\n",
    "        x = F.relu(self.conv1(x))\n",
    "        x = F.relu(self.conv2(x))\n",
    "        return x\n",
    "    \n",
    "    def decode(self, x):\n",
    "        x = F.relu(self.conv_transpose1(x))\n",
    "        x = F.relu(self.conv_transpose2(x))\n",
    "        return x"
   ]
  },
  {
   "cell_type": "code",
   "execution_count": 71,
   "metadata": {},
   "outputs": [],
   "source": [
    "from torch import optim\n",
    "device = tc.device('cuda:0')\n",
    "tc.random.manual_seed(1000)\n",
    "\n",
    "auto_encoder = AutoEncoder1()\n",
    "auto_encoder.to(device)\n",
    "loss_fn = nn.MSELoss()\n",
    "optimizer = optim.Adam(auto_encoder.parameters(), lr=0.01)\n",
    "for epoch in range(1):\n",
    "    for images, label in trainloader:\n",
    "        images = images.to(device)\n",
    "        x = auto_encoder(images)\n",
    "        optimizer.zero_grad()\n",
    "        loss = loss_fn(x, images)\n",
    "        loss.backward()\n",
    "        optimizer.step()"
   ]
  },
  {
   "cell_type": "code",
   "execution_count": 72,
   "metadata": {},
   "outputs": [
    {
     "data": {
      "image/png": "[encoded data removed]",
      "text/plain": [
       "<Figure size 1080x360 with 10 Axes>"
      ]
     },
     "metadata": {
      "needs_background": "light"
     },
     "output_type": "display_data"
    }
   ],
   "source": [
    "from matplotlib import pyplot as plt\n",
    "import numpy as np\n",
    "data = iter(testloader)\n",
    "fig, axes = plt.subplots(2, 5, figsize=(15, 5))\n",
    "\n",
    "for i in range(5):\n",
    "    images, _ = next(data)\n",
    "    images = images.to(device)\n",
    "    ax = axes[0][i]\n",
    "    ax.imshow(images[0][0].cpu())\n",
    "    ax.axis('off')\n",
    "    \n",
    "    with tc.no_grad():\n",
    "        reconstruct_images = auto_encoder(images)\n",
    "    ax = axes[1][i]\n",
    "    ax.imshow(reconstruct_images[0][0].cpu())\n",
    "    ax.axis('off')\n",
    "plt.show()"
   ]
  },
  {
   "cell_type": "code",
   "execution_count": 73,
   "metadata": {},
   "outputs": [
    {
     "data": {
      "text/plain": [
       "torch.Size([32, 4, 20, 20])"
      ]
     },
     "execution_count": 73,
     "metadata": {},
     "output_type": "execute_result"
    }
   ],
   "source": [
    "images, _ = next(iter(trainloader))\n",
    "images = images.to(device)\n",
    "vec = auto_encoder.encode(images)\n",
    "vec.shape"
   ]
  },
  {
   "cell_type": "code",
   "execution_count": 74,
   "metadata": {},
   "outputs": [],
   "source": [
    "tc.save(auto_encoder.state_dict(), '../AE_mnist20x20.pth')"
   ]
  },
  {
   "cell_type": "code",
   "execution_count": 47,
   "metadata": {},
   "outputs": [],
   "source": [
    "# 16x16"
   ]
  },
  {
   "cell_type": "code",
   "execution_count": 43,
   "metadata": {},
   "outputs": [],
   "source": [
    "import torch as tc\n",
    "from torch import nn\n",
    "from torch.nn import functional as F\n",
    "\n",
    "\n",
    "class AutoEncoder(nn.Module):\n",
    "    def __init__(self):\n",
    "        super(AutoEncoder, self).__init__()\n",
    "        self.conv1 = nn.Conv2d(1, 8, 5)\n",
    "        self.conv2 = nn.Conv2d(8, 6, 5)\n",
    "        self.conv3 = nn.Conv2d(6, 4, 5)\n",
    "        self.conv_transpose1 = nn.ConvTranspose2d(4, 6, 5)        \n",
    "        self.conv_transpose2 = nn.ConvTranspose2d(6, 8, 5)\n",
    "        self.conv_transpose3 = nn.ConvTranspose2d(8, 1, 5)\n",
    "    \n",
    "    def forward(self, x):\n",
    "        x = self.encode(x)\n",
    "        return self.decode(x)\n",
    "        \n",
    "    \n",
    "    def encode(self, x):\n",
    "        x = F.relu(self.conv1(x))\n",
    "        x = F.relu(self.conv2(x))\n",
    "        x = F.relu(self.conv3(x))\n",
    "        return x\n",
    "    \n",
    "    def decode(self, x):\n",
    "        x = F.relu(self.conv_transpose1(x))\n",
    "        x = F.relu(self.conv_transpose2(x))\n",
    "        x = F.relu(self.conv_transpose3(x))\n",
    "        return x"
   ]
  },
  {
   "cell_type": "code",
   "execution_count": 44,
   "metadata": {},
   "outputs": [],
   "source": [
    "from torch import optim\n",
    "device = tc.device('cuda:0')\n",
    "\n",
    "auto_encoder = AutoEncoder()\n",
    "auto_encoder.to(device)\n",
    "loss_fn = nn.MSELoss()\n",
    "optimizer = optim.Adam(auto_encoder.parameters(), lr=0.01)\n",
    "for epoch in range(3):\n",
    "    for images, label in trainloader:\n",
    "        images = images.to(device)\n",
    "        x = auto_encoder(images)\n",
    "        optimizer.zero_grad()\n",
    "        loss = loss_fn(x, images)\n",
    "        loss.backward()\n",
    "        optimizer.step()"
   ]
  },
  {
   "cell_type": "code",
   "execution_count": 30,
   "metadata": {},
   "outputs": [
    {
     "data": {
      "image/png": "[encoded data removed]",
      "text/plain": [
       "<Figure size 1080x360 with 10 Axes>"
      ]
     },
     "metadata": {
      "needs_background": "light"
     },
     "output_type": "display_data"
    }
   ],
   "source": [
    "from matplotlib import pyplot as plt\n",
    "import numpy as np\n",
    "data = iter(testloader)\n",
    "fig, axes = plt.subplots(2, 5, figsize=(15, 5))\n",
    "\n",
    "for i in range(5):\n",
    "    images, _ = next(data)\n",
    "    images = images.to(device)\n",
    "    ax = axes[0][i]\n",
    "    ax.imshow(images[0][0].cpu())\n",
    "    ax.axis('off')\n",
    "    \n",
    "    with tc.no_grad():\n",
    "        reconstruct_images = auto_encoder(images)\n",
    "    ax = axes[1][i]\n",
    "    ax.imshow(reconstruct_images[0][0].cpu())\n",
    "    ax.axis('off')\n",
    "plt.show()"
   ]
  },
  {
   "cell_type": "code",
   "execution_count": 45,
   "metadata": {},
   "outputs": [
    {
     "data": {
      "text/plain": [
       "torch.Size([4, 4, 16, 16])"
      ]
     },
     "execution_count": 45,
     "metadata": {},
     "output_type": "execute_result"
    }
   ],
   "source": [
    "images, _ = next(iter(trainloader))\n",
    "images = images.to(device)\n",
    "vec = auto_encoder.encode(images)\n",
    "vec.shape"
   ]
  },
  {
   "cell_type": "code",
   "execution_count": 46,
   "metadata": {},
   "outputs": [],
   "source": [
    "tc.save(auto_encoder.state_dict(), '../AE_mnist16x16.pth')"
   ]
  },
  {
   "cell_type": "code",
   "execution_count": null,
   "metadata": {},
   "outputs": [],
   "source": []
  }
 ],
 "metadata": {
  "kernelspec": {
   "display_name": "Python 3",
   "language": "python",
   "name": "python3"
  },
  "language_info": {
   "codemirror_mode": {
    "name": "ipython",
    "version": 3
   },
   "file_extension": ".py",
   "mimetype": "text/x-python",
   "name": "python",
   "nbconvert_exporter": "python",
   "pygments_lexer": "ipython3",
   "version": "3.6.12"
  }
 },
 "nbformat": 4,
 "nbformat_minor": 4
}
