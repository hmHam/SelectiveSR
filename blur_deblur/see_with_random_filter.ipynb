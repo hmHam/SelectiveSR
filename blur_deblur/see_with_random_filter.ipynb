{
 "cells": [
  {
   "cell_type": "code",
   "execution_count": 27,
   "metadata": {},
   "outputs": [],
   "source": [
    "import json\n",
    "\n",
    "data = [\n",
    "    {\n",
    "        'channel': 1,\n",
    "        'weight': 0.00,\n",
    "        'outdir': 'test',\n",
    "    },\n",
    "    {\n",
    "        'channel': 1,\n",
    "        'weight': 0.05,\n",
    "        'outdir': 'test',\n",
    "    },\n",
    "    {\n",
    "        'channel': 2,\n",
    "        'weight': 0.00,\n",
    "        'outdir': 'test',\n",
    "    },\n",
    "    {\n",
    "        'channel': 2,\n",
    "        'weight': 0.05,\n",
    "        'outdir': 'test',\n",
    "    },\n",
    "\n",
    "]\n",
    "with open('conditions.json', 'w') as f:\n",
    "    json.dump(data, f, indent=2)"
   ]
  },
  {
   "cell_type": "code",
   "execution_count": 2,
   "metadata": {},
   "outputs": [],
   "source": [
    "import pickle\n",
    "\n",
    "from scipy.stats import multivariate_normal\n",
    "from scipy.signal import fftconvolve\n",
    "from skimage import restoration\n",
    "from tqdm.notebook import tqdm\n",
    "from matplotlib import pyplot as plt\n",
    "import numpy as np\n",
    "import torch\n",
    "from torchvision import datasets\n",
    "\n",
    "from train_agent import blur"
   ]
  },
  {
   "cell_type": "code",
   "execution_count": 11,
   "metadata": {},
   "outputs": [],
   "source": [
    "def moving_average(r, n=100, label=''):\n",
    "    print(n)\n",
    "    ret = np.cumsum(r)\n",
    "    ret[n:] = ret[n:] - ret[:-n]\n",
    "    moving_average = ret[n - 1:] / n\n",
    "    return moving_average"
   ]
  },
  {
   "cell_type": "code",
   "execution_count": 4,
   "metadata": {},
   "outputs": [],
   "source": [
    "def show_rewards(dir_path, n=1000, label='', head=None):\n",
    "    plt.xlabel('Training Episodes')\n",
    "    plt.ylabel('Average Reward')\n",
    "    plt.ylim(-0.25, -0.1)\n",
    "    with open('%s/reward.pkl' % dir_path, 'rb') as f2:\n",
    "        reward = pickle.load(f2)\n",
    "    ma = moving_average(reward, n=n, label=label)\n",
    "    plt.plot(ma, label=label)\n",
    "#     plt.legend(bbox_to_anchor=(-0.5, 0), loc='lower left')"
   ]
  },
  {
   "cell_type": "code",
   "execution_count": 1,
   "metadata": {},
   "outputs": [
    {
     "ename": "NameError",
     "evalue": "name 'torch' is not defined",
     "output_type": "error",
     "traceback": [
      "\u001b[0;31m---------------------------------------------------------------------------\u001b[0m",
      "\u001b[0;31mNameError\u001b[0m                                 Traceback (most recent call last)",
      "\u001b[0;32m<ipython-input-1-a1878a40aa65>\u001b[0m in \u001b[0;36m<module>\u001b[0;34m\u001b[0m\n\u001b[1;32m      1\u001b[0m \u001b[0;31m# define Q function\u001b[0m\u001b[0;34m\u001b[0m\u001b[0;34m\u001b[0m\u001b[0;34m\u001b[0m\u001b[0m\n\u001b[1;32m      2\u001b[0m \u001b[0mdevice\u001b[0m \u001b[0;34m=\u001b[0m \u001b[0;34m'cuda:0'\u001b[0m\u001b[0;34m\u001b[0m\u001b[0;34m\u001b[0m\u001b[0m\n\u001b[0;32m----> 3\u001b[0;31m \u001b[0;32mclass\u001b[0m \u001b[0mMnistNet\u001b[0m\u001b[0;34m(\u001b[0m\u001b[0mtorch\u001b[0m\u001b[0;34m.\u001b[0m\u001b[0mnn\u001b[0m\u001b[0;34m.\u001b[0m\u001b[0mModule\u001b[0m\u001b[0;34m)\u001b[0m\u001b[0;34m:\u001b[0m\u001b[0;34m\u001b[0m\u001b[0;34m\u001b[0m\u001b[0m\n\u001b[0m\u001b[1;32m      4\u001b[0m     \u001b[0;32mdef\u001b[0m \u001b[0m__init__\u001b[0m\u001b[0;34m(\u001b[0m\u001b[0mself\u001b[0m\u001b[0;34m,\u001b[0m \u001b[0mc\u001b[0m\u001b[0;34m=\u001b[0m\u001b[0;36m1\u001b[0m\u001b[0;34m,\u001b[0m \u001b[0mm\u001b[0m\u001b[0;34m=\u001b[0m\u001b[0;34m[\u001b[0m\u001b[0;36m20\u001b[0m\u001b[0;34m,\u001b[0m \u001b[0;36m20\u001b[0m\u001b[0;34m,\u001b[0m \u001b[0;36m5\u001b[0m\u001b[0;34m]\u001b[0m\u001b[0;34m)\u001b[0m\u001b[0;34m:\u001b[0m\u001b[0;34m\u001b[0m\u001b[0;34m\u001b[0m\u001b[0m\n\u001b[1;32m      5\u001b[0m         \u001b[0msuper\u001b[0m\u001b[0;34m(\u001b[0m\u001b[0mMnistNet\u001b[0m\u001b[0;34m,\u001b[0m \u001b[0mself\u001b[0m\u001b[0;34m)\u001b[0m\u001b[0;34m.\u001b[0m\u001b[0m__init__\u001b[0m\u001b[0;34m(\u001b[0m\u001b[0;34m)\u001b[0m\u001b[0;34m\u001b[0m\u001b[0;34m\u001b[0m\u001b[0m\n",
      "\u001b[0;31mNameError\u001b[0m: name 'torch' is not defined"
     ]
    }
   ],
   "source": [
    "# define Q function\n",
    "device = 'cuda:0'\n",
    "class MnistNet(torch.nn.Module):\n",
    "    def __init__(self, c=1, m=[20, 20, 5]):\n",
    "        super(MnistNet, self).__init__()\n",
    "        self.m = m\n",
    "        self.conv1 = torch.nn.Conv2d(c, self.m[0], 5, stride=1, padding=0)\n",
    "        self.conv2 = torch.nn.Conv2d(self.m[0], self.m[1], 5, stride=1, padding=0)\n",
    "        self.fc = torch.nn.Linear(4*4*self.m[1], m[2])\n",
    "        self.scale = torch.nn.Parameter(torch.tensor(1.0))\n",
    "\n",
    "    def forward(self, x):\n",
    "        x = torch.nn.functional.relu(self.conv1(x))\n",
    "        x = torch.nn.functional.max_pool2d(x, 2, 2)\n",
    "        x = torch.nn.functional.relu(self.conv2(x))\n",
    "        x = torch.nn.functional.max_pool2d(x, 2, 2)\n",
    "        x = x.view(-1, 4*4*self.m[1])\n",
    "        x = self.fc(x)\n",
    "        return x, self.scale*x \n",
    "\n",
    "Qnet = MnistNet(m=[20, 20, len(filt)])\n",
    "Qnet.load_state_dict(torch.load('channel01_weight000_seed00/Qnet020000.pth'))"
   ]
  },
  {
   "cell_type": "markdown",
   "metadata": {},
   "source": [
    "### 復元処理候補からぼやけさせる処理を省いたらどうなる"
   ]
  },
  {
   "cell_type": "code",
   "execution_count": 20,
   "metadata": {},
   "outputs": [],
   "source": [
    "target_model_dir = 'withRandom/channel01_weight000_seed00'"
   ]
  },
  {
   "cell_type": "code",
   "execution_count": 21,
   "metadata": {},
   "outputs": [
    {
     "name": "stdout",
     "output_type": "stream",
     "text": [
      "1000\n"
     ]
    },
    {
     "data": {
      "image/png": "[encoded data removed]",
      "text/plain": [
       "<Figure size 432x288 with 1 Axes>"
      ]
     },
     "metadata": {
      "needs_background": "light"
     },
     "output_type": "display_data"
    }
   ],
   "source": [
    "show_rewards(target_model_dir, label='average reward')"
   ]
  },
  {
   "cell_type": "markdown",
   "metadata": {},
   "source": [
    "### ↑のagentを用いた復元"
   ]
  },
  {
   "cell_type": "code",
   "execution_count": 6,
   "metadata": {},
   "outputs": [],
   "source": [
    "filt = []\n",
    "filt.append(lambda x: x)\n",
    "filt.append(lambda x: np.maximum(0, restoration.wiener(x, kernel1, 1e-2)))\n",
    "filt.append(lambda x: np.maximum(0, restoration.wiener(x, kernel2, 1e-2)))\n",
    "\n",
    "def restore_by_agent(Qnet, blur_img):\n",
    "    restore = torch.from_numpy(blur_img).to(torch.float)\n",
    "    for _ in range(5):\n",
    "        with torch.no_grad():\n",
    "            q, _ = Qnet(restore[None, None, ...])\n",
    "            q = q[0].numpy()\n",
    "            a = np.argmax(q)\n",
    "        restore = filt[a](restore.numpy())\n",
    "        restore = torch.from_numpy(restore).to(torch.float)\n",
    "    return restore.numpy()\n",
    "\n",
    "\n",
    "def measure_agent_ability(target_dir):\n",
    "    Qnet = MnistNet(m=[20, 20, len(filt)])\n",
    "    Qnet.load_state_dict(torch.load('%s/Qnet040000.pth' % target_dir))\n",
    "    data = datasets.MNIST(root='./data', train=False)\n",
    "    test_imgs = data.data.numpy() / 255\n",
    "    N = 10000\n",
    "\n",
    "    samples = []\n",
    "    for test_img in tqdm(test_imgs[:N]):\n",
    "        results_per_img = []\n",
    "        # filt 3 times\n",
    "        img_blurred_by_gauss = blur(test_img, gauss_filt, 3)\n",
    "        restore1 = restore_by_agent(Qnet, img_blurred_by_gauss)\n",
    "        results_per_img.append(np.mean((restore1-test_img)**2))\n",
    "\n",
    "        img_blurred_by_random = blur(test_img, random_filt, 3)\n",
    "        restore2 = restore_by_agent(Qnet, img_blurred_by_random)\n",
    "        results_per_img.append(np.mean((restore2-test_img)**2))\n",
    "\n",
    "        img_blurred_by_smooth = blur(test_img, smooth_filt, 3)\n",
    "        restore3 = restore_by_agent(Qnet, img_blurred_by_smooth)\n",
    "        results_per_img.append(np.mean((restore3-test_img)**2))\n",
    "        samples.append(results_per_img)\n",
    "    return np.array(samples)"
   ]
  },
  {
   "cell_type": "code",
   "execution_count": 144,
   "metadata": {},
   "outputs": [
    {
     "data": {
      "application/vnd.jupyter.widget-view+json": {
       "model_id": "5f975b9b83dc487fb60b4de62356b035",
       "version_major": 2,
       "version_minor": 0
      },
      "text/plain": [
       "HBox(children=(HTML(value=''), FloatProgress(value=0.0, max=10000.0), HTML(value='')))"
      ]
     },
     "metadata": {},
     "output_type": "display_data"
    },
    {
     "name": "stdout",
     "output_type": "stream",
     "text": [
      "\n"
     ]
    },
    {
     "data": {
      "text/plain": [
       "array([0.02812058, 0.03015124, 0.03165078])"
      ]
     },
     "execution_count": 144,
     "metadata": {},
     "output_type": "execute_result"
    }
   ],
   "source": [
    "samples000 = measure_agent_ability('withRandom/channel01_weight000_seed00')\n",
    "samples000.mean(axis=0)"
   ]
  },
  {
   "cell_type": "code",
   "execution_count": 147,
   "metadata": {},
   "outputs": [
    {
     "data": {
      "application/vnd.jupyter.widget-view+json": {
       "model_id": "c2cf269675b1464f9b342c66a50d569b",
       "version_major": 2,
       "version_minor": 0
      },
      "text/plain": [
       "HBox(children=(HTML(value=''), FloatProgress(value=0.0, max=10000.0), HTML(value='')))"
      ]
     },
     "metadata": {},
     "output_type": "display_data"
    },
    {
     "name": "stdout",
     "output_type": "stream",
     "text": [
      "\n"
     ]
    },
    {
     "data": {
      "text/plain": [
       "array([0.01733715, 0.02158289, 0.02506648])"
      ]
     },
     "execution_count": 147,
     "metadata": {},
     "output_type": "execute_result"
    }
   ],
   "source": [
    "samples005 = measure_agent_ability('withRandom/channel01_weight005_seed00')\n",
    "samples005.mean(axis=0)"
   ]
  },
  {
   "cell_type": "markdown",
   "metadata": {},
   "source": [
    "### その復元画像"
   ]
  },
  {
   "cell_type": "markdown",
   "metadata": {},
   "source": [
    "### ３つのフィルタそれぞれでぼやかした画像は最初の時点でどの程度違う？"
   ]
  },
  {
   "cell_type": "code",
   "execution_count": 74,
   "metadata": {},
   "outputs": [],
   "source": [
    "filt = []\n",
    "filt.append(lambda x: x)\n",
    "filt.append(lambda x: np.maximum(0, fftconvolve(x, kernel1, mode='same')))\n",
    "filt.append(lambda x: np.maximum(0, fftconvolve(x, kernel2, mode='same')))\n",
    "filt.append(lambda x: np.maximum(0, restoration.wiener(x, kernel1, 1e-2)))\n",
    "filt.append(lambda x: np.maximum(0, restoration.wiener(x, kernel2, 1e-2)))"
   ]
  },
  {
   "cell_type": "code",
   "execution_count": 66,
   "metadata": {},
   "outputs": [
    {
     "data": {
      "application/vnd.jupyter.widget-view+json": {
       "model_id": "1652907207484500aa0a8f646500f296",
       "version_major": 2,
       "version_minor": 0
      },
      "text/plain": [
       "HBox(children=(HTML(value=''), FloatProgress(value=0.0, max=10000.0), HTML(value='')))"
      ]
     },
     "metadata": {},
     "output_type": "display_data"
    },
    {
     "name": "stdout",
     "output_type": "stream",
     "text": [
      "\n"
     ]
    }
   ],
   "source": [
    "N = 10000\n",
    "data = datasets.MNIST(root='./data', train=False, download=True)\n",
    "samples1 = []\n",
    "for idx in tqdm(range(N)):\n",
    "    test_img = data.data[idx].numpy() / 255\n",
    "    result_per_times = []\n",
    "    for i in range(1, 6):\n",
    "        img_blurred_by_gauss = blur(test_img, gauss_filt, i)\n",
    "        img_blurred_by_random = blur(test_img, random_filt, i)\n",
    "        img_blurred_by_smooth = blur(test_img, smooth_filt, i)\n",
    "        \n",
    "        diff_g_vs_r = np.mean((img_blurred_by_gauss - img_blurred_by_random)**2)\n",
    "        diff_g_vs_s = np.mean((img_blurred_by_gauss - img_blurred_by_smooth)**2)\n",
    "        diff_r_vs_s = np.mean((img_blurred_by_random - img_blurred_by_smooth)**2)\n",
    "        \n",
    "        result_per_times.append([diff_g_vs_r, diff_g_vs_s, diff_r_vs_s])\n",
    "    samples1.append(result_per_times)\n",
    "samples1 = np.array(samples1)"
   ]
  },
  {
   "cell_type": "code",
   "execution_count": 48,
   "metadata": {},
   "outputs": [
    {
     "name": "stdout",
     "output_type": "stream",
     "text": [
      "gauss vs random 0.0006\t0.0003\t0.0003\t0.0002\t0.0002\t\n",
      "gauss vs smooth 0.0007\t0.0004\t0.0003\t0.0003\t0.0003\t\n",
      "random vs smooth 0.0002\t0.0001\t0.0001\t0.0001\t0.0001\t\n"
     ]
    }
   ],
   "source": [
    "for label, row in zip(['gauss vs random', 'gauss vs smooth', 'random vs smooth'], samples1.mean(axis=0).T):\n",
    "    print(label, end=' ')\n",
    "    for cell in row:\n",
    "        print(round(cell, 4), end='\\t')\n",
    "    print()"
   ]
  },
  {
   "cell_type": "markdown",
   "metadata": {},
   "source": [
    "### ランダムフィルタでぼやけさせた画像にガウスフィルタでぼやけた画像に対して決定する行動系列を用いたらどうなる?"
   ]
  },
  {
   "cell_type": "code",
   "execution_count": 63,
   "metadata": {},
   "outputs": [
    {
     "data": {
      "application/vnd.jupyter.widget-view+json": {
       "model_id": "bf79a9c3e4c74366ae4898037fbaaf87",
       "version_major": 2,
       "version_minor": 0
      },
      "text/plain": [
       "HBox(children=(HTML(value=''), FloatProgress(value=0.0, max=10000.0), HTML(value='')))"
      ]
     },
     "metadata": {},
     "output_type": "display_data"
    },
    {
     "name": "stdout",
     "output_type": "stream",
     "text": [
      "\n"
     ]
    }
   ],
   "source": [
    "N = 10000\n",
    "test_imgs = data.data.numpy() / 255\n",
    "samples2 = []\n",
    "for test_img in tqdm(test_imgs):\n",
    "    img_blurred_by_gauss = blur(test_img, gauss_filt, 3)\n",
    "    img_blurred_by_random = blur(test_img, random_filt, 3)\n",
    "    \n",
    "    # get determined actions from agent for img blurred by gauss filt\n",
    "    actions = []\n",
    "    restore = torch.from_numpy(img_blurred_by_gauss).to(torch.float)\n",
    "    for _ in range(5):\n",
    "        with torch.no_grad():\n",
    "            q, _ = Qnet(restore[None, None, ...])\n",
    "            q = q[0].numpy()\n",
    "            a = np.argmax(q)\n",
    "            actions.append(a)\n",
    "        restore = torch.from_numpy(filt[a](restore.numpy())).to(torch.float)\n",
    "    # use only gauss wiener to restore image\n",
    "    restore2 = img_blurred_by_random\n",
    "    for a in actions:\n",
    "        restore2 = filt[a](restore2)\n",
    "    samples2.append(np.mean((restore2-test_img)**2))\n",
    "samples2 = np.array(samples2)"
   ]
  },
  {
   "cell_type": "code",
   "execution_count": 64,
   "metadata": {},
   "outputs": [
    {
     "data": {
      "text/plain": [
       "0.024949035390108783"
      ]
     },
     "execution_count": 64,
     "metadata": {},
     "output_type": "execute_result"
    }
   ],
   "source": [
    "samples2.mean(axis=0)"
   ]
  }
 ],
 "metadata": {
  "kernelspec": {
   "display_name": "Python 3",
   "language": "python",
   "name": "python3"
  },
  "language_info": {
   "codemirror_mode": {
    "name": "ipython",
    "version": 3
   },
   "file_extension": ".py",
   "mimetype": "text/x-python",
   "name": "python",
   "nbconvert_exporter": "python",
   "pygments_lexer": "ipython3",
   "version": "3.6.12"
  }
 },
 "nbformat": 4,
 "nbformat_minor": 4
}
