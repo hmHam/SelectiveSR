{
 "cells": [
  {
   "cell_type": "code",
   "execution_count": 1,
   "id": "9ef28ba5",
   "metadata": {},
   "outputs": [],
   "source": [
    "import sys\n",
    "import os\n",
    "sys.path.append(\n",
    "    os.path.dirname(os.path.abspath('.'))\n",
    ")\n",
    "from src import QNet, agent_metrics, show_reward\n",
    "### path load\n",
    "\n",
    "import numpy as np\n",
    "import torch\n",
    "from torchvision import datasets\n",
    "from tqdm.notebook import tqdm\n",
    "from matplotlib import pyplot as plt\n",
    "\n",
    "from shift_funcs import get_funcs\n",
    "\n",
    "SEED = 0\n",
    "device = 'cuda:0'"
   ]
  },
  {
   "cell_type": "code",
   "execution_count": 3,
   "id": "503dd96b",
   "metadata": {},
   "outputs": [
    {
     "data": {
      "application/vnd.jupyter.widget-view+json": {
       "model_id": "36607971426a4980a128eed50f1e1889",
       "version_major": 2,
       "version_minor": 0
      },
      "text/plain": [
       "HBox(children=(HTML(value=''), FloatProgress(value=0.0, max=1.0), HTML(value='')))"
      ]
     },
     "metadata": {},
     "output_type": "display_data"
    },
    {
     "name": "stdout",
     "output_type": "stream",
     "text": [
      "1 channel weight: =  0.0\n",
      "RESULT_PATH results/shift1/diag_xfyf_xbyb/channel01_weight000_seed00\n"
     ]
    },
    {
     "data": {
      "image/png": "[encoded data removed]",
      "text/plain": [
       "<Figure size 432x288 with 1 Axes>"
      ]
     },
     "metadata": {
      "needs_background": "light"
     },
     "output_type": "display_data"
    },
    {
     "name": "stdout",
     "output_type": "stream",
     "text": [
      "test func 0\n",
      "TEST_DATASET_PATH data/shift1/test_0_dataset.npz\n",
      "MODEL_PATH results/shift1/diag_xfyf_xbyb/channel01_weight000_seed00/Qnet020000.pth\n"
     ]
    },
    {
     "data": {
      "application/vnd.jupyter.widget-view+json": {
       "model_id": "2b2235be7e6c4797ae940fd7982d4695",
       "version_major": 2,
       "version_minor": 0
      },
      "text/plain": [
       "HBox(children=(HTML(value=''), FloatProgress(value=0.0, max=10000.0), HTML(value='')))"
      ]
     },
     "metadata": {},
     "output_type": "display_data"
    },
    {
     "name": "stdout",
     "output_type": "stream",
     "text": [
      "\n",
      "MSE(test_dataset, agent_outputs) =  0.18710288813656908\n",
      "action frequency\n",
      "(array([1., 0., 0., 0., 0.]), array([-0.5,  0.5,  1.5,  2.5,  3.5,  4.5]))\n",
      "METRIC_PATH results/shift1/diag_xfyf_xbyb/channel01_weight000_seed00/metrics0_187\n",
      "--------------------\n",
      "\n",
      "test func 1\n",
      "TEST_DATASET_PATH data/shift1/test_1_dataset.npz\n",
      "MODEL_PATH results/shift1/diag_xfyf_xbyb/channel01_weight000_seed00/Qnet020000.pth\n"
     ]
    },
    {
     "data": {
      "application/vnd.jupyter.widget-view+json": {
       "model_id": "72e65f318cf1430d90f3926b68221171",
       "version_major": 2,
       "version_minor": 0
      },
      "text/plain": [
       "HBox(children=(HTML(value=''), FloatProgress(value=0.0, max=10000.0), HTML(value='')))"
      ]
     },
     "metadata": {},
     "output_type": "display_data"
    },
    {
     "name": "stdout",
     "output_type": "stream",
     "text": [
      "\n",
      "MSE(test_dataset, agent_outputs) =  0.19865308441751525\n",
      "action frequency\n",
      "(array([1., 0., 0., 0., 0.]), array([-0.5,  0.5,  1.5,  2.5,  3.5,  4.5]))\n",
      "METRIC_PATH results/shift1/diag_xfyf_xbyb/channel01_weight000_seed00/metrics1_198\n",
      "--------------------\n",
      "\n",
      "test func 03\n",
      "TEST_DATASET_PATH data/shift1/test_03_dataset.npz\n",
      "MODEL_PATH results/shift1/diag_xfyf_xbyb/channel01_weight000_seed00/Qnet020000.pth\n"
     ]
    },
    {
     "data": {
      "application/vnd.jupyter.widget-view+json": {
       "model_id": "1ca77c32d62c4b1e901a728fc8d692e9",
       "version_major": 2,
       "version_minor": 0
      },
      "text/plain": [
       "HBox(children=(HTML(value=''), FloatProgress(value=0.0, max=10000.0), HTML(value='')))"
      ]
     },
     "metadata": {},
     "output_type": "display_data"
    },
    {
     "name": "stdout",
     "output_type": "stream",
     "text": [
      "\n",
      "MSE(test_dataset, agent_outputs) =  0.16389407981392798\n",
      "action frequency\n",
      "(array([9.999e-01, 1.000e-04, 0.000e+00, 0.000e+00, 0.000e+00]), array([-0.5,  0.5,  1.5,  2.5,  3.5,  4.5]))\n",
      "METRIC_PATH results/shift1/diag_xfyf_xbyb/channel01_weight000_seed00/metrics03_163\n",
      "--------------------\n",
      "\n",
      "\n"
     ]
    }
   ],
   "source": [
    "# 実験条件を指定\n",
    "SL = 1\n",
    "SEED = 0\n",
    "#['xfyf','xfyf_xbyb']\n",
    "for DT in tqdm(['xfyf_xbyb']):\n",
    "    for (CHANNEL, WEIGHT) in [\n",
    "        [1, 0.00],\n",
    "#         [2, 0.05],\n",
    "    ]:\n",
    "        print(CHANNEL, 'channel', 'weight: = ', WEIGHT)\n",
    "        RESULT_PATH = os.path.join(\n",
    "            'results/shift%d/diag_%s/' % (SL, DT),\n",
    "            'channel%02d_weight%03d_seed%02d' % (CHANNEL, int(100*WEIGHT), SEED)\n",
    "        )\n",
    "        print(\"RESULT_PATH\", RESULT_PATH)\n",
    "\n",
    "        funcs = [get_funcs(*delta) for delta in [\n",
    "            (SL, SL),\n",
    "            (SL, -SL),\n",
    "            (-SL, SL),\n",
    "            (-SL, -SL),\n",
    "        ]]\n",
    "        actions = [lambda x: x] + [f[1] for f in funcs]\n",
    "\n",
    "        # see reward\n",
    "        ax = plt.subplot(111)\n",
    "        ma = show_reward(ax, dir_path=RESULT_PATH, mono=False, n=10000, label='reward')\n",
    "        plt.show()\n",
    "\n",
    "        for TEST_FUNC in ['0', '1', '03']:\n",
    "            print('test func', TEST_FUNC)\n",
    "            # load test data\n",
    "            TEST_DATASET_PATH = 'data/shift%d/test_%s_dataset.npz' % (SL, TEST_FUNC)\n",
    "            print(\"TEST_DATASET_PATH\", TEST_DATASET_PATH)\n",
    "            test_dataset_context = np.load(TEST_DATASET_PATH)\n",
    "            originals = test_dataset_context['original_dataset']\n",
    "            test_dataset = test_dataset_context['test_dataset']\n",
    "            test_func_labels = test_dataset_context['test_func_labels']\n",
    "            test_dataset = torch.from_numpy(test_dataset)\n",
    "            originals = torch.from_numpy(originals)\n",
    "\n",
    "            # load model\n",
    "            Qnet = QNet(c=CHANNEL, m=[20, 20, len(actions)])\n",
    "            MODEL_PATH = os.path.join(RESULT_PATH, 'Qnet020000.pth')\n",
    "            print('MODEL_PATH', MODEL_PATH)\n",
    "            Qnet.load_state_dict(\n",
    "                torch.load(MODEL_PATH)\n",
    "            )\n",
    "            result = agent_metrics(test_dataset, originals, Qnet, actions, channel=CHANNEL)\n",
    "            mse = result[:, -1].mean()\n",
    "            print('MSE(test_dataset, agent_outputs) = ', mse)\n",
    "            print('action frequency')\n",
    "            print(np.histogram(result[:, -1], bins=np.arange(6) - 0.5, density=True))\n",
    "\n",
    "            METRIC_PATH = os.path.join(RESULT_PATH, f'metrics{TEST_FUNC}_{int(1000*mse):03d}')\n",
    "            print(\"METRIC_PATH\", METRIC_PATH)\n",
    "            np.save(METRIC_PATH, result)\n",
    "            print('-' * 20)\n",
    "            print()"
   ]
  },
  {
   "cell_type": "code",
   "execution_count": 42,
   "id": "8a4ea6a8",
   "metadata": {},
   "outputs": [
    {
     "data": {
      "text/plain": [
       "(array([1., 0., 0., 0., 0.]), array([-0.5,  0.5,  1.5,  2.5,  3.5,  4.5]))"
      ]
     },
     "execution_count": 42,
     "metadata": {},
     "output_type": "execute_result"
    }
   ],
   "source": [
    "np.histogram(result[:, -1], bins=np.arange(6) - 0.5, density=True)"
   ]
  },
  {
   "cell_type": "code",
   "execution_count": null,
   "id": "d92ee6ec",
   "metadata": {},
   "outputs": [],
   "source": []
  }
 ],
 "metadata": {
  "kernelspec": {
   "display_name": "Python 3",
   "language": "python",
   "name": "python3"
  },
  "language_info": {
   "codemirror_mode": {
    "name": "ipython",
    "version": 3
   },
   "file_extension": ".py",
   "mimetype": "text/x-python",
   "name": "python",
   "nbconvert_exporter": "python",
   "pygments_lexer": "ipython3",
   "version": "3.6.12"
  }
 },
 "nbformat": 4,
 "nbformat_minor": 5
}
