{
 "cells": [
  {
   "cell_type": "markdown",
   "id": "0b3a1598",
   "metadata": {},
   "source": [
    "### 単射となる変換のみを考える"
   ]
  },
  {
   "cell_type": "code",
   "execution_count": 4,
   "id": "f930a948",
   "metadata": {},
   "outputs": [],
   "source": [
    "import pickle\n",
    "import os\n",
    "import torch\n",
    "from torchvision import datasets, transforms\n",
    "\n",
    "from shift_funcs import get_funcs\n",
    "import numpy as np\n",
    "\n",
    "SEED = 0\n",
    "SAMPLE_SIZE = 1000"
   ]
  },
  {
   "cell_type": "code",
   "execution_count": 5,
   "id": "11e2e75d",
   "metadata": {},
   "outputs": [],
   "source": [
    "# def augument_data(source):\n",
    "#     data = []\n",
    "#     for c in source:\n",
    "#         new = [\n",
    "#             c,\n",
    "#             np.rot90(c, np.random.randint(1, 4)),\n",
    "#             np.fliplr(c),\n",
    "#             np.flipud(c)                \n",
    "#         ]\n",
    "#         data.extend(new)\n",
    "#     data = np.array(data, dtype=source.dtype)\n",
    "#     return data"
   ]
  },
  {
   "cell_type": "code",
   "execution_count": 6,
   "id": "fdcc28e8",
   "metadata": {},
   "outputs": [],
   "source": [
    "def apply(original_set, filter_indices_set, funcs):  \n",
    "    dataset = []\n",
    "    for k, indices in enumerate(filter_indices_set):\n",
    "        img = original_set[k]\n",
    "        det_img = img.copy()\n",
    "        for i in indices:\n",
    "            func, _ = funcs[i]\n",
    "            det_img = func(det_img)\n",
    "        dataset.append(det_img)\n",
    "    return np.array(dataset)"
   ]
  },
  {
   "cell_type": "code",
   "execution_count": 7,
   "id": "689a5ca7",
   "metadata": {},
   "outputs": [],
   "source": [
    "def create_train_dataset(func_indices, shift_len, C=3, fname='', seed=SEED, size=SAMPLE_SIZE):\n",
    "    funcs = [get_funcs(*delta) for delta in [\n",
    "        (shift_len, shift_len),\n",
    "        (shift_len, -shift_len),\n",
    "        (-shift_len, shift_len),\n",
    "        (-shift_len, -shift_len),\n",
    "    ]]\n",
    "\n",
    "    np.random.seed(seed)\n",
    "    train_dataset = datasets.MNIST(root='../open_data/', train=True, download=True)\n",
    "    idx = np.random.choice(train_dataset.data.shape[0], size)\n",
    "    imgs = train_dataset.data[idx].numpy()\n",
    "#     augumented_dataset = augument_data(imgs)\n",
    "    originals = imgs\n",
    "    originals = originals / 255\n",
    "\n",
    "    train_filter_set = np.random.choice(func_indices, (originals.shape[0], C))\n",
    "    train_dataset = apply(originals, train_filter_set, funcs)\n",
    "\n",
    "    np.savez(\n",
    "        os.path.join('data', fname),\n",
    "        train_dataset=train_dataset,\n",
    "        train_func_labels=train_filter_set,\n",
    "        original_dataset=originals,\n",
    "    )"
   ]
  },
  {
   "cell_type": "code",
   "execution_count": 8,
   "id": "860432da",
   "metadata": {},
   "outputs": [],
   "source": [
    "# テストデータ\n",
    "def create_test_dataset(shift_len, func_indices, fname=''):\n",
    "    funcs = [get_funcs(*delta) for delta in [\n",
    "        (shift_len, shift_len),\n",
    "        (shift_len, -shift_len),\n",
    "        (-shift_len, shift_len),\n",
    "        (-shift_len, -shift_len),\n",
    "    ]]\n",
    "    \n",
    "    np.random.seed(SEED + 1000)\n",
    "    originals = datasets.MNIST(root='../open_data/', train=False, download=True).data.numpy()\n",
    "    originals = originals / 255    \n",
    "    test_filter_set = np.random.choice(func_indices, (originals.shape[0], 3))\n",
    "    \n",
    "    test_dataset = apply(originals, test_filter_set, funcs)\n",
    "    np.savez(\n",
    "        os.path.join('data', fname),\n",
    "        test_dataset=test_dataset,\n",
    "        original_dataset=originals,\n",
    "        test_func_labels=test_filter_set,\n",
    "    )"
   ]
  },
  {
   "cell_type": "code",
   "execution_count": 9,
   "id": "11baa946",
   "metadata": {},
   "outputs": [],
   "source": [
    "def create_dataset(shift_len):\n",
    "    os.makedirs('data/shift%d' % shift_len, exist_ok=True)\n",
    "    create_test_dataset(shift_len=shift_len, func_indices=[0], fname='shift%d/test_0_dataset.npz' % shift_len)\n",
    "    create_test_dataset(shift_len=shift_len, func_indices=[0, 3], fname='shift%d/test_03_dataset.npz' % shift_len)\n",
    "    create_test_dataset(shift_len=shift_len, func_indices=[1], fname='shift%d/test_1_dataset.npz' % shift_len)\n",
    "\n",
    "    # f: forward, b: backward\n",
    "    create_train_dataset(func_indices=[0], shift_len=shift_len, fname='shift%d/diag_xfyf_dataset.npz' % shift_len)\n",
    "    create_train_dataset(func_indices=[0, 3], shift_len=shift_len, fname='shift%d/diag_xfyf_xbyb_dataset.npz' % shift_len)"
   ]
  },
  {
   "cell_type": "markdown",
   "id": "066e65ab",
   "metadata": {},
   "source": [
    "### 1. シフト1のデータセットを作成する"
   ]
  },
  {
   "cell_type": "code",
   "execution_count": 10,
   "id": "bf30c2fa",
   "metadata": {},
   "outputs": [],
   "source": [
    "create_dataset(shift_len=1)"
   ]
  },
  {
   "cell_type": "markdown",
   "id": "15783951",
   "metadata": {},
   "source": [
    "### 2. シフト2のデータセットを作成する"
   ]
  },
  {
   "cell_type": "code",
   "execution_count": 11,
   "id": "e330b110",
   "metadata": {},
   "outputs": [],
   "source": [
    "create_dataset(shift_len=2)"
   ]
  },
  {
   "cell_type": "markdown",
   "id": "39fe62bd",
   "metadata": {},
   "source": [
    "### 2. シフト3のデータセットを作成する"
   ]
  },
  {
   "cell_type": "code",
   "execution_count": 12,
   "id": "86f8a392",
   "metadata": {},
   "outputs": [],
   "source": [
    "create_dataset(shift_len=3)"
   ]
  },
  {
   "cell_type": "code",
   "execution_count": 58,
   "id": "806066cd",
   "metadata": {},
   "outputs": [],
   "source": [
    "shift_len = 2\n",
    "seed = 0\n",
    "size = 1000\n",
    "funcs = [get_funcs(*delta) for delta in [(shift_len, shift_len), (shift_len, 0), (0, shift_len)]]\n",
    "\n",
    "np.random.seed(seed)\n",
    "train_dataset = datasets.MNIST(root='../open_data/', train=True, download=True)\n",
    "idx = np.random.choice(train_dataset.data.shape[0], size)\n",
    "imgs = train_dataset.data[idx].numpy()\n",
    "augumented_dataset = augument_data(imgs)"
   ]
  },
  {
   "cell_type": "code",
   "execution_count": 61,
   "id": "c0ad267b",
   "metadata": {},
   "outputs": [
    {
     "data": {
      "image/png": "[encoded data removed]",
      "text/plain": [
       "<Figure size 432x288 with 1 Axes>"
      ]
     },
     "metadata": {
      "needs_background": "light"
     },
     "output_type": "display_data"
    },
    {
     "name": "stdout",
     "output_type": "stream",
     "text": [
      "-138.18112244897958\n"
     ]
    },
    {
     "data": {
      "image/png": "[encoded data removed]",
      "text/plain": [
       "<Figure size 432x288 with 1 Axes>"
      ]
     },
     "metadata": {
      "needs_background": "light"
     },
     "output_type": "display_data"
    }
   ],
   "source": [
    "from matplotlib import pyplot as plt\n",
    "img = augumented_dataset[1]\n",
    "\n",
    "plt.imshow(img)\n",
    "plt.show()\n",
    "\n",
    "\n",
    "o_img = img.copy()\n",
    "r = 0\n",
    "for _ in range(5):\n",
    "    o_img = funcs[2][1](o_img)\n",
    "    r -= np.mean((o_img - img)**2)\n",
    "print(r)\n",
    "plt.imshow(o_img)\n",
    "plt.show()"
   ]
  },
  {
   "cell_type": "code",
   "execution_count": null,
   "id": "f77d358b",
   "metadata": {},
   "outputs": [],
   "source": []
  }
 ],
 "metadata": {
  "kernelspec": {
   "display_name": "Python 3",
   "language": "python",
   "name": "python3"
  },
  "language_info": {
   "codemirror_mode": {
    "name": "ipython",
    "version": 3
   },
   "file_extension": ".py",
   "mimetype": "text/x-python",
   "name": "python",
   "nbconvert_exporter": "python",
   "pygments_lexer": "ipython3",
   "version": "3.6.12"
  }
 },
 "nbformat": 4,
 "nbformat_minor": 5
}
