{
 "cells": [
  {
   "cell_type": "markdown",
   "id": "de85c439",
   "metadata": {},
   "source": [
    "グラフで表示されているrewardの値が異常に大きいがその理由がなぜかを追及する。"
   ]
  },
  {
   "cell_type": "code",
   "execution_count": 34,
   "id": "af54f9bd",
   "metadata": {},
   "outputs": [],
   "source": [
    "import pickle\n",
    "import torch\n",
    "\n",
    "import numpy as np\n",
    "from settings.shift_funcs import get_funcs\n",
    "from matplotlib import pyplot as plt\n",
    "SEED = 0"
   ]
  },
  {
   "cell_type": "code",
   "execution_count": 35,
   "id": "eb288eec",
   "metadata": {},
   "outputs": [],
   "source": [
    "data = np.load('data/shift1/diag_xf_yf_dataset.npz')\n",
    "train_dataset = data['train_dataset']\n",
    "train_dataset = torch.from_numpy(train_dataset).to(torch.float)\n",
    "original_dataset = data['original_dataset']\n",
    "original_dataset = torch.from_numpy(original_dataset).to(torch.float)"
   ]
  },
  {
   "cell_type": "code",
   "execution_count": 36,
   "id": "20179e98",
   "metadata": {},
   "outputs": [
    {
     "data": {
      "text/plain": [
       "tensor(0.2446)"
      ]
     },
     "execution_count": 36,
     "metadata": {},
     "output_type": "execute_result"
    }
   ],
   "source": [
    "# train_datasetとoriginal_datasetの先頭の画像のMSE\n",
    "t = train_dataset[0]\n",
    "o = original_dataset[0]\n",
    "\n",
    "torch.mean((t - o)**2)"
   ]
  },
  {
   "cell_type": "code",
   "execution_count": 37,
   "id": "f930d183",
   "metadata": {},
   "outputs": [
    {
     "data": {
      "text/plain": [
       "tensor(0.2787)"
      ]
     },
     "execution_count": 37,
     "metadata": {},
     "output_type": "execute_result"
    }
   ],
   "source": [
    "funcs = [get_funcs(*p) for p in [(1, 1), (1, 0), (0, 1)]]\n",
    "\n",
    "d = o.clone()\n",
    "for _ in range(1):\n",
    "    d = funcs[0][0](d)\n",
    "d = torch.from_numpy(d)\n",
    "torch.sqrt(torch.mean((d - o)**2))"
   ]
  },
  {
   "cell_type": "code",
   "execution_count": 27,
   "id": "e9a29ec6",
   "metadata": {},
   "outputs": [
    {
     "data": {
      "image/png": "[encoded data removed]",
      "text/plain": [
       "<Figure size 432x288 with 1 Axes>"
      ]
     },
     "metadata": {
      "needs_background": "light"
     },
     "output_type": "display_data"
    },
    {
     "data": {
      "image/png": "[encoded data removed]",
      "text/plain": [
       "<Figure size 432x288 with 1 Axes>"
      ]
     },
     "metadata": {
      "needs_background": "light"
     },
     "output_type": "display_data"
    }
   ],
   "source": [
    "plt.imshow(o)\n",
    "plt.show()\n",
    "\n",
    "plt.imshow(d)\n",
    "plt.show()"
   ]
  },
  {
   "cell_type": "code",
   "execution_count": null,
   "id": "af229b02",
   "metadata": {},
   "outputs": [],
   "source": []
  }
 ],
 "metadata": {
  "kernelspec": {
   "display_name": "Python 3",
   "language": "python",
   "name": "python3"
  },
  "language_info": {
   "codemirror_mode": {
    "name": "ipython",
    "version": 3
   },
   "file_extension": ".py",
   "mimetype": "text/x-python",
   "name": "python",
   "nbconvert_exporter": "python",
   "pygments_lexer": "ipython3",
   "version": "3.6.12"
  }
 },
 "nbformat": 4,
 "nbformat_minor": 5
}
