{
 "cells": [
  {
   "cell_type": "markdown",
   "metadata": {},
   "source": [
    "### one-hotでは未知の初期値に対応できないので、スカラで表して解決する？\n",
    "* 元々スカラで状態を表すと、xの値が大きいほど評価値が高く勾配に大きく影響を与えるという問題が起こる。  \n",
    "xの値が大きいほど、[-1, /2]が大きく評価されるという関係はある。これをどう表現する？\n",
    "\n",
    "* 状態ベクトルを$s = [x_{now}, x_{init}]^T $としても線形モデルで存在した、$x_{now}$に関わらず$x_{init}$によって評価値が高くなる\n",
    "\n",
    "### 学習率の調整はいらないのか？"
   ]
  },
  {
   "cell_type": "code",
   "execution_count": 10,
   "metadata": {},
   "outputs": [],
   "source": [
    "import numpy as np\n",
    "from matplotlib import pyplot as plt\n",
    "from tqdm.notebook import tqdm"
   ]
  },
  {
   "cell_type": "code",
   "execution_count": 11,
   "metadata": {},
   "outputs": [],
   "source": [
    "def x2vec(x):\n",
    "    vec = np.zeros(11)\n",
    "    vec[x] = 1\n",
    "    return vec\n",
    "\n",
    "def vec2x(vec):\n",
    "    return np.argmax(vec)"
   ]
  },
  {
   "cell_type": "code",
   "execution_count": 70,
   "metadata": {},
   "outputs": [],
   "source": [
    "def next_state(s, a):\n",
    "    s0 = s[-2]\n",
    "    s = vec2x(s[:11])\n",
    "    if a == 0:\n",
    "        s_next = s * 2\n",
    "    elif a == 1:\n",
    "        s_next = s + 1\n",
    "    elif a == 2:\n",
    "        s_next = s\n",
    "    elif a == 3:\n",
    "        s_next = s - 1\n",
    "    elif a == 4:\n",
    "        s_next = s // 2\n",
    "    s_next = max(0, min(10, s_next))\n",
    "    s_next_vec = x2vec(s_next)\n",
    "    return np.r_[s_next_vec, s0, 1]"
   ]
  },
  {
   "cell_type": "code",
   "execution_count": 13,
   "metadata": {},
   "outputs": [],
   "source": [
    "# def reward_func(s, n_state, done, T):  # 加藤の実験コードを反映\n",
    "#     total = 0\n",
    "#     s = vec2x(s[:12])\n",
    "#     n_state = n_state[0]\n",
    "#     if n_state > 10 or n_state < 0:\n",
    "#         total += -abs(n_state - T)/10\n",
    "#     diff = abs(T - n_state) - abs(T - s)\n",
    "#     if diff > 0:\n",
    "#         total += -3 * diff\n",
    "#     if done and n_state != T:\n",
    "#         return -2\n",
    "#     elif done:\n",
    "#         loss_reward = 2 * (10 - abs(n_state - T))/10\n",
    "#         return loss_reward\n",
    "#     return -0.5 + total"
   ]
  },
  {
   "cell_type": "code",
   "execution_count": 111,
   "metadata": {},
   "outputs": [],
   "source": [
    "def reward_func(s, n_state, done, T):  # 加藤の実験コードを反映\n",
    "    s = vec2x(s[:11])\n",
    "    n_state = vec2x(n_state[:11])\n",
    "    if done:\n",
    "        if n_state != T:\n",
    "            return -10\n",
    "        else:\n",
    "            return 100\n",
    "    return -1"
   ]
  },
  {
   "cell_type": "code",
   "execution_count": 15,
   "metadata": {},
   "outputs": [],
   "source": [
    "def step(s, a, T):\n",
    "    ns = next_state(s, a)\n",
    "    done = (a == 2)\n",
    "    r = reward_func(s, ns, done, T)\n",
    "    return ns, r, done "
   ]
  },
  {
   "cell_type": "code",
   "execution_count": 87,
   "metadata": {},
   "outputs": [],
   "source": [
    "def update(Q, batch, lr, gamma=0.9):\n",
    "    grad = np.zeros((13, 5))\n",
    "    for e in batch:\n",
    "        est = e.s @ Q[:, e.a]\n",
    "        v = e.r\n",
    "        if not e.d:\n",
    "            v += gamma * np.max(e.ns[np.newaxis, :] @ Q)\n",
    "        grad[:, e.a] += (est - v) * e.s\n",
    "    grad = np.nan_to_num(grad) / len(batch)\n",
    "    Q -= lr * grad"
   ]
  },
  {
   "cell_type": "markdown",
   "metadata": {},
   "source": []
  },
  {
   "cell_type": "code",
   "execution_count": 66,
   "metadata": {},
   "outputs": [],
   "source": [
    "from collections import defaultdict, namedtuple, deque\n",
    "import random\n",
    "\n",
    "def f(x):\n",
    "    return 10 - x\n",
    "\n",
    "Experience = namedtuple('Experience', ('s', 'a', 'ns', 'r', 'd'))\n",
    "starts=list(range(11))\n",
    "\n",
    "def trial(seed=100, try_num=100000, lr=0.01, eps=0.1):\n",
    "    # training\n",
    "    np.random.seed(seed)\n",
    "    random.seed(seed)\n",
    "    Q = np.zeros((13, 5))\n",
    "    R = []\n",
    "    # each element is [s, a, ns, r, d]\n",
    "    experiences = deque(maxlen=1024)\n",
    "\n",
    "    for itr in tqdm(range(try_num)):\n",
    "        Ri = 0\n",
    "        s0 = np.random.choice(starts)\n",
    "        T = f(s0)\n",
    "        s0_vec = x2vec(s0)\n",
    "        s = np.r_[s0_vec, s0/10, 1]\n",
    "        for _ in range(1000):\n",
    "            # 行動を選択\n",
    "            a = np.argmax(Q.T @ s) if np.random.rand() >= eps else np.random.randint(5)\n",
    "            ns, r, d = step(s, a, T)\n",
    "            e = Experience(s, a, ns, r, d)\n",
    "            experiences.append(e)\n",
    "            s = ns\n",
    "            Ri = Ri + r\n",
    "            if d:\n",
    "                break\n",
    "        if len(experiences) == 1024:\n",
    "            batch = random.sample(experiences, 32)\n",
    "            update(Q, batch, lr=lr, gamma=0.9)\n",
    "\n",
    "        R.append(Ri)\n",
    "    return Q, R"
   ]
  },
  {
   "cell_type": "code",
   "execution_count": 114,
   "metadata": {},
   "outputs": [],
   "source": [
    "from scipy.special import softmax\n",
    "from matplotlib import pyplot as plt\n",
    "from matplotlib import cm\n",
    "\n",
    "def moving_average(a, n=3):\n",
    "    ret = np.cumsum(a, dtype=float)\n",
    "    ret[n:] = ret[n:] - ret[:-n]\n",
    "    return ret[n - 1:] / n\n",
    "\n",
    "act = ['*2', '+1', 'end', '-1', '/2']\n",
    "\n",
    "def view(Q, R, n=1000):\n",
    "    plt.subplot(121)\n",
    "    plt.plot(moving_average(R, n=n))\n",
    "    plt.xlabel('# of Trials')\n",
    "    plt.ylabel('Avg. Reward')\n",
    "    plt.show()\n",
    "\n",
    "    for init in range(11):\n",
    "        U = np.zeros((11, 5))\n",
    "        for i in range(11):\n",
    "            s = np.r_[x2vec(i), init/10, 1]\n",
    "            U[i, :] = softmax(s.T @ Q)\n",
    "        plt.imshow(U)\n",
    "        plt.show()"
   ]
  },
  {
   "cell_type": "code",
   "execution_count": 68,
   "metadata": {},
   "outputs": [],
   "source": [
    "def test(Q):\n",
    "    solved = []\n",
    "    for s0 in range(11):\n",
    "        T = f(s0)\n",
    "        s0_vec = x2vec(s0)\n",
    "        s_vec = np.r_[s0_vec, s0/10, 1]\n",
    "        for _ in range(100):\n",
    "            a = np.argmax(s_vec.T @ Q)\n",
    "            if a == 2:\n",
    "                break\n",
    "            s_vec = next_state(s_vec, a)\n",
    "        if vec2x(s_vec[:11]) == T:\n",
    "            solved.append((s0, T, 'solved!'))\n",
    "        else:\n",
    "            solved.append((s0, T, '-'))\n",
    "    for item in solved:\n",
    "        print('init = %d, T = %d, %s' % item)\n",
    "        print()"
   ]
  },
  {
   "cell_type": "code",
   "execution_count": 115,
   "metadata": {},
   "outputs": [
    {
     "data": {
      "application/vnd.jupyter.widget-view+json": {
       "model_id": "154711c6b589465a8f63837b1996c265",
       "version_major": 2,
       "version_minor": 0
      },
      "text/plain": [
       "HBox(children=(HTML(value=''), FloatProgress(value=0.0, max=1000.0), HTML(value='')))"
      ]
     },
     "metadata": {},
     "output_type": "display_data"
    },
    {
     "name": "stdout",
     "output_type": "stream",
     "text": [
      "\n"
     ]
    }
   ],
   "source": [
    "Q, R = trial(seed=0, eps=0.3, try_num=1000, lr=0.01)"
   ]
  },
  {
   "cell_type": "code",
   "execution_count": 119,
   "metadata": {},
   "outputs": [
    {
     "name": "stdout",
     "output_type": "stream",
     "text": [
      "['*2', '+1', 'end', '-1', '/2']\n",
      "[[-3.77346903e-01 -3.33195852e-01 -1.73173363e+00 -4.17133277e-01\n",
      "  -5.53877803e-01]\n",
      " [-6.14238800e-02 -1.57364767e-01 -1.48634626e+00 -2.08927687e-01\n",
      "  -2.13713874e-01]\n",
      " [-3.65906723e-02 -1.07714280e-01 -1.28808250e+00 -1.25248293e-01\n",
      "  -1.19805981e-01]\n",
      " [-1.77522260e-02 -9.09284126e-02  2.51125423e-01 -7.19601900e-02\n",
      "  -9.55221789e-02]\n",
      " [-2.54996518e-02  7.04160934e-01 -1.97009853e+00 -3.60974970e-02\n",
      "  -5.84193965e-02]\n",
      " [-4.42372212e-02 -3.17278506e-02  1.36144849e+01 -2.09734469e-02\n",
      "  -1.74470877e-02]\n",
      " [-2.17305298e-02 -2.68997210e-02 -1.01085306e+00  3.02388951e-01\n",
      "  -1.63659396e-02]\n",
      " [-1.91402350e-02 -2.83024094e-02 -1.16884927e+00 -2.85985095e-02\n",
      "  -1.80010700e-02]\n",
      " [-1.63366487e-02 -3.46211071e-02 -1.13024366e+00 -4.12246385e-02\n",
      "  -2.24300726e-02]\n",
      " [-4.17587111e-02 -3.37274041e-02 -1.64106746e+00 -3.14549671e-02\n",
      "  -3.24080125e-02]\n",
      " [-3.15778481e-01 -1.21692927e-01 -1.67377639e+00 -8.18413066e-02\n",
      "   5.15984016e-01]\n",
      " [-3.52995662e-01 -8.37937863e-02  1.10572482e+00 -2.52118717e-01\n",
      "  -3.16457394e-03]\n",
      " [-9.77595160e-01 -2.62013796e-01  7.64559541e-01 -7.61070861e-01\n",
      "  -6.32007400e-01]]\n"
     ]
    },
    {
     "data": {
      "text/plain": [
       "<matplotlib.colorbar.Colorbar at 0x7f9176613748>"
      ]
     },
     "execution_count": 119,
     "metadata": {},
     "output_type": "execute_result"
    },
    {
     "data": {
      "image/png": "[encoded data removed]",
      "text/plain": [
       "<Figure size 432x288 with 2 Axes>"
      ]
     },
     "metadata": {
      "needs_background": "light"
     },
     "output_type": "display_data"
    }
   ],
   "source": [
    "print(act)\n",
    "print(Q)\n",
    "im = plt.imshow(Q, cmap=cm.RdYlGn)\n",
    "plt.colorbar(im)"
   ]
  },
  {
   "cell_type": "code",
   "execution_count": 117,
   "metadata": {},
   "outputs": [
    {
     "data": {
      "image/png": "[encoded data removed]",
      "text/plain": [
       "<Figure size 432x288 with 1 Axes>"
      ]
     },
     "metadata": {
      "needs_background": "light"
     },
     "output_type": "display_data"
    },
    {
     "data": {
      "image/png": "[encoded data removed]",
      "text/plain": [
       "<Figure size 432x288 with 1 Axes>"
      ]
     },
     "metadata": {
      "needs_background": "light"
     },
     "output_type": "display_data"
    },
    {
     "data": {
      "image/png": "[encoded data removed]",
      "text/plain": [
       "<Figure size 432x288 with 1 Axes>"
      ]
     },
     "metadata": {
      "needs_background": "light"
     },
     "output_type": "display_data"
    },
    {
     "data": {
      "image/png": "[encoded data removed]",
      "text/plain": [
       "<Figure size 432x288 with 1 Axes>"
      ]
     },
     "metadata": {
      "needs_background": "light"
     },
     "output_type": "display_data"
    },
    {
     "data": {
      "image/png": "[encoded data removed]",
      "text/plain": [
       "<Figure size 432x288 with 1 Axes>"
      ]
     },
     "metadata": {
      "needs_background": "light"
     },
     "output_type": "display_data"
    },
    {
     "data": {
      "image/png": "[encoded data removed]",
      "text/plain": [
       "<Figure size 432x288 with 1 Axes>"
      ]
     },
     "metadata": {
      "needs_background": "light"
     },
     "output_type": "display_data"
    },
    {
     "data": {
      "image/png": "[encoded data removed]",
      "text/plain": [
       "<Figure size 432x288 with 1 Axes>"
      ]
     },
     "metadata": {
      "needs_background": "light"
     },
     "output_type": "display_data"
    },
    {
     "data": {
      "image/png": "[encoded data removed]",
      "text/plain": [
       "<Figure size 432x288 with 1 Axes>"
      ]
     },
     "metadata": {
      "needs_background": "light"
     },
     "output_type": "display_data"
    },
    {
     "data": {
      "image/png": "[encoded data removed]",
      "text/plain": [
       "<Figure size 432x288 with 1 Axes>"
      ]
     },
     "metadata": {
      "needs_background": "light"
     },
     "output_type": "display_data"
    },
    {
     "data": {
      "image/png": "[encoded data removed]",
      "text/plain": [
       "<Figure size 432x288 with 1 Axes>"
      ]
     },
     "metadata": {
      "needs_background": "light"
     },
     "output_type": "display_data"
    },
    {
     "data": {
      "image/png": "[encoded data removed]",
      "text/plain": [
       "<Figure size 432x288 with 1 Axes>"
      ]
     },
     "metadata": {
      "needs_background": "light"
     },
     "output_type": "display_data"
    },
    {
     "data": {
      "image/png": "[encoded data removed]",
      "text/plain": [
       "<Figure size 432x288 with 1 Axes>"
      ]
     },
     "metadata": {
      "needs_background": "light"
     },
     "output_type": "display_data"
    },
    {
     "name": "stdout",
     "output_type": "stream",
     "text": [
      "****************************************************************************************************\n",
      "init = 0, T = 10, -\n",
      "\n",
      "init = 1, T = 9, -\n",
      "\n",
      "init = 2, T = 8, -\n",
      "\n",
      "init = 3, T = 7, -\n",
      "\n",
      "init = 4, T = 6, -\n",
      "\n",
      "init = 5, T = 5, solved!\n",
      "\n",
      "init = 6, T = 4, -\n",
      "\n",
      "init = 7, T = 3, -\n",
      "\n",
      "init = 8, T = 2, -\n",
      "\n",
      "init = 9, T = 1, -\n",
      "\n",
      "init = 10, T = 0, -\n",
      "\n"
     ]
    }
   ],
   "source": [
    "view(Q, R, n=10)\n",
    "print('*' * 100)\n",
    "test(Q)"
   ]
  },
  {
   "cell_type": "code",
   "execution_count": 109,
   "metadata": {},
   "outputs": [
    {
     "name": "stdout",
     "output_type": "stream",
     "text": [
      "T = 0\n",
      "**********\n",
      "[0. 0. 0. 0. 0. 0. 0. 0. 0. 0. 1.]\n",
      "[10 11] h\n"
     ]
    },
    {
     "ename": "ValueError",
     "evalue": "matmul: Input operand 1 has a mismatch in its core dimension 0, with gufunc signature (n?,k),(k,m?)->(n?,m?) (size 13 is different from 12)",
     "output_type": "error",
     "traceback": [
      "\u001b[0;31m---------------------------------------------------------------------------\u001b[0m",
      "\u001b[0;31mValueError\u001b[0m                                Traceback (most recent call last)",
      "\u001b[0;32m<ipython-input-109-9e271791ac72>\u001b[0m in \u001b[0;36m<module>\u001b[0;34m\u001b[0m\n\u001b[1;32m     10\u001b[0m \u001b[0mprint\u001b[0m\u001b[0;34m(\u001b[0m\u001b[0mnp\u001b[0m\u001b[0;34m.\u001b[0m\u001b[0marange\u001b[0m\u001b[0;34m(\u001b[0m\u001b[0;36m12\u001b[0m\u001b[0;34m)\u001b[0m\u001b[0;34m[\u001b[0m\u001b[0ms_v\u001b[0m\u001b[0;34m.\u001b[0m\u001b[0mastype\u001b[0m\u001b[0;34m(\u001b[0m\u001b[0mnp\u001b[0m\u001b[0;34m.\u001b[0m\u001b[0mbool\u001b[0m\u001b[0;34m)\u001b[0m\u001b[0;34m]\u001b[0m\u001b[0;34m,\u001b[0m \u001b[0;34m'h'\u001b[0m\u001b[0;34m)\u001b[0m\u001b[0;34m\u001b[0m\u001b[0;34m\u001b[0m\u001b[0m\n\u001b[1;32m     11\u001b[0m \u001b[0;32mfor\u001b[0m \u001b[0mi\u001b[0m \u001b[0;32min\u001b[0m \u001b[0mrange\u001b[0m\u001b[0;34m(\u001b[0m\u001b[0mmax_iter\u001b[0m\u001b[0;34m)\u001b[0m\u001b[0;34m:\u001b[0m\u001b[0;34m\u001b[0m\u001b[0;34m\u001b[0m\u001b[0m\n\u001b[0;32m---> 12\u001b[0;31m     \u001b[0ma\u001b[0m \u001b[0;34m=\u001b[0m \u001b[0mnp\u001b[0m\u001b[0;34m.\u001b[0m\u001b[0margmax\u001b[0m\u001b[0;34m(\u001b[0m\u001b[0ms_v\u001b[0m\u001b[0;34m.\u001b[0m\u001b[0mT\u001b[0m \u001b[0;34m@\u001b[0m \u001b[0mQ\u001b[0m\u001b[0;34m)\u001b[0m\u001b[0;34m\u001b[0m\u001b[0;34m\u001b[0m\u001b[0m\n\u001b[0m\u001b[1;32m     13\u001b[0m     \u001b[0mprint\u001b[0m\u001b[0;34m(\u001b[0m\u001b[0;34m'a'\u001b[0m\u001b[0;34m,\u001b[0m \u001b[0mact\u001b[0m\u001b[0;34m[\u001b[0m\u001b[0ma\u001b[0m\u001b[0;34m]\u001b[0m\u001b[0;34m)\u001b[0m\u001b[0;34m\u001b[0m\u001b[0;34m\u001b[0m\u001b[0m\n\u001b[1;32m     14\u001b[0m     \u001b[0;32mif\u001b[0m \u001b[0ma\u001b[0m \u001b[0;34m==\u001b[0m \u001b[0;36m2\u001b[0m\u001b[0;34m:\u001b[0m\u001b[0;34m\u001b[0m\u001b[0;34m\u001b[0m\u001b[0m\n",
      "\u001b[0;31mValueError\u001b[0m: matmul: Input operand 1 has a mismatch in its core dimension 0, with gufunc signature (n?,k),(k,m?)->(n?,m?) (size 13 is different from 12)"
     ]
    }
   ],
   "source": []
  },
  {
   "cell_type": "code",
   "execution_count": 24,
   "metadata": {},
   "outputs": [
    {
     "data": {
      "text/plain": [
       "0"
      ]
     },
     "execution_count": 24,
     "metadata": {},
     "output_type": "execute_result"
    }
   ],
   "source": [
    "f(10)"
   ]
  },
  {
   "cell_type": "code",
   "execution_count": null,
   "metadata": {},
   "outputs": [],
   "source": []
  }
 ],
 "metadata": {
  "kernelspec": {
   "display_name": "Python 3",
   "language": "python",
   "name": "python3"
  },
  "language_info": {
   "codemirror_mode": {
    "name": "ipython",
    "version": 3
   },
   "file_extension": ".py",
   "mimetype": "text/x-python",
   "name": "python",
   "nbconvert_exporter": "python",
   "pygments_lexer": "ipython3",
   "version": "3.6.12"
  }
 },
 "nbformat": 4,
 "nbformat_minor": 4
}
