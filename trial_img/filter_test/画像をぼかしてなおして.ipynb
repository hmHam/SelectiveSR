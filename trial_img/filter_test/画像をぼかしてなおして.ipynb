{
 "cells": [
  {
   "attachments": {
    "image.png": {
     "image/png": "[encoded data removed]"
    }
   },
   "cell_type": "markdown",
   "metadata": {},
   "source": [
    "### 3x3のフィルタ\n",
    "$$ G(x, y) = \\frac{1}{\\sqrt{2\\pi} \\sigma} exp ( - \\frac{x^2 + y^2}{2\\sigma^2})$$\n",
    "![image.png](attachment:image.png) \n",
    "\n",
    "|  |  |  |  \n",
    "|:-- : |:-- : |:-- : |  \n",
    "| (-1, -1) | (0, -1) | (1, -1) |  \n",
    "| (-1, 0)  | (0, 0) | (1, 0)  |  \n",
    "| (-1, 1)  | (0, 1) | (1, 1) |  "
   ]
  },
  {
   "cell_type": "markdown",
   "metadata": {},
   "source": [
    "### フーリエ領域のフィルタに変換"
   ]
  },
  {
   "cell_type": "markdown",
   "metadata": {},
   "source": [
    "$$ \\mathbb{F}[G(x, y)] = \\sqrt{2\\pi } \\sigma exp \\{ - \\frac{\\pi^2 \\sigma^2}{2}(u^2 + v^2) \\}$$"
   ]
  },
  {
   "cell_type": "markdown",
   "metadata": {},
   "source": [
    "|  |  |  |  \n",
    "|:-- : |:-- : |:-- : |  \n",
    "| (-1, -1) | (0, -1) | (1, -1) |  \n",
    "| (-1, 0)  | (0, 0) | (1, 0)  |  \n",
    "| (-1, 1)  | (0, 1) | (1, 1) |  "
   ]
  },
  {
   "cell_type": "code",
   "execution_count": null,
   "metadata": {},
   "outputs": [],
   "source": [
    "import numpy as np\n",
    "\n",
    "Sigma = 1.3\n",
    "X, Y = np.meshgrid(np.arange(-1, 2), np.arange(-1, 2))\n",
    "def G(x, y):\n",
    "    return np.sqrt(2 * np.pi) * Sigma * np.exp(- (np.pi * Sigma)**2 () "
   ]
  }
 ],
 "metadata": {
  "kernelspec": {
   "display_name": "Python 3",
   "language": "python",
   "name": "python3"
  },
  "language_info": {
   "codemirror_mode": {
    "name": "ipython",
    "version": 3
   },
   "file_extension": ".py",
   "mimetype": "text/x-python",
   "name": "python",
   "nbconvert_exporter": "python",
   "pygments_lexer": "ipython3",
   "version": "3.7.4"
  }
 },
 "nbformat": 4,
 "nbformat_minor": 2
}
