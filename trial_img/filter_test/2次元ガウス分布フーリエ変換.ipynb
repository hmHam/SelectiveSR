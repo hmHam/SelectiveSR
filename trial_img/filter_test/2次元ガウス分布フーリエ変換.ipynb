{
 "cells": [
  {
   "cell_type": "markdown",
   "metadata": {},
   "source": [
    "### 1次元\n",
    "$G(x) = Aexp\\{ - ax^2\\} \\, (A = \\frac{1}{\\sqrt{2\\pi}\\sigma}, a = \\frac{1}{2\\sigma^2})$の時、  \n",
    "$\\mathbb{F}[G] =A \\int^\\infty_{-\\infty} exp\\{ - ax^2\\} exp\\{-j\\omega x\\} dx$  \n",
    "$ \\qquad= Aexp\\{-\\frac{\\omega^2}{4a}\\}  \\int^\\infty_{-\\infty} exp\\{ - a (x + \\frac{j\\omega}{2a}^2\\} dx$  \n",
    "$\\qquad = Aexp\\{-\\frac{\\omega^2}{4a}\\}  \\int^\\infty_{-\\infty} exp \\{- az^2\\} dz$$\\quad(\\because z = x + \\frac{j\\omega}{2a}, dz = dx)$  \n",
    "$ \\qquad= A\\sqrt{\\frac{\\pi}{a}} exp\\{- \\frac{\\omega^2}{4a}\\}$  \n",
    "$ \\qquad = \\frac{1}{\\sqrt{2\\pi}\\sigma} \\sqrt{2 \\pi} \\sigma  exp\\{ - \\frac{\\omega^2 \\sigma^2}{2}\\}$  \n",
    "つまり\n",
    "$$ \\mathbb{F}[G(x)] = exp\\{ - \\frac{\\omega^2 \\sigma^2}{2}\\}$$  \n",
    "周波数領域でもガウス関数になる"
   ]
  },
  {
   "cell_type": "markdown",
   "metadata": {},
   "source": [
    "### 2次元\n",
    "$G(x, y) = Aexp\\{-a(x^2 + y^2)\\}(A = \\frac{1}{\\sqrt{2\\pi}\\sigma}, a = \\frac{1}{2\\sigma^2})$  \n",
    "$F[G(x, y)] $  \n",
    "$ \\qquad = A  \\int^\\infty_{-\\infty} \\int^\\infty_{-\\infty} exp\\{-ax^2\\} exp\\{-ay^2\\} exp \\{-j2 \\pi (ux + vy)\\}dxdy$  \n",
    "$\\qquad = A \\{ \\int^\\infty_{-\\infty} exp\\{-ax^2\\} exp\\{-j2\\pi ux \\}dx \\} \\{\\int^\\infty_{-\\infty} exp\\{-ay^2\\} exp\\{-j2\\pi vy \\}dy\\}$  \n",
    "$ \\qquad = A \\{\\sqrt{\\frac{\\pi}{a}} exp \\{-\\frac{\\pi^2 u^2}{4a}\\} \\{\\sqrt{\\frac{\\pi}{a}} exp \\{-\\frac{\\pi^2 v^2}{4a}\\}$  \n",
    "$ \\qquad = A \\frac{\\pi}{a} exp \\{ - \\frac{\\pi^2}{4a}(u^2 + v^2)\\}$  \n",
    "周波数領域で二次元ガウス関数になる"
   ]
  },
  {
   "cell_type": "markdown",
   "metadata": {},
   "source": [
    "### 結"
   ]
  },
  {
   "cell_type": "markdown",
   "metadata": {},
   "source": [
    "$$ \\mathbb{F}[G(x, y)] = \\sqrt{2\\pi } \\sigma exp \\{ - \\frac{\\pi^2 \\sigma^2}{2}(u^2 + v^2) \\}$$"
   ]
  },
  {
   "cell_type": "code",
   "execution_count": null,
   "metadata": {},
   "outputs": [],
   "source": []
  }
 ],
 "metadata": {
  "kernelspec": {
   "display_name": "Python 3",
   "language": "python",
   "name": "python3"
  },
  "language_info": {
   "codemirror_mode": {
    "name": "ipython",
    "version": 3
   },
   "file_extension": ".py",
   "mimetype": "text/x-python",
   "name": "python",
   "nbconvert_exporter": "python",
   "pygments_lexer": "ipython3",
   "version": "3.7.4"
  }
 },
 "nbformat": 4,
 "nbformat_minor": 2
}
