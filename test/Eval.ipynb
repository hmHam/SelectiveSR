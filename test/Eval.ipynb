{
 "cells": [
  {
   "cell_type": "code",
   "execution_count": 1,
   "metadata": {},
   "outputs": [],
   "source": [
    "import numpy as np\n",
    "from scipy.signal import fftconvolve\n",
    "from scipy.stats import multivariate_normal\n",
    "from skimage import restoration\n",
    "from matplotlib import pyplot as plt\n",
    "from tqdm.notebook import tqdm\n",
    "\n",
    "import torch\n",
    "from torchvision import datasets\n",
    "import train_agent as ta"
   ]
  },
  {
   "cell_type": "code",
   "execution_count": 2,
   "metadata": {},
   "outputs": [],
   "source": [
    "device = 'cuda:0'\n",
    "seed = 0\n",
    "test_blur = 'random'\n",
    "#test_blur = 'random'\n",
    "num_blur = 3"
   ]
  },
  {
   "cell_type": "code",
   "execution_count": 3,
   "metadata": {},
   "outputs": [],
   "source": [
    "# kernels\n",
    "std = 3.0\n",
    "f = np.vectorize(lambda x, y: multivariate_normal([0.0, 0.0], np.diag([std]*2)).pdf([x, y]))\n",
    "X, Y = np.meshgrid(np.arange(-2, 3, 1, dtype=np.float32), np.arange(-2, 3, 1, dtype=np.float32))\n",
    "kernel1 = f(X, Y)\n",
    "kernel1 = kernel1 / kernel1.sum()\n",
    "np.random.seed(0)\n",
    "kernel2 = np.random.rand(*kernel1.shape)\n",
    "kernel2 = kernel2 / kernel2.sum()\n",
    "\n",
    "# filters\n",
    "filt = []\n",
    "filt.append(lambda x: x)\n",
    "filt.append(lambda x: np.maximum(0, fftconvolve(x, kernel1, mode='same')))\n",
    "filt.append(lambda x: np.maximum(0, fftconvolve(x, kernel2, mode='same')))\n",
    "filt.append(lambda x: np.maximum(0, restoration.wiener(x, kernel1, 1e-2)))\n",
    "filt.append(lambda x: np.maximum(0, restoration.wiener(x, kernel2, 1e-2)))\n",
    "filt_names = ['None', 'Blur1', 'Blur2', 'Wiener1', 'Wiener2']\n",
    "\n",
    "# images\n",
    "# data = datasets.MNIST(root='./data', train=True, download=True)\n",
    "data = datasets.MNIST(root='./data', train=False, download=True)\n",
    "np.random.seed(seed)\n",
    "# idx = np.random.choice(data.data.shape[0], 2000)\n",
    "# imgs = data.data[idx].numpy() / 255\n",
    "imgs = data.data.numpy() / 255\n",
    "if test_blur == 'gauss':\n",
    "    blurred_imgs = np.stack(list(map(lambda x: ta.blur(x, kernel1, c=num_blur), imgs)), axis=0)\n",
    "    filt_inv = filt[3]\n",
    "elif test_blur == 'random':\n",
    "    blurred_imgs = np.stack(list(map(lambda x: ta.blur(x, kernel2, c=num_blur), imgs)), axis=0)\n",
    "    filt_inv = filt[4]\n",
    "imgs = torch.from_numpy(imgs).to(torch.float)\n",
    "blurred_imgs = torch.from_numpy(blurred_imgs).to(torch.float)"
   ]
  },
  {
   "cell_type": "code",
   "execution_count": 4,
   "metadata": {},
   "outputs": [
    {
     "name": "stdout",
     "output_type": "stream",
     "text": [
      "True\n",
      "True\n"
     ]
    }
   ],
   "source": [
    "# 加藤テストデータを読み込む。\n",
    "# これをblurred_imgs, imgsと照らし合わせる\n",
    "context = np.load('data/GR3.0/test/random/c3_dataset.npz')\n",
    "Dy = context['test_dataset']\n",
    "Dx = context['original_dataset']\n",
    "\n",
    "print(np.allclose(Dy, blurred_imgs))\n",
    "print(np.allclose(Dx, imgs))"
   ]
  },
  {
   "cell_type": "code",
   "execution_count": 5,
   "metadata": {},
   "outputs": [],
   "source": [
    "def get_img(imgs, blurred_imgs, i, channel=1):\n",
    "    y, x = imgs[[i]], blurred_imgs[[i]]\n",
    "    if channel == 1:\n",
    "        x = x.unsqueeze(0)\n",
    "    elif channel == 2:\n",
    "        x = torch.cat([x, x], dim=0).unsqueeze(0)\n",
    "    return (x, y.unsqueeze(0))"
   ]
  },
  {
   "cell_type": "code",
   "execution_count": 6,
   "metadata": {},
   "outputs": [
    {
     "data": {
      "text/plain": [
       "0.046024732291698456"
      ]
     },
     "execution_count": 6,
     "metadata": {},
     "output_type": "execute_result"
    }
   ],
   "source": [
    "# MSE of initial images\n",
    "torch.mean((blurred_imgs - imgs)**2).item()"
   ]
  },
  {
   "cell_type": "code",
   "execution_count": 7,
   "metadata": {},
   "outputs": [
    {
     "data": {
      "application/vnd.jupyter.widget-view+json": {
       "model_id": "fe922cf7dc344f039238b98f91927748",
       "version_major": 2,
       "version_minor": 0
      },
      "text/plain": [
       "HBox(children=(HTML(value=''), FloatProgress(value=0.0, max=10000.0), HTML(value='')))"
      ]
     },
     "metadata": {},
     "output_type": "display_data"
    },
    {
     "name": "stdout",
     "output_type": "stream",
     "text": [
      "\n",
      "0.01962356203519739 0.00718379020428755\n"
     ]
    }
   ],
   "source": [
    "# MSE of fixed corresponding filter\n",
    "with torch.no_grad():\n",
    "    err = []\n",
    "    for i in tqdm(range(imgs.shape[0])):\n",
    "        s = get_img(imgs, blurred_imgs, i, channel=2)\n",
    "        for j in range(5):\n",
    "            x, y = s\n",
    "            if j < num_blur:\n",
    "                x[0, 0, :, :] = torch.tensor(filt_inv(x[0, 0, :, :].numpy()))\n",
    "                s_next = (x, y)\n",
    "            else:\n",
    "                s_next = s\n",
    "            r = ta.reward(s, s_next, 0)\n",
    "            s = s_next\n",
    "        err.append(torch.mean((s[0][0, 0] - s[1][0, 0])**2).item())\n",
    "print(np.mean(err), np.std(err))"
   ]
  },
  {
   "cell_type": "code",
   "execution_count": 8,
   "metadata": {},
   "outputs": [
    {
     "data": {
      "text/plain": [
       "'random'"
      ]
     },
     "execution_count": 8,
     "metadata": {},
     "output_type": "execute_result"
    }
   ],
   "source": [
    "test_blur"
   ]
  },
  {
   "cell_type": "code",
   "execution_count": 9,
   "metadata": {},
   "outputs": [
    {
     "data": {
      "application/vnd.jupyter.widget-view+json": {
       "model_id": "49105eeddbd44d588af6a23985b64b33",
       "version_major": 2,
       "version_minor": 0
      },
      "text/plain": [
       "HBox(children=(HTML(value=''), FloatProgress(value=0.0, max=10000.0), HTML(value='')))"
      ]
     },
     "metadata": {},
     "output_type": "display_data"
    },
    {
     "name": "stdout",
     "output_type": "stream",
     "text": [
      "\n",
      "0.021505156240612267 0.008252542286371371\n"
     ]
    }
   ],
   "source": [
    "# MSE of agent\n",
    "Qnet = ta.MnistNet(c=2, m=[20, 20, len(filt)])\n",
    "Qnet.load_state_dict(torch.load('./Qnet020000.pth', map_location=torch.device('cpu')))\n",
    "Qnet = Qnet.to(device)\n",
    "\n",
    "with torch.no_grad():\n",
    "    err = []\n",
    "    count = np.zeros((len(filt), 5))\n",
    "    for i in tqdm(range(imgs.shape[0])):\n",
    "        s = get_img(imgs, blurred_imgs, i, channel=2)\n",
    "        for j in range(5):\n",
    "            x, y = s\n",
    "            q = Qnet(x.to(device))\n",
    "            q = q[0].to('cpu').numpy()\n",
    "            a = np.argmax(q)\n",
    "            s_next = ta.next_state(s, a, filt, channel=2)\n",
    "            r = ta.reward(s, s_next, a)\n",
    "            s = s_next\n",
    "            count[a, j] = count[a, j] + 1\n",
    "        err.append(torch.mean((s[0][0, 0] - s[1][0, 0])**2).item())\n",
    "print(np.mean(err), np.std(err))"
   ]
  },
  {
   "cell_type": "code",
   "execution_count": 34,
   "metadata": {},
   "outputs": [
    {
     "data": {
      "image/png": "[encoded data removed]",
      "text/plain": [
       "<Figure size 1008x144 with 5 Axes>"
      ]
     },
     "metadata": {
      "needs_background": "light"
     },
     "output_type": "display_data"
    }
   ],
   "source": [
    "plt.figure(figsize=(14, 2))\n",
    "for j in range(5):\n",
    "    plt.subplot(1, 5, j+1)\n",
    "    plt.bar(range(len(filt)), count[:, j])\n",
    "    plt.title('step%d' % (j+1,))\n",
    "plt.tight_layout()\n",
    "plt.show()"
   ]
  },
  {
   "cell_type": "code",
   "execution_count": 10,
   "metadata": {},
   "outputs": [],
   "source": [
    "import sys\n",
    "import os\n",
    "from pathlib import Path\n",
    "sys.path.append(\n",
    "    os.path.dirname(os.path.abspath('.'))\n",
    ")\n",
    "from src import QNet, Agent, agent_metrics, show_reward, settings\n",
    "### path load"
   ]
  },
  {
   "cell_type": "code",
   "execution_count": 11,
   "metadata": {},
   "outputs": [
    {
     "data": {
      "application/vnd.jupyter.widget-view+json": {
       "model_id": "a624a5e43c4746579c79956aa41734d2",
       "version_major": 2,
       "version_minor": 0
      },
      "text/plain": [
       "HBox(children=(HTML(value=''), FloatProgress(value=0.0, max=10000.0), HTML(value='')))"
      ]
     },
     "metadata": {},
     "output_type": "display_data"
    },
    {
     "name": "stdout",
     "output_type": "stream",
     "text": [
      "\n",
      "0.021505096565838905 0.00825363370084882\n",
      "<class 'torch.Tensor'>\n",
      "(10000, 28, 28)\n",
      "agent (10000, 28, 28)\n"
     ]
    },
    {
     "data": {
      "text/plain": [
       "True"
      ]
     },
     "execution_count": 11,
     "metadata": {},
     "output_type": "execute_result"
    }
   ],
   "source": [
    "# MSE of agent\n",
    "Qnet = ta.MnistNet(c=2, m=[20, 20, len(filt)])\n",
    "Qnet.load_state_dict(torch.load('./Qnet020000.pth', map_location=torch.device('cpu')))\n",
    "# Qnet = Qnet.to(device)\n",
    "\n",
    "\n",
    "def satohara_metric(Qnet, blurred_imgs, imgs):\n",
    "    with torch.no_grad():\n",
    "        err = []\n",
    "        count = np.zeros((len(filt), 5))\n",
    "        res = []\n",
    "        for i in tqdm(range(imgs.shape[0])):\n",
    "            s = get_img(imgs, blurred_imgs, i, channel=2)\n",
    "            for j in range(5):\n",
    "                x, y = s\n",
    "                q = Qnet(x)\n",
    "                q = q[0].to('cpu').numpy()\n",
    "                a = np.argmax(q)\n",
    "                s_next = ta.next_state(s, a, filt, channel=2)\n",
    "                s = s_next\n",
    "                count[a, j] = count[a, j] + 1\n",
    "            err.append(torch.mean((s[0][0, 0] - s[1][0, 0])**2).item())\n",
    "            res.append(s[0][0, 0].numpy())\n",
    "    print(np.mean(err), np.std(err))\n",
    "    print(type(s[0][0, 0]))\n",
    "    return np.array(res)\n",
    "\n",
    "def agent_output(Qnet, Dy, Dx, filt):\n",
    "    agent = Agent(Qnet, filt, 2)\n",
    "    out = []\n",
    "    for n in range(Dy.shape[0]):\n",
    "        yn = Dy[n]\n",
    "        yn, _ = agent(yn)\n",
    "        out.append(yn.numpy())\n",
    "    return np.array(out)\n",
    "\n",
    "# 3種類のフィルタ\n",
    "context = np.load('data/GR3.0/test/random/c3_dataset.npz')\n",
    "Dy = torch.from_numpy(context['test_dataset']).to(torch.float)\n",
    "Dx = torch.from_numpy(context['original_dataset']).to(torch.float)\n",
    "\n",
    "# a = 3\n",
    "# i = 4\n",
    "# s = get_img(Dx, Dy, i, channel=2)\n",
    "# next_state = ta.next_state(s, a, filt, channel=2)\n",
    "# print(next_state[0].shape)\n",
    "\n",
    "out_satohara = satohara_metric(Qnet, Dy, Dx)\n",
    "print(out_satohara.shape)\n",
    "# kato\n",
    "\n",
    "def agent_next(s, a, Qnet, actions):\n",
    "    z, y = s.squeeze(0)\n",
    "    z = z.cpu().numpy()\n",
    "    z_next = actions[a](z)\n",
    "    z_next = torch.from_numpy(z_next).to(torch.float)\n",
    "    return torch.stack([z_next, y]).unsqueeze(0)\n",
    "\n",
    "# out = agent_next(s[0], a, Qnet, filt)\n",
    "# print(out.shape)\n",
    "# print(np.allclose(out.numpy(), next_state[0].numpy()))\n",
    "\n",
    "out_kato = agent_output(Qnet, Dy, Dx, filt)\n",
    "print('agent', out_kato.shape)\n",
    "np.allclose(out_kato, out_satohara)"
   ]
  },
  {
   "cell_type": "code",
   "execution_count": 19,
   "metadata": {},
   "outputs": [
    {
     "name": "stderr",
     "output_type": "stream",
     "text": [
      "100%|██████████| 10000/10000 [01:19<00:00, 125.94it/s]\n"
     ]
    },
    {
     "data": {
      "text/plain": [
       "0.021505096565838905"
      ]
     },
     "execution_count": 19,
     "metadata": {},
     "output_type": "execute_result"
    }
   ],
   "source": [
    "result = agent_metrics(Dy, Dx, Qnet, filt, channel=2)\n",
    "result[:, -1].mean()"
   ]
  },
  {
   "cell_type": "code",
   "execution_count": null,
   "metadata": {},
   "outputs": [],
   "source": []
  }
 ],
 "metadata": {
  "kernelspec": {
   "display_name": "Python 3",
   "language": "python",
   "name": "python3"
  },
  "language_info": {
   "codemirror_mode": {
    "name": "ipython",
    "version": 3
   },
   "file_extension": ".py",
   "mimetype": "text/x-python",
   "name": "python",
   "nbconvert_exporter": "python",
   "pygments_lexer": "ipython3",
   "version": "3.6.12"
  },
  "metadata": {
   "interpreter": {
    "hash": "73441ad3b61dff827bc7e7300aef9bd78709d897ff54f13abd5d5963595f26db"
   }
  }
 },
 "nbformat": 4,
 "nbformat_minor": 4
}
