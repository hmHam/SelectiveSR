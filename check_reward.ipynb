{
 "cells": [
  {
   "cell_type": "code",
   "execution_count": 1,
   "id": "4976b81c",
   "metadata": {},
   "outputs": [],
   "source": [
    "from src.train_agent import reward\n",
    "from matplotlib import pyplot as plt\n",
    "from shift_unshift.shift_funcs import ACTIONS_IRREV\n",
    "import torch\n",
    "import numpy as np"
   ]
  },
  {
   "cell_type": "code",
   "execution_count": 2,
   "id": "2bcb83de",
   "metadata": {},
   "outputs": [
    {
     "name": "stdout",
     "output_type": "stream",
     "text": [
      "True\n",
      "a, a 8.0\n",
      "a, b 4.0\n",
      "a, c 3.0\n",
      "c, a 3.0\n",
      "b, a 4.0\n"
     ]
    },
    {
     "data": {
      "image/png": "[encoded data removed]",
      "text/plain": [
       "<Figure size 864x288 with 3 Axes>"
      ]
     },
     "metadata": {
      "needs_background": "light"
     },
     "output_type": "display_data"
    }
   ],
   "source": [
    "a = np.zeros((7, 7))\n",
    "a[2:5, 2:5] = 1\n",
    "a[3, 3] = 0\n",
    "\n",
    "b = np.zeros((7, 7))\n",
    "b[2:5, 3:6] = 1\n",
    "b[3, 4] = 0\n",
    "\n",
    "c = np.zeros((7, 7))\n",
    "c[2:5, 4:7] = 1\n",
    "c[3, 5] = 0\n",
    "print(np.allclose(np.roll(c, (0, -2), axis=(0, 1)), a))\n",
    "\n",
    "fig, axes = plt.subplots(1, 3, figsize=(12, 4))\n",
    "axes[0].imshow(a)\n",
    "axes[0].grid()\n",
    "\n",
    "axes[1].imshow(b)\n",
    "axes[1].grid()\n",
    "\n",
    "axes[2].imshow(c)\n",
    "axes[2].grid()\n",
    "\n",
    "a = torch.from_numpy(a).unsqueeze(0).unsqueeze(0)\n",
    "b = torch.from_numpy(b).unsqueeze(0).unsqueeze(0)\n",
    "c = torch.from_numpy(c).unsqueeze(0).unsqueeze(0)\n",
    "print('a, a', reward(1, [a, a], 2))\n",
    "print('a, b', reward(1, [b, a], 2))\n",
    "print('a, c', reward(1, [c, a], 2))\n",
    "print('c, a', reward(1, [a, c], 2))\n",
    "print('b, a', reward(1, [a, b], 2))"
   ]
  },
  {
   "cell_type": "code",
   "execution_count": 3,
   "id": "5c544c3f",
   "metadata": {},
   "outputs": [
    {
     "name": "stdout",
     "output_type": "stream",
     "text": [
      "0 5\n",
      "1 b, a 0.0\n",
      "4 b, a 0.0\n",
      "7 b, a 0.0\n",
      "10 b, a 0.0\n",
      "13 b, a 0.0\n",
      "16 b, a 0.0\n",
      "19 b, a 0.0\n",
      "22 b, a 0.0\n",
      "25 b, a 0.0\n",
      "28 b, a 1.0\n"
     ]
    },
    {
     "data": {
      "image/png": "[encoded data removed]",
      "text/plain": [
       "<Figure size 1440x432 with 10 Axes>"
      ]
     },
     "metadata": {
      "needs_background": "light"
     },
     "output_type": "display_data"
    }
   ],
   "source": [
    "a = np.zeros((28, 28))\n",
    "a[0, 5] = 1\n",
    "\n",
    "b = []\n",
    "for i in range(1, 29, 3):\n",
    "    b.append(np.roll(a, ((i), 0), axis=(0, 1)))\n",
    "\n",
    "\n",
    "fig, axes = plt.subplots(1, 10, figsize=(20, 6))\n",
    "axes[0].imshow(a)\n",
    "axes[0].grid()\n",
    "print(np.argmax(b[-1])//28, np.argmax(b[-1])%28)\n",
    "\n",
    "for i in range(1, 29, 3):\n",
    "    axes[i//3].imshow(b[i//3])\n",
    "    axes[i//3].grid()\n",
    "\n",
    "\n",
    "a = torch.from_numpy(a).unsqueeze(0).unsqueeze(0)\n",
    "\n",
    "for i in range(1, 29, 3):\n",
    "    be = torch.from_numpy(b[i//3]).unsqueeze(0).unsqueeze(0)\n",
    "    print(i, 'b, a', reward(1, [a, be], 2))\n",
    "# print('a, b', reward(1, [b, a], 2))\n",
    "# print('a, c', reward(1, [c, a], 2))\n",
    "# print('c, a', reward(1, [a, c], 2))"
   ]
  },
  {
   "cell_type": "code",
   "execution_count": 25,
   "id": "d9c91632",
   "metadata": {},
   "outputs": [
    {
     "name": "stdout",
     "output_type": "stream",
     "text": [
      "a, a 4.0\n",
      "a, b 2.0\n",
      "a, c 0.0\n",
      "c, a 0.0\n",
      "b, a 2.0\n",
      "b, c 2.0\n"
     ]
    },
    {
     "data": {
      "image/png": "[encoded data removed]",
      "text/plain": [
       "<Figure size 864x288 with 3 Axes>"
      ]
     },
     "metadata": {
      "needs_background": "light"
     },
     "output_type": "display_data"
    }
   ],
   "source": [
    "a = np.zeros((7, 7))\n",
    "a[2:4, 2:4] = 1\n",
    "\n",
    "b = np.roll(a, (1, 0), axis=(0, 1))\n",
    "c = np.roll(a, (2, 0), axis=(0, 1))\n",
    "\n",
    "fig, axes = plt.subplots(1, 3, figsize=(12, 4))\n",
    "axes[0].set_title('a')\n",
    "axes[0].imshow(a)\n",
    "axes[0].grid()\n",
    "axes[0].set_xticks(np.arange(7))\n",
    "axes[0].set_xticks(np.arange(7)-0.5)\n",
    "axes[0].set_yticks(np.arange(7))\n",
    "axes[0].set_yticks(np.arange(7)-0.5)\n",
    "\n",
    "axes[1].set_title('b')\n",
    "axes[1].imshow(b)\n",
    "axes[1].grid()\n",
    "axes[1].set_xticks(np.arange(7))\n",
    "axes[1].set_xticks(np.arange(7)-0.5)\n",
    "axes[1].set_yticks(np.arange(7))\n",
    "axes[1].set_yticks(np.arange(7)-0.5)\n",
    "\n",
    "axes[2].set_title('c')\n",
    "axes[2].imshow(c)\n",
    "axes[2].grid()\n",
    "axes[2].set_xticks(np.arange(7))\n",
    "axes[2].set_xticks(np.arange(7)-0.5)\n",
    "axes[2].set_yticks(np.arange(7))\n",
    "axes[2].set_yticks(np.arange(7)-0.5)\n",
    "\n",
    "a = torch.from_numpy(a).unsqueeze(0).unsqueeze(0)\n",
    "b = torch.from_numpy(b).unsqueeze(0).unsqueeze(0)\n",
    "c = torch.from_numpy(c).unsqueeze(0).unsqueeze(0)\n",
    "print('a, a', reward(1, [a, a], 2))\n",
    "print('a, b', reward(1, [b, a], 2))\n",
    "print('a, c', reward(1, [c, a], 2))\n",
    "print('c, a', reward(1, [a, c], 2))\n",
    "print('b, a', reward(1, [a, b], 2))\n",
    "print('b, c', reward(1, [b, c], 2))"
   ]
  },
  {
   "cell_type": "code",
   "execution_count": 6,
   "id": "689a1269",
   "metadata": {},
   "outputs": [
    {
     "name": "stdout",
     "output_type": "stream",
     "text": [
      "a, b -0.0\n",
      "a, c -0.0\n",
      "c, a -0.0\n",
      "b, a -0.0\n"
     ]
    },
    {
     "data": {
      "image/png": "[encoded data removed]",
      "text/plain": [
       "<Figure size 864x288 with 3 Axes>"
      ]
     },
     "metadata": {
      "needs_background": "light"
     },
     "output_type": "display_data"
    }
   ],
   "source": [
    "a = np.zeros((7, 7))\n",
    "a[2:5, 2:5] = 1\n",
    "a[3, 3] = 0\n",
    "\n",
    "b = np.roll(a, (0, -1), axis=(0, 1))\n",
    "c = np.roll(a, (0, -2), axis=(0, 1))\n",
    "\n",
    "fig, axes = plt.subplots(1, 3, figsize=(12, 4))\n",
    "axes[0].imshow(a)\n",
    "axes[0].grid()\n",
    "\n",
    "axes[1].imshow(b)\n",
    "axes[1].grid()\n",
    "\n",
    "axes[2].imshow(c)\n",
    "axes[2].grid()\n",
    "\n",
    "a = torch.from_numpy(a).unsqueeze(0).unsqueeze(0)\n",
    "b = torch.from_numpy(b).unsqueeze(0).unsqueeze(0)\n",
    "c = torch.from_numpy(c).unsqueeze(0).unsqueeze(0)\n",
    "print('a, b', reward(1, [b, a], 2))\n",
    "print('a, c', reward(1, [c, a], 2))\n",
    "print('c, a', reward(1, [a, c], 2))\n",
    "print('b, a', reward(1, [a, b], 2))"
   ]
  },
  {
   "cell_type": "code",
   "execution_count": null,
   "id": "8474be62",
   "metadata": {},
   "outputs": [],
   "source": []
  }
 ],
 "metadata": {
  "kernelspec": {
   "display_name": "Python 3",
   "language": "python",
   "name": "python3"
  },
  "language_info": {
   "codemirror_mode": {
    "name": "ipython",
    "version": 3
   },
   "file_extension": ".py",
   "mimetype": "text/x-python",
   "name": "python",
   "nbconvert_exporter": "python",
   "pygments_lexer": "ipython3",
   "version": "3.6.12"
  }
 },
 "nbformat": 4,
 "nbformat_minor": 5
}
