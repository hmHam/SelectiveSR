{
 "cells": [
  {
   "cell_type": "code",
   "execution_count": 31,
   "metadata": {},
   "outputs": [],
   "source": [
    "import torch\n",
    "device = 'cuda:0'\n",
    "MODEL_ERA = '003000'\n",
    "class MnistNet(torch.nn.Module):\n",
    "    def __init__(self, c=1, m=[20, 20, 5]):\n",
    "        super(MnistNet, self).__init__()\n",
    "        self.m = m\n",
    "        self.conv1 = torch.nn.Conv2d(c, self.m[0], 5, stride=1, padding=0)\n",
    "        self.conv2 = torch.nn.Conv2d(self.m[0], self.m[1], 5, stride=1, padding=0)\n",
    "        self.fc = torch.nn.Linear(4*4*self.m[1], m[2])\n",
    "        self.scale = torch.nn.Parameter(torch.tensor(1.0))\n",
    "\n",
    "    def forward(self, x):\n",
    "        x = torch.nn.functional.relu(self.conv1(x))\n",
    "        x = torch.nn.functional.max_pool2d(x, 2, 2)\n",
    "        x = torch.nn.functional.relu(self.conv2(x))\n",
    "        x = torch.nn.functional.max_pool2d(x, 2, 2)\n",
    "        x = x.view(-1, 4*4*self.m[1])\n",
    "        x = self.fc(x)\n",
    "        return x, self.scale*x"
   ]
  },
  {
   "cell_type": "code",
   "execution_count": 2,
   "metadata": {},
   "outputs": [],
   "source": [
    "from scipy.stats import multivariate_normal\n",
    "from skimage import restoration\n",
    "from scipy.signal import fftconvolve\n",
    "import numpy as np\n",
    "# kernels\n",
    "std = 3.0\n",
    "f = np.vectorize(lambda x, y: multivariate_normal([0.0, 0.0], np.diag([std]*2)).pdf([x, y]))\n",
    "X, Y = np.meshgrid(np.arange(-2, 3, 1, dtype=np.float32), np.arange(-2, 3, 1, dtype=np.float32))\n",
    "kernel1 = f(X, Y)\n",
    "kernel1 = kernel1 / kernel1.sum()\n",
    "gauss_filt = kernel1\n",
    "\n",
    "np.random.seed(0)\n",
    "kernel2 = np.random.rand(*kernel1.shape)\n",
    "kernel2 = kernel2 / kernel2.sum()\n",
    "random_filt = kernel2\n",
    "\n",
    "kernel3 = np.ones_like(kernel1)\n",
    "kernel3 = kernel3 / kernel3.sum()\n",
    "smoothed_filt = kernel3\n",
    "\n",
    "# filters\n",
    "filt = []\n",
    "filt.append(lambda x: x)\n",
    "filt.append(lambda x: np.maximum(0, fftconvolve(x, kernel1, mode='same')))\n",
    "filt.append(lambda x: np.maximum(0, fftconvolve(x, kernel2, mode='same')))\n",
    "filt.append(lambda x: np.maximum(0, restoration.wiener(x, kernel1, 1e-2)))\n",
    "filt.append(lambda x: np.maximum(0, restoration.wiener(x, kernel2, 1e-2)))"
   ]
  },
  {
   "cell_type": "code",
   "execution_count": 3,
   "metadata": {},
   "outputs": [],
   "source": [
    "T = 5"
   ]
  },
  {
   "cell_type": "code",
   "execution_count": 4,
   "metadata": {},
   "outputs": [],
   "source": [
    "def restore_by_model(blur_img, policy):\n",
    "    restore = torch.tensor(blur_img)\n",
    "    for _ in range(T):\n",
    "\n",
    "        action_idx = policy(restore, blur_img)\n",
    "        action = filt[action_idx]\n",
    "        restore = action(restore.numpy())\n",
    "        restore = torch.from_numpy(restore)\n",
    "    return restore.numpy()"
   ]
  },
  {
   "cell_type": "code",
   "execution_count": 32,
   "metadata": {},
   "outputs": [],
   "source": [
    "# channel1 000\n",
    "cond = ('channel01_weight000_seed00', 1)\n",
    "net10 = MnistNet(c=cond[1], m=[20, 20, 5]).to(device)\n",
    "net10.load_state_dict(torch.load('%s/Qnet%s.pth' % (cond[0], MODEL_ERA)))\n",
    "\n",
    "def c01w000_policy(restore, blur_img):\n",
    "    with torch.no_grad():\n",
    "        q, _ = net10(restore[None, None, ...].to(device, dtype=torch.float))\n",
    "    q = q.cpu().numpy()\n",
    "    return np.argmax(q)"
   ]
  },
  {
   "cell_type": "code",
   "execution_count": 33,
   "metadata": {},
   "outputs": [],
   "source": [
    "# channel1 005\n",
    "cond =('channel01_weight005_seed00', 1)\n",
    "net15 = MnistNet(c=cond[1], m=[20, 20, 5]).to(device)\n",
    "net15.load_state_dict(torch.load('%s/Qnet%s.pth' % (cond[0], MODEL_ERA)))\n",
    "\n",
    "def c01w005_policy(restore, blur_img):\n",
    "    with torch.no_grad():\n",
    "        q, _ = net15(restore[None, None, ...].to(device, dtype=torch.float))\n",
    "    q = q.cpu().numpy()\n",
    "    return np.argmax(q)"
   ]
  },
  {
   "cell_type": "code",
   "execution_count": 34,
   "metadata": {},
   "outputs": [],
   "source": [
    "# channel2 000\n",
    "cond = ('channel02_weight000_seed00', 2)\n",
    "net20 = MnistNet(c=cond[1], m=[20, 20, 5]).to(device)\n",
    "net20.load_state_dict(torch.load('%s/Qnet%s.pth' % (cond[0], MODEL_ERA)))\n",
    "\n",
    "def c02w000_policy(restore, blur_img):\n",
    "    blur_img = torch.from_numpy(blur_img)\n",
    "    with torch.no_grad():\n",
    "        feature = torch.stack([restore, blur_img])\n",
    "        q, _ = net20(feature[None, ...].to(device, dtype=torch.float))\n",
    "    q = q.cpu().numpy()\n",
    "    return np.argmax(q)"
   ]
  },
  {
   "cell_type": "code",
   "execution_count": 35,
   "metadata": {},
   "outputs": [],
   "source": [
    "# channel2 000\n",
    "cond = ('channel02_weight005_seed00', 2)\n",
    "net25 = MnistNet(c=cond[1], m=[20, 20, 5]).to(device)\n",
    "net25.load_state_dict(torch.load('%s/Qnet%s.pth' % (cond[0], MODEL_ERA)))\n",
    "\n",
    "def c02w005_policy(restore, blur_img):\n",
    "    blur_img = torch.from_numpy(blur_img)\n",
    "    with torch.no_grad():\n",
    "        feature = torch.stack([restore, blur_img])\n",
    "        q, _ = net25(feature[None, ...].to(device, dtype=torch.float))\n",
    "    q = q.cpu().numpy()\n",
    "    return np.argmax(q)"
   ]
  },
  {
   "cell_type": "code",
   "execution_count": 9,
   "metadata": {},
   "outputs": [],
   "source": [
    "# random select 5 times\n",
    "def restore_randomly(blur_img):\n",
    "    restore = blur_img\n",
    "    for _ in range(T):\n",
    "        restore = filt[np.random.randint(0, T)](restore)\n",
    "    return restore\n",
    "\n",
    "def restore_by_c01w000(blur_img):\n",
    "    return restore_by_model(blur_img, c01w000_policy)\n",
    "\n",
    "def restore_by_c01w005(blur_img):\n",
    "    return restore_by_model(blur_img, c01w005_policy)\n",
    "\n",
    "def restore_by_c02w000(blur_img):\n",
    "    return restore_by_model(blur_img, c02w000_policy)\n",
    "\n",
    "def restore_by_c02w005(blur_img):\n",
    "    return restore_by_model(blur_img, c02w005_policy)"
   ]
  },
  {
   "cell_type": "code",
   "execution_count": 10,
   "metadata": {},
   "outputs": [],
   "source": [
    "import numpy as np\n",
    "from torchvision import datasets\n",
    "from train_agent import blur\n",
    "\n",
    "# 実験手順\n",
    "# 訓練で使っていない画像を準備\n",
    "# ぼやかしたデータセットを作成\n",
    "# 乱択した結果に対してMSEを記録\n",
    "# 平均値を算出\n",
    "def measure_MSE(restore_functions, kernel, c=3, trial_num=10000):\n",
    "    data = datasets.MNIST(root='./data', train=False, download=True)\n",
    "    test_imgs = data.data.numpy() / 255\n",
    "\n",
    "    dataset_mse = []\n",
    "    for img in test_imgs:\n",
    "        blur_img = blur(img, kernel, c=c)\n",
    "        case_mse = [np.mean((blur_img - img)**2)]        \n",
    "        for restore_func in restore_functions:\n",
    "            restore = restore_func(blur_img)\n",
    "            mse = np.mean((restore - img)**2)\n",
    "            case_mse.append(mse)\n",
    "        dataset_mse.append(case_mse)\n",
    "    return np.array(dataset_mse)"
   ]
  },
  {
   "cell_type": "code",
   "execution_count": 11,
   "metadata": {},
   "outputs": [],
   "source": [
    "N = 10000"
   ]
  },
  {
   "cell_type": "code",
   "execution_count": 12,
   "metadata": {},
   "outputs": [
    {
     "data": {
      "text/plain": [
       "'005500'"
      ]
     },
     "execution_count": 12,
     "metadata": {},
     "output_type": "execute_result"
    }
   ],
   "source": [
    "MODEL_ERA"
   ]
  },
  {
   "cell_type": "code",
   "execution_count": 36,
   "metadata": {},
   "outputs": [
    {
     "data": {
      "application/vnd.jupyter.widget-view+json": {
       "model_id": "7fb15a3b13394ab59cf9583e044dac30",
       "version_major": 2,
       "version_minor": 0
      },
      "text/plain": [
       "HBox(children=(HTML(value=''), FloatProgress(value=0.0, max=3.0), HTML(value='')))"
      ]
     },
     "metadata": {},
     "output_type": "display_data"
    },
    {
     "data": {
      "application/vnd.jupyter.widget-view+json": {
       "model_id": "7f4cac90aae94c14873d716fb02fa9b3",
       "version_major": 2,
       "version_minor": 0
      },
      "text/plain": [
       "HBox(children=(HTML(value=''), FloatProgress(value=0.0, max=5.0), HTML(value='')))"
      ]
     },
     "metadata": {},
     "output_type": "display_data"
    },
    {
     "name": "stdout",
     "output_type": "stream",
     "text": [
      "\n"
     ]
    },
    {
     "data": {
      "application/vnd.jupyter.widget-view+json": {
       "model_id": "501327b7709e4c87986b288da42144d3",
       "version_major": 2,
       "version_minor": 0
      },
      "text/plain": [
       "HBox(children=(HTML(value=''), FloatProgress(value=0.0, max=5.0), HTML(value='')))"
      ]
     },
     "metadata": {},
     "output_type": "display_data"
    },
    {
     "name": "stdout",
     "output_type": "stream",
     "text": [
      "\n"
     ]
    },
    {
     "data": {
      "application/vnd.jupyter.widget-view+json": {
       "model_id": "aee5602dd922416f99e7e4e5e1591c5b",
       "version_major": 2,
       "version_minor": 0
      },
      "text/plain": [
       "HBox(children=(HTML(value=''), FloatProgress(value=0.0, max=5.0), HTML(value='')))"
      ]
     },
     "metadata": {},
     "output_type": "display_data"
    },
    {
     "name": "stdout",
     "output_type": "stream",
     "text": [
      "\n",
      "\n"
     ]
    }
   ],
   "source": [
    "from tqdm.notebook import tqdm\n",
    "\n",
    "functions = [\n",
    "    restore_randomly,\n",
    "    restore_by_c01w000,\n",
    "    restore_by_c01w005,\n",
    "    restore_by_c02w000,\n",
    "    restore_by_c02w005\n",
    "]\n",
    "\n",
    "kernels = [\n",
    "    ('gauss', gauss_filt),\n",
    "    ('random', random_filt),\n",
    "    ('smooth', smoothed_filt)\n",
    "]\n",
    "\n",
    "result_matrix = {}\n",
    "for (label, kernel) in tqdm(kernels):\n",
    "    c_matrix = []\n",
    "    for c in tqdm(range(1, 6)):\n",
    "        c_matrix.append(\n",
    "            measure_MSE(functions, kernel, c, trial_num=N)\n",
    "        )\n",
    "    result_matrix[label] = c_matrix"
   ]
  },
  {
   "cell_type": "code",
   "execution_count": 37,
   "metadata": {},
   "outputs": [],
   "source": [
    "import pickle\n",
    "with open('compare_MSE(%s,%d).pickle' % (MODEL_ERA, N), 'wb') as f:\n",
    "    pickle.dump(result_matrix, f)"
   ]
  },
  {
   "cell_type": "code",
   "execution_count": 44,
   "metadata": {},
   "outputs": [],
   "source": [
    "from matplotlib import pyplot as plt\n",
    "import pickle\n",
    "\n",
    "with open('compare_MSE(003500,%d).pickle' % N, 'rb') as f:\n",
    "    experiment50 = pickle.load(f)\n",
    "\n",
    "with open('compare_MSE(020000,%d).pickle' % N, 'rb') as f:\n",
    "    experiment400 = pickle.load(f)"
   ]
  },
  {
   "cell_type": "code",
   "execution_count": 45,
   "metadata": {},
   "outputs": [
    {
     "data": {
      "image/png": "[encoded data removed]",
      "text/plain": [
       "<Figure size 1800x432 with 4 Axes>"
      ]
     },
     "metadata": {
      "needs_background": "light"
     },
     "output_type": "display_data"
    }
   ],
   "source": [
    "# gaussx3 c01w000 -> (1000, )\n",
    "from matplotlib import pyplot as plt\n",
    "labels = ['c01_w000', 'c01_w005', 'c02_w000', 'c02_w005']\n",
    "\n",
    "def get_samples(m, j):\n",
    "    samples = []\n",
    "    for chunk_per_kernel in m.values():\n",
    "        for i in range(5):\n",
    "            samples.extend([chunk_per_kernel[i][:, j+2].mean() ])\n",
    "    return samples\n",
    "\n",
    "fig, axes = plt.subplots(1, 4, figsize=(25, 6))\n",
    "FILT_COUNT = 2\n",
    "for j in range(4):\n",
    "    data = [get_samples(experiment50, j), get_samples(experiment400, j)]\n",
    "    axes[j].set_title(labels[j])\n",
    "    axes[j].tick_params()\n",
    "    axes[j].boxplot(data)\n",
    "    axes[j].set_ylabel('MSE')\n",
    "    axes[j].set_xticklabels(['t = 70000', 'training finished'])\n",
    "plt.show()"
   ]
  },
  {
   "cell_type": "code",
   "execution_count": 21,
   "metadata": {},
   "outputs": [
    {
     "data": {
      "text/plain": [
       "0.027778980732195403"
      ]
     },
     "execution_count": 21,
     "metadata": {},
     "output_type": "execute_result"
    }
   ],
   "source": [
    "np.mean(get_samples(experiment400, 0))"
   ]
  },
  {
   "cell_type": "code",
   "execution_count": 26,
   "metadata": {},
   "outputs": [],
   "source": [
    "# result_matrixのデータ構造を変えたので、以下は動かない"
   ]
  },
  {
   "cell_type": "code",
   "execution_count": 22,
   "metadata": {},
   "outputs": [
    {
     "name": "stdout",
     "output_type": "stream",
     "text": [
      "gauss\tinit\trandom\tc01w000\tc01w005\tc02w000\tc02w005\t\n",
      "1 回\t0.0228\t0.0423\t0.0123\t0.0111\t0.0161\t0.0161\t\n",
      "2 回\t0.0341\t0.0392\t0.0139\t0.0125\t0.0146\t0.0146\t\n",
      "3 回\t0.0418\t0.0408\t0.0151\t0.0139\t0.0153\t0.0153\t\n",
      "4 回\t0.0472\t0.0460\t0.0205\t0.0214\t0.0216\t0.0216\t\n",
      "5 回\t0.0512\t0.0517\t0.0383\t0.0399\t0.0408\t0.0408\t\n",
      "\n",
      "random\tinit\trandom\tc01w000\tc01w005\tc02w000\tc02w005\t\n",
      "1 回\t0.0287\t0.0400\t0.0146\t0.0128\t0.0173\t0.0173\t\n",
      "2 回\t0.0385\t0.0391\t0.0148\t0.0132\t0.0153\t0.0153\t\n",
      "3 回\t0.0460\t0.0449\t0.0212\t0.0204\t0.0216\t0.0216\t\n",
      "4 回\t0.0511\t0.0517\t0.0421\t0.0417\t0.0433\t0.0433\t\n",
      "5 回\t0.0549\t0.0572\t0.0595\t0.0523\t0.0605\t0.0605\t\n",
      "\n",
      "smooth\tinit\trandom\tc01w000\tc01w005\tc02w000\tc02w005\t\n",
      "1 回\t0.0303\t0.0385\t0.0149\t0.0128\t0.0176\t0.0176\t\n",
      "2 回\t0.0396\t0.0395\t0.0150\t0.0137\t0.0156\t0.0156\t\n",
      "3 回\t0.0473\t0.0464\t0.0233\t0.0243\t0.0244\t0.0244\t\n",
      "4 回\t0.0523\t0.0532\t0.0476\t0.0464\t0.0491\t0.0491\t\n",
      "5 回\t0.0560\t0.0585\t0.0635\t0.0549\t0.0635\t0.0635\t\n",
      "\n"
     ]
    }
   ],
   "source": [
    "# show\n",
    "for key, res in result_matrix.items():\n",
    "    for head in [key, 'init', 'random', 'c01w000', 'c01w005', 'c02w000', 'c02w005']:\n",
    "        print(head, end='\\t')\n",
    "    print()\n",
    "    for c, r in enumerate(res, start=1):\n",
    "        print(c, '回', end='\\t')\n",
    "        result = r.mean(axis=0)\n",
    "        for v in result:\n",
    "            print(f'{v:.4f}', end='\\t')\n",
    "        print()\n",
    "    print()"
   ]
  },
  {
   "cell_type": "code",
   "execution_count": 58,
   "metadata": {},
   "outputs": [
    {
     "name": "stdout",
     "output_type": "stream",
     "text": [
      "init & 0.023  & 0.034  & 0.042  & 0.047  & 0.051 \\\\ \\hline\n",
      "random & 0.043  & 0.039  & 0.041  & 0.046  & 0.051 \\\\ \\hline\n",
      "c01w000 & 0.012  & 0.014  & 0.015  & 0.021  & 0.038 \\\\ \\hline\n",
      "c01w005 & 0.011  & 0.013  & 0.014  & 0.021  & 0.040 \\\\ \\hline\n",
      "c02w000 & 0.016  & 0.015  & 0.015  & 0.022  & 0.041 \\\\ \\hline\n",
      "c02w005 & 0.013  & 0.013  & 0.014  & 0.022  & 0.043 \\\\ \\hline\n",
      "\n",
      "init & 0.029  & 0.038  & 0.046  & 0.051  & 0.055 \\\\ \\hline\n",
      "random & 0.040  & 0.039  & 0.045  & 0.052  & 0.057 \\\\ \\hline\n",
      "c01w000 & 0.015  & 0.015  & 0.021  & 0.042  & 0.059 \\\\ \\hline\n",
      "c01w005 & 0.013  & 0.013  & 0.020  & 0.042  & 0.052 \\\\ \\hline\n",
      "c02w000 & 0.017  & 0.015  & 0.022  & 0.043  & 0.060 \\\\ \\hline\n",
      "c02w005 & 0.012  & 0.013  & 0.020  & 0.045  & 0.061 \\\\ \\hline\n",
      "\n",
      "init & 0.030  & 0.040  & 0.047  & 0.052  & 0.056 \\\\ \\hline\n",
      "random & 0.039  & 0.040  & 0.046  & 0.053  & 0.058 \\\\ \\hline\n",
      "c01w000 & 0.015  & 0.015  & 0.023  & 0.048  & 0.064 \\\\ \\hline\n",
      "c01w005 & 0.013  & 0.014  & 0.024  & 0.046  & 0.055 \\\\ \\hline\n",
      "c02w000 & 0.018  & 0.016  & 0.024  & 0.049  & 0.063 \\\\ \\hline\n",
      "c02w005 & 0.013  & 0.014  & 0.025  & 0.050  & 0.064 \\\\ \\hline\n",
      "\n"
     ]
    }
   ],
   "source": [
    "# tex\n",
    "for key, res in experiment400.items():\n",
    "    for head, row in zip(['init', 'random', 'c01w000', 'c01w005', 'c02w000', 'c02w005'], np.stack(res).T):\n",
    "        print(head, end='')\n",
    "        r = row.mean(axis=0)\n",
    "        for val in r:\n",
    "            print(' & ', end='')\n",
    "            print('%.3f' % round(val, 3), end=' ')\n",
    "        print('\\\\\\\\ \\hline')\n",
    "    print()"
   ]
  }
 ],
 "metadata": {
  "kernelspec": {
   "display_name": "Python 3",
   "language": "python",
   "name": "python3"
  },
  "language_info": {
   "codemirror_mode": {
    "name": "ipython",
    "version": 3
   },
   "file_extension": ".py",
   "mimetype": "text/x-python",
   "name": "python",
   "nbconvert_exporter": "python",
   "pygments_lexer": "ipython3",
   "version": "3.6.12"
  }
 },
 "nbformat": 4,
 "nbformat_minor": 4
}
