{
 "cells": [
  {
   "cell_type": "code",
   "execution_count": 1,
   "metadata": {},
   "outputs": [],
   "source": [
    "import numpy as np\n",
    "import torch\n",
    "from matplotlib import pyplot as plt\n",
    "\n",
    "from collections import defaultdict, namedtuple, deque\n",
    "import random\n",
    "from tqdm.notebook import tqdm"
   ]
  },
  {
   "cell_type": "code",
   "execution_count": 2,
   "metadata": {},
   "outputs": [],
   "source": [
    "class linear_model(torch.nn.Module):\n",
    "    def __init__(self, input_dim, output_dim):\n",
    "        super(linear_model, self).__init__()\n",
    "        self.w = torch.nn.Parameter(torch.zeros(input_dim, output_dim))\n",
    "        self.b = torch.nn.Parameter(torch.zeros(output_dim))\n",
    "\n",
    "    def forward(self, x):\n",
    "        return torch.mm(x, self.w) + self.b.unsqueeze(0)"
   ]
  },
  {
   "cell_type": "code",
   "execution_count": 3,
   "metadata": {},
   "outputs": [],
   "source": [
    "def x2vec(x):\n",
    "    vec = np.zeros(11)\n",
    "    vec[x] = 1\n",
    "    return vec\n",
    "\n",
    "def vec2x(vec):\n",
    "    return np.argmax(vec)\n",
    "\n",
    "def state_vec(s, s0):\n",
    "    return torch.tensor(x2vec(s)).unsqueeze(0).to(torch.float)"
   ]
  },
  {
   "cell_type": "code",
   "execution_count": 4,
   "metadata": {},
   "outputs": [],
   "source": [
    "def next_state(t, a):\n",
    "    s, s0 = t\n",
    "    if a == 0:\n",
    "        s_next = s * 2\n",
    "    elif a == 1:\n",
    "        s_next = s + 1\n",
    "    elif a == 2:\n",
    "        s_next = s\n",
    "    elif a == 3:\n",
    "        s_next = s - 1\n",
    "    elif a == 4:\n",
    "        s_next = s // 2\n",
    "    s_next = max(0, min(10, s_next))\n",
    "    return (s_next, s0)"
   ]
  },
  {
   "cell_type": "code",
   "execution_count": 5,
   "metadata": {},
   "outputs": [],
   "source": [
    "def reward_func(t, t_next, done, T):\n",
    "    s, s0 = t\n",
    "    s_next, _ = t_next\n",
    "    if done and s_next != T:\n",
    "        return -100\n",
    "    elif done:\n",
    "        return 100\n",
    "    return -1"
   ]
  },
  {
   "cell_type": "code",
   "execution_count": 6,
   "metadata": {},
   "outputs": [],
   "source": [
    "def step(t, a, T):\n",
    "    t_next = next_state(t, a)\n",
    "    done = (a == 2)\n",
    "    r = reward_func(t, t_next, done, T)\n",
    "    return t_next, r, done "
   ]
  },
  {
   "cell_type": "code",
   "execution_count": 7,
   "metadata": {},
   "outputs": [],
   "source": [
    "def update(Qnet, batch, lr=0.1, gamma=0.9):\n",
    "    loss_fn = torch.nn.MSELoss()\n",
    "    optimizer = torch.optim.SGD(Qnet.parameters(), lr=lr)\n",
    "    x, y = [], []\n",
    "    for e in batch:\n",
    "        u = state_vec(e.s[0], e.s[1])\n",
    "        est = Qnet(u)[0, e.a]\n",
    "        v = e.r\n",
    "        if not e.d:\n",
    "            u_next = state_vec(e.ns[0], e.ns[1])\n",
    "            with torch.no_grad():\n",
    "                v += gamma * torch.max(Qnet(u_next)[0])\n",
    "        x.append(est)\n",
    "        y.append(v)\n",
    "    x = torch.stack(x)\n",
    "    y = torch.tensor(y)\n",
    "    optimizer.zero_grad()\n",
    "    loss = loss_fn(x, y)\n",
    "    loss.backward()\n",
    "    optimizer.step()"
   ]
  },
  {
   "cell_type": "code",
   "execution_count": 19,
   "metadata": {},
   "outputs": [],
   "source": [
    "def f(x):\n",
    "    return 0\n",
    "\n",
    "Experience = namedtuple('Experience', ('s', 'a', 'ns', 'r', 'd'))\n",
    "starts=list(range(11))\n",
    "\n",
    "def trial(seed=100, try_num=100000, lr=0.01, eps=0.1):\n",
    "    # training\n",
    "    np.random.seed(seed)\n",
    "    random.seed(seed)\n",
    "    Qnet = linear_model(input_dim=11, output_dim=5)\n",
    "    R = []\n",
    "    experiences = deque(maxlen=1024)\n",
    "    \n",
    "    for itr in tqdm(range(try_num)):\n",
    "        Ri = 0\n",
    "        s0 = np.random.choice(starts)\n",
    "        T = f(s0)\n",
    "        t = (s0, s0)\n",
    "        for _ in range(1000):\n",
    "            # 行動を選択\n",
    "            u = state_vec(t[0], t[1])\n",
    "            with torch.no_grad():\n",
    "                a = torch.argmax(Qnet(u)[0]).item() if np.random.rand() >= eps else np.random.randint(5)\n",
    "            t_next, r, d = step(t, a, T)\n",
    "            e = Experience(t, a, t_next, r, d)\n",
    "            experiences.append(e)\n",
    "            t = t_next\n",
    "            Ri = Ri + r\n",
    "            if d:\n",
    "                break\n",
    "        if len(experiences) == 1024:\n",
    "            batch = random.sample(experiences, 32)\n",
    "            update(Qnet, batch, lr=lr, gamma=0.9)\n",
    "\n",
    "        R.append(Ri)\n",
    "    return Qnet, R"
   ]
  },
  {
   "cell_type": "code",
   "execution_count": 20,
   "metadata": {},
   "outputs": [
    {
     "data": {
      "application/vnd.jupyter.widget-view+json": {
       "model_id": "792e522834dd4b67bbd748d9318f72bb",
       "version_major": 2,
       "version_minor": 0
      },
      "text/plain": [
       "HBox(children=(HTML(value=''), FloatProgress(value=0.0, max=10000.0), HTML(value='')))"
      ]
     },
     "metadata": {},
     "output_type": "display_data"
    },
    {
     "name": "stdout",
     "output_type": "stream",
     "text": [
      "\n"
     ]
    }
   ],
   "source": [
    "Qnet, R = trial(seed=0, eps=0.1, try_num=10000, lr=0.01)"
   ]
  },
  {
   "cell_type": "code",
   "execution_count": 21,
   "metadata": {},
   "outputs": [
    {
     "data": {
      "image/png": "[encoded data removed]",
      "text/plain": [
       "<Figure size 432x288 with 1 Axes>"
      ]
     },
     "metadata": {
      "needs_background": "light"
     },
     "output_type": "display_data"
    }
   ],
   "source": [
    "def moving_average(a, n=3):\n",
    "    ret = np.cumsum(a, dtype=float)\n",
    "    ret[n:] = ret[n:] - ret[:-n]\n",
    "    return ret[n - 1:] / n\n",
    "\n",
    "plt.plot(moving_average(R, n=100))\n",
    "plt.show()"
   ]
  },
  {
   "cell_type": "code",
   "execution_count": 22,
   "metadata": {},
   "outputs": [],
   "source": [
    "def test(Qnet):\n",
    "    solved = []\n",
    "    for s0 in range(11):\n",
    "        T = f(s0)\n",
    "        t = (s0, s0)\n",
    "        for _ in range(100):\n",
    "            u = state_vec(t[0], t[1])\n",
    "            with torch.no_grad():\n",
    "                a = torch.argmax(Qnet(u)[0]).item()\n",
    "            if a == 2:\n",
    "                break\n",
    "            t = next_state(t, a)\n",
    "        if t[0] == T:\n",
    "            solved.append((s0, T, 'solved!'))\n",
    "        else:\n",
    "            solved.append((s0, T, '-'))\n",
    "    for item in solved:\n",
    "        print('init = %d, T = %d, %s' % item)"
   ]
  },
  {
   "cell_type": "code",
   "execution_count": 23,
   "metadata": {},
   "outputs": [
    {
     "name": "stdout",
     "output_type": "stream",
     "text": [
      "init = 0, T = 0, solved!\n",
      "init = 1, T = 0, solved!\n",
      "init = 2, T = 0, solved!\n",
      "init = 3, T = 0, solved!\n",
      "init = 4, T = 0, solved!\n",
      "init = 5, T = 0, solved!\n",
      "init = 6, T = 0, solved!\n",
      "init = 7, T = 0, solved!\n",
      "init = 8, T = 0, solved!\n",
      "init = 9, T = 0, solved!\n",
      "init = 10, T = 0, solved!\n"
     ]
    }
   ],
   "source": [
    "test(Qnet)"
   ]
  },
  {
   "cell_type": "code",
   "execution_count": null,
   "metadata": {},
   "outputs": [],
   "source": []
  }
 ],
 "metadata": {
  "kernelspec": {
   "display_name": "Python 3",
   "language": "python",
   "name": "python3"
  },
  "language_info": {
   "codemirror_mode": {
    "name": "ipython",
    "version": 3
   },
   "file_extension": ".py",
   "mimetype": "text/x-python",
   "name": "python",
   "nbconvert_exporter": "python",
   "pygments_lexer": "ipython3",
   "version": "3.6.12"
  }
 },
 "nbformat": 4,
 "nbformat_minor": 4
}
