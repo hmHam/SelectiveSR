{
 "cells": [
  {
   "cell_type": "code",
   "execution_count": 42,
   "metadata": {},
   "outputs": [],
   "source": [
    "import numpy as np\n",
    "from matplotlib import pyplot as plt\n",
    "from scipy.stats import norm\n",
    " \n",
    "x = np.linspace(-100,100, 1000)\n",
    "y = norm.pdf(x, 20, 1)"
   ]
  },
  {
   "cell_type": "code",
   "execution_count": 43,
   "metadata": {},
   "outputs": [
    {
     "data": {
      "image/png": "[encoded data removed]",
      "text/plain": [
       "<Figure size 432x288 with 1 Axes>"
      ]
     },
     "metadata": {
      "needs_background": "light"
     },
     "output_type": "display_data"
    }
   ],
   "source": [
    "# ここからグラフ描画\n",
    "# フォントの種類とサイズを設定する。\n",
    "plt.rcParams['font.size'] = 14\n",
    "plt.rcParams['font.family'] = 'Times New Roman'\n",
    " \n",
    "# 目盛を内側にする。\n",
    "plt.rcParams['xtick.direction'] = 'in'\n",
    "plt.rcParams['ytick.direction'] = 'in'\n",
    " \n",
    "fig = plt.figure()\n",
    "ax1 = plt.subplot(111)\n",
    " \n",
    "# グラフの上下左右に目盛線を付ける。\n",
    "ax1.yaxis.set_ticks_position('both')\n",
    "ax1.xaxis.set_ticks_position('both')\n",
    " \n",
    "# 軸のラベルを設定する。\n",
    "ax1.set_xlabel('Random variable')\n",
    "ax1.set_ylabel('Probability density')\n",
    " \n",
    "# データの範囲と刻み目盛を明示する。\n",
    "plt.xticks([\n",
    "    norm.ppf(p=0.5)\n",
    "],\n",
    "[ \"\",\"$-3\\sigma$\",\"$-2\\sigma$\",\"$-\\sigma$\",\"$0$\",\"$\\sigma$\",\"$2\\sigma$\",\"$3\\sigma$\",\"\"])\n",
    "ax1.set_yticks(np.arange(0, 1, 0.1))\n",
    "ax1.set_xlim(-40, 40)\n",
    "ax1.set_ylim(0, 0.5)\n",
    " \n",
    "# データプロットの準備とともに、ラベルと線の太さ、凡例の設置を行う。\n",
    "ax1.plot(x, y, label='PDF', lw=1)\n",
    " \n",
    "fig.tight_layout()\n",
    " \n",
    "# グラフを表示する。\n",
    "plt.show()\n",
    "plt.close()"
   ]
  },
  {
   "cell_type": "code",
   "execution_count": 64,
   "metadata": {},
   "outputs": [
    {
     "name": "stdout",
     "output_type": "stream",
     "text": [
      "recording...\n",
      "finished recording\n"
     ]
    }
   ],
   "source": [
    "import pyaudio as ad\n",
    "from time import time\n",
    "import wave\n",
    "\n",
    "RATE = 44100\n",
    "DEVICE_INDEX = 1\n",
    "CHUNK = 2**11\n",
    "audio = ad.PyAudio()\n",
    "stream = audio.open(\n",
    "    format=ad.paInt16,\n",
    "    channels=1,\n",
    "    rate=RATE,\n",
    "    input=True,\n",
    "    input_device_index=DEVICE_INDEX,\n",
    "    frames_per_buffer=CHUNK\n",
    ")\n",
    "\n",
    "print('recording...')\n",
    "frames = []\n",
    "before = time()\n",
    "times = [before]\n",
    "for i in range(0, int(RATE / CHUNK * 10)):\n",
    "    data = stream.read(CHUNK)\n",
    "    after = time()\n",
    "    times.append(after - before)\n",
    "    before = after\n",
    "    frames.append(data)\n",
    "print('finished recording')"
   ]
  },
  {
   "cell_type": "code",
   "execution_count": 65,
   "metadata": {},
   "outputs": [],
   "source": [
    "stream.stop_stream()"
   ]
  },
  {
   "cell_type": "code",
   "execution_count": 66,
   "metadata": {},
   "outputs": [
    {
     "data": {
      "text/plain": [
       "bytes"
      ]
     },
     "execution_count": 66,
     "metadata": {},
     "output_type": "execute_result"
    }
   ],
   "source": [
    "type(frames[0])"
   ]
  },
  {
   "cell_type": "code",
   "execution_count": 67,
   "metadata": {},
   "outputs": [],
   "source": [
    "stream.close()"
   ]
  },
  {
   "cell_type": "code",
   "execution_count": 68,
   "metadata": {},
   "outputs": [],
   "source": [
    "audio.terminate()"
   ]
  },
  {
   "cell_type": "code",
   "execution_count": 69,
   "metadata": {},
   "outputs": [],
   "source": [
    "with wave.open('a.wav', 'wb') as wf:\n",
    "    wf.setnchannels(1)\n",
    "    wf.setsampwidth(audio.get_sample_size(pad.paInt16))\n",
    "    wf.setframerate(RATE)\n",
    "    wf.writeframes(b''.join(frames))"
   ]
  },
  {
   "cell_type": "code",
   "execution_count": 63,
   "metadata": {},
   "outputs": [
    {
     "name": "stdout",
     "output_type": "stream",
     "text": [
      "README.md      a.wav          \u001b[44mtrial_ball\u001b[m\u001b[m\r\n",
      "Untitled.ipynb \u001b[44mtest\u001b[m\u001b[m           \u001b[44mtrial_img\u001b[m\u001b[m\r\n"
     ]
    }
   ],
   "source": [
    "!ls"
   ]
  },
  {
   "cell_type": "code",
   "execution_count": null,
   "metadata": {},
   "outputs": [],
   "source": []
  }
 ],
 "metadata": {
  "kernelspec": {
   "display_name": "Python 3",
   "language": "python",
   "name": "python3"
  },
  "language_info": {
   "codemirror_mode": {
    "name": "ipython",
    "version": 3
   },
   "file_extension": ".py",
   "mimetype": "text/x-python",
   "name": "python",
   "nbconvert_exporter": "python",
   "pygments_lexer": "ipython3",
   "version": "3.7.4"
  }
 },
 "nbformat": 4,
 "nbformat_minor": 2
}
