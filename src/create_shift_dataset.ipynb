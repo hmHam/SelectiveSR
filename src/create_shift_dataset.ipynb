{
 "cells": [
  {
   "cell_type": "markdown",
   "id": "39c83427",
   "metadata": {},
   "source": [
    "### Action空間が単射のもの"
   ]
  },
  {
   "cell_type": "code",
   "execution_count": 1,
   "id": "3c3172f1",
   "metadata": {},
   "outputs": [],
   "source": [
    "import pickle\n",
    "import torch\n",
    "from torchvision import datasets, transforms\n",
    "\n",
    "SEED = 0\n",
    "SAMPLE_SIZE = 1000"
   ]
  },
  {
   "cell_type": "code",
   "execution_count": 3,
   "id": "c1e5259d",
   "metadata": {},
   "outputs": [],
   "source": [
    "import numpy as np\n",
    "\n",
    "def get_funcs(delta_x, delta_y):\n",
    "    func_shift = lambda A: np.roll(A, (delta_x, delta_y), axis=(0, 1))\n",
    "    func_unshift = lambda A: np.roll(A, (-delta_x, -delta_y), axis=(0, 1))\n",
    "    return func_shift, func_unshift\n",
    "\n",
    "def augument_data(source):\n",
    "    data = []\n",
    "    for c in source:\n",
    "        new = [\n",
    "            c,\n",
    "            np.rot90(c, np.random.randint(1, 4)),\n",
    "            np.fliplr(c),\n",
    "            np.flipud(c)                \n",
    "        ]\n",
    "        data.extend(new)\n",
    "    data = np.array(data, dtype=source.dtype)\n",
    "    return data"
   ]
  },
  {
   "cell_type": "code",
   "execution_count": 4,
   "id": "4f5d57af",
   "metadata": {},
   "outputs": [],
   "source": [
    "funcs = [get_funcs(*delta) for delta in [(2, 2), (2, 0), (0, 2)]]\n",
    "\n",
    "np.random.seed(SEED)\n",
    "data = datasets.MNIST(root='./data/', train=True, download=True)\n",
    "idx = np.random.choice(data.data.shape[0], SAMPLE_SIZE)"
   ]
  },
  {
   "cell_type": "code",
   "execution_count": 5,
   "id": "d829b482",
   "metadata": {},
   "outputs": [],
   "source": [
    "imgs = data.data[idx].numpy()\n",
    "augumented_data = augument_data(imgs)"
   ]
  },
  {
   "cell_type": "code",
   "execution_count": 6,
   "id": "6bee3977",
   "metadata": {},
   "outputs": [],
   "source": [
    "train_filter_set = np.random.choice([0, 2], (augumented_data.shape[0], 3))  # 保存\n",
    "train_data = []\n",
    "for k, filt_idx in enumerate(train_filter_set):\n",
    "    # 加工する\n",
    "    img = augumented_data[k]\n",
    "    deteriolated_img = img.copy()\n",
    "    for i in filt_idx:\n",
    "        func, _ = funcs[i]\n",
    "        deteriolated_img = func(deteriolated_img)\n",
    "    train_data.append([img, deteriolated_img])"
   ]
  },
  {
   "cell_type": "code",
   "execution_count": 7,
   "id": "18c47cb1",
   "metadata": {},
   "outputs": [],
   "source": [
    "train_data = np.array(train_data)"
   ]
  },
  {
   "cell_type": "code",
   "execution_count": 8,
   "id": "be92b6c2",
   "metadata": {},
   "outputs": [
    {
     "data": {
      "text/plain": [
       "(4000, 2, 28, 28)"
      ]
     },
     "execution_count": 8,
     "metadata": {},
     "output_type": "execute_result"
    }
   ],
   "source": [
    "train_data.shape"
   ]
  },
  {
   "cell_type": "code",
   "execution_count": 71,
   "id": "a88f261d",
   "metadata": {},
   "outputs": [],
   "source": [
    "np.savez(\n",
    "    'data/shift_dataset.npz',\n",
    "    train_dataset=train_data,\n",
    "    original_dataset=augumented_data,\n",
    "    train_func_labels=train_filter_set\n",
    ")"
   ]
  },
  {
   "cell_type": "code",
   "execution_count": null,
   "id": "33be2a56",
   "metadata": {},
   "outputs": [],
   "source": []
  }
 ],
 "metadata": {
  "kernelspec": {
   "display_name": "Python 3",
   "language": "python",
   "name": "python3"
  },
  "language_info": {
   "codemirror_mode": {
    "name": "ipython",
    "version": 3
   },
   "file_extension": ".py",
   "mimetype": "text/x-python",
   "name": "python",
   "nbconvert_exporter": "python",
   "pygments_lexer": "ipython3",
   "version": "3.6.12"
  }
 },
 "nbformat": 4,
 "nbformat_minor": 5
}
