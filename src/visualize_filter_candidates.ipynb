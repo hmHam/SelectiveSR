{
 "cells": [
  {
   "cell_type": "code",
   "execution_count": 4,
   "metadata": {},
   "outputs": [
    {
     "name": "stdout",
     "output_type": "stream",
     "text": [
      "[[1. 1.]]\n",
      "[[0. 0.]]\n",
      "[[0.82400955 0.77677261]\n",
      " [0.34202328 0.97039057]\n",
      " [0.91747388 0.13976816]]\n"
     ]
    }
   ],
   "source": [
    "import numpy as np\n",
    "print(np.ones((1, 2)))\n",
    "print(np.zeros((1, 2)))\n",
    "print(np.random.rand(3, 2))"
   ]
  },
  {
   "cell_type": "code",
   "execution_count": 8,
   "metadata": {},
   "outputs": [
    {
     "data": {
      "text/plain": [
       "array([[[0.33506225, 0.04789221]]])"
      ]
     },
     "execution_count": 8,
     "metadata": {},
     "output_type": "execute_result"
    }
   ],
   "source": [
    "np.random.rand(1, 2)"
   ]
  },
  {
   "cell_type": "code",
   "execution_count": 1,
   "metadata": {},
   "outputs": [],
   "source": [
    "from scipy.stats import multivariate_normal\n",
    "import numpy as np\n",
    "from scipy.signal import fftconvolve\n",
    "from skimage import restoration\n",
    "\n",
    "std = 3.0\n",
    "f = np.vectorize(lambda x, y: multivariate_normal([0.0, 0.0], np.diag([std]*2)).pdf([x, y]))\n",
    "X, Y = np.meshgrid(np.arange(-2, 3, 1, dtype=np.float32), np.arange(-2, 3, 1, dtype=np.float32))\n",
    "kernel1 = f(X, Y)\n",
    "kernel1 = kernel1 / kernel1.sum()\n",
    "gauss_filt = kernel1\n",
    "\n",
    "np.random.seed(0)\n",
    "kernel2 = np.random.rand(*kernel1.shape)\n",
    "kernel2 = kernel2 / kernel2.sum()\n",
    "random_filt = kernel2\n",
    "\n",
    "kernel3 = np.ones_like(kernel1)\n",
    "kernel3 = kernel3 / kernel3.sum()\n",
    "smooth_filt = kernel3\n",
    "\n",
    "filt = []\n",
    "filt.append(lambda x: x)\n",
    "filt.append(lambda x: np.maximum(0, fftconvolve(x, kernel1, mode='same')))\n",
    "filt.append(lambda x: np.maximum(0, fftconvolve(x, kernel2, mode='same')))\n",
    "filt.append(lambda x: np.maximum(0, restoration.wiener(x, kernel1, 1e-2)))\n",
    "filt.append(lambda x: np.maximum(0, restoration.wiener(x, kernel2, 1e-2)))"
   ]
  },
  {
   "cell_type": "code",
   "execution_count": 2,
   "metadata": {},
   "outputs": [],
   "source": [
    "from matplotlib import pyplot as plt\n",
    "from torchvision import datasets\n",
    "\n",
    "data = datasets.MNIST(root='./data', train=False, download=True)\n",
    "img = data.data[0].numpy() / 255"
   ]
  },
  {
   "cell_type": "code",
   "execution_count": 3,
   "metadata": {},
   "outputs": [
    {
     "data": {
      "image/png": "[encoded data removed]",
      "text/plain": [
       "<Figure size 432x288 with 1 Axes>"
      ]
     },
     "metadata": {
      "needs_background": "light"
     },
     "output_type": "display_data"
    }
   ],
   "source": [
    "plt.imshow(img)\n",
    "plt.axis('off')\n",
    "plt.show()"
   ]
  },
  {
   "cell_type": "code",
   "execution_count": 6,
   "metadata": {},
   "outputs": [
    {
     "data": {
      "text/plain": [
       "(-0.5, 4.5, 4.5, -0.5)"
      ]
     },
     "execution_count": 6,
     "metadata": {},
     "output_type": "execute_result"
    },
    {
     "data": {
      "image/png": "[encoded data removed]",
      "text/plain": [
       "<Figure size 432x288 with 1 Axes>"
      ]
     },
     "metadata": {
      "needs_background": "light"
     },
     "output_type": "display_data"
    }
   ],
   "source": [
    "plt.imshow(kernel3)\n",
    "plt.axis('off')"
   ]
  },
  {
   "cell_type": "code",
   "execution_count": 7,
   "metadata": {},
   "outputs": [
    {
     "data": {
      "text/plain": [
       "(-0.5, 4.5, 4.5, -0.5)"
      ]
     },
     "execution_count": 7,
     "metadata": {},
     "output_type": "execute_result"
    },
    {
     "data": {
      "image/png": "[encoded data removed]",
      "text/plain": [
       "<Figure size 432x288 with 1 Axes>"
      ]
     },
     "metadata": {
      "needs_background": "light"
     },
     "output_type": "display_data"
    }
   ],
   "source": [
    "plt.imshow(kernel1)\n",
    "plt.axis('off')"
   ]
  },
  {
   "cell_type": "code",
   "execution_count": null,
   "metadata": {},
   "outputs": [],
   "source": []
  }
 ],
 "metadata": {
  "kernelspec": {
   "display_name": "Python 3",
   "language": "python",
   "name": "python3"
  },
  "language_info": {
   "codemirror_mode": {
    "name": "ipython",
    "version": 3
   },
   "file_extension": ".py",
   "mimetype": "text/x-python",
   "name": "python",
   "nbconvert_exporter": "python",
   "pygments_lexer": "ipython3",
   "version": "3.6.12"
  }
 },
 "nbformat": 4,
 "nbformat_minor": 4
}
